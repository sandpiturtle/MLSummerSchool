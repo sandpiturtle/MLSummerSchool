{
 "cells": [
  {
   "cell_type": "code",
   "execution_count": 12,
   "metadata": {
    "ExecuteTime": {
     "end_time": "2017-07-24T12:34:29.478293",
     "start_time": "2017-07-24T12:34:29.474513"
    },
    "collapsed": true
   },
   "outputs": [],
   "source": [
    "import pandas as pd"
   ]
  },
  {
   "cell_type": "code",
   "execution_count": 13,
   "metadata": {
    "ExecuteTime": {
     "end_time": "2017-07-24T12:34:29.807442",
     "start_time": "2017-07-24T12:34:29.729898"
    },
    "collapsed": true
   },
   "outputs": [],
   "source": [
    "train = pd.read_csv( 'data/ShelterOutcomes/train.csv')"
   ]
  },
  {
   "cell_type": "code",
   "execution_count": 14,
   "metadata": {
    "ExecuteTime": {
     "end_time": "2017-07-24T12:34:30.023179",
     "start_time": "2017-07-24T12:34:30.005466"
    },
    "collapsed": false
   },
   "outputs": [
    {
     "data": {
      "text/html": [
       "<div>\n",
       "<style>\n",
       "    .dataframe thead tr:only-child th {\n",
       "        text-align: right;\n",
       "    }\n",
       "\n",
       "    .dataframe thead th {\n",
       "        text-align: left;\n",
       "    }\n",
       "\n",
       "    .dataframe tbody tr th {\n",
       "        vertical-align: top;\n",
       "    }\n",
       "</style>\n",
       "<table border=\"1\" class=\"dataframe\">\n",
       "  <thead>\n",
       "    <tr style=\"text-align: right;\">\n",
       "      <th></th>\n",
       "      <th>AnimalID</th>\n",
       "      <th>Name</th>\n",
       "      <th>DateTime</th>\n",
       "      <th>OutcomeType</th>\n",
       "      <th>AnimalType</th>\n",
       "      <th>SexuponOutcome</th>\n",
       "      <th>AgeuponOutcome</th>\n",
       "      <th>Breed</th>\n",
       "      <th>Color</th>\n",
       "    </tr>\n",
       "  </thead>\n",
       "  <tbody>\n",
       "    <tr>\n",
       "      <th>0</th>\n",
       "      <td>A671945</td>\n",
       "      <td>Hambone</td>\n",
       "      <td>2014-02-12 18:22:00</td>\n",
       "      <td>Return_to_owner</td>\n",
       "      <td>Dog</td>\n",
       "      <td>Neutered Male</td>\n",
       "      <td>1 year</td>\n",
       "      <td>Shetland Sheepdog Mix</td>\n",
       "      <td>Brown/White</td>\n",
       "    </tr>\n",
       "    <tr>\n",
       "      <th>1</th>\n",
       "      <td>A656520</td>\n",
       "      <td>Emily</td>\n",
       "      <td>2013-10-13 12:44:00</td>\n",
       "      <td>Euthanasia</td>\n",
       "      <td>Cat</td>\n",
       "      <td>Spayed Female</td>\n",
       "      <td>1 year</td>\n",
       "      <td>Domestic Shorthair Mix</td>\n",
       "      <td>Cream Tabby</td>\n",
       "    </tr>\n",
       "    <tr>\n",
       "      <th>2</th>\n",
       "      <td>A686464</td>\n",
       "      <td>Pearce</td>\n",
       "      <td>2015-01-31 12:28:00</td>\n",
       "      <td>Adoption</td>\n",
       "      <td>Dog</td>\n",
       "      <td>Neutered Male</td>\n",
       "      <td>2 years</td>\n",
       "      <td>Pit Bull Mix</td>\n",
       "      <td>Blue/White</td>\n",
       "    </tr>\n",
       "    <tr>\n",
       "      <th>3</th>\n",
       "      <td>A677334</td>\n",
       "      <td>Elsa</td>\n",
       "      <td>2014-04-25 13:04:00</td>\n",
       "      <td>Transfer</td>\n",
       "      <td>Dog</td>\n",
       "      <td>Intact Female</td>\n",
       "      <td>1 month</td>\n",
       "      <td>Cairn Terrier/Chihuahua Shorthair</td>\n",
       "      <td>Black/Tan</td>\n",
       "    </tr>\n",
       "    <tr>\n",
       "      <th>4</th>\n",
       "      <td>A699218</td>\n",
       "      <td>Jimmy</td>\n",
       "      <td>2015-03-28 13:11:00</td>\n",
       "      <td>Transfer</td>\n",
       "      <td>Cat</td>\n",
       "      <td>Intact Male</td>\n",
       "      <td>3 weeks</td>\n",
       "      <td>Domestic Shorthair Mix</td>\n",
       "      <td>Blue Tabby</td>\n",
       "    </tr>\n",
       "  </tbody>\n",
       "</table>\n",
       "</div>"
      ],
      "text/plain": [
       "  AnimalID     Name             DateTime      OutcomeType AnimalType  \\\n",
       "0  A671945  Hambone  2014-02-12 18:22:00  Return_to_owner        Dog   \n",
       "1  A656520    Emily  2013-10-13 12:44:00       Euthanasia        Cat   \n",
       "2  A686464   Pearce  2015-01-31 12:28:00         Adoption        Dog   \n",
       "3  A677334     Elsa  2014-04-25 13:04:00         Transfer        Dog   \n",
       "4  A699218    Jimmy  2015-03-28 13:11:00         Transfer        Cat   \n",
       "\n",
       "  SexuponOutcome AgeuponOutcome                              Breed  \\\n",
       "0  Neutered Male         1 year              Shetland Sheepdog Mix   \n",
       "1  Spayed Female         1 year             Domestic Shorthair Mix   \n",
       "2  Neutered Male        2 years                       Pit Bull Mix   \n",
       "3  Intact Female        1 month  Cairn Terrier/Chihuahua Shorthair   \n",
       "4    Intact Male        3 weeks             Domestic Shorthair Mix   \n",
       "\n",
       "         Color  \n",
       "0  Brown/White  \n",
       "1  Cream Tabby  \n",
       "2   Blue/White  \n",
       "3    Black/Tan  \n",
       "4   Blue Tabby  "
      ]
     },
     "execution_count": 14,
     "metadata": {},
     "output_type": "execute_result"
    }
   ],
   "source": [
    "train.head()"
   ]
  },
  {
   "cell_type": "markdown",
   "metadata": {},
   "source": [
    "<img src=\"images/animals.jpg\">"
   ]
  },
  {
   "cell_type": "markdown",
   "metadata": {},
   "source": [
    "# Итоги\n",
    "\n",
    "1. __0.75293__ Никита Покидышев \n",
    "2. __0.80680__ Андрей Оганесян\n",
    "3. __0.84204__ Суходолов Денис\n",
    "4. __0.84222__ Максим Прохоров\n",
    "5. __0.87510__ Джульетта Куроян\n",
    "6. __0.94096__ Марк Лукин\n",
    "\n",
    "Все красавчики!"
   ]
  },
  {
   "cell_type": "markdown",
   "metadata": {},
   "source": [
    "# Обработка"
   ]
  },
  {
   "cell_type": "markdown",
   "metadata": {
    "collapsed": true
   },
   "source": [
    "## Попробовали реализовать\n",
    "\n",
    "* Возраст преобразовывали в дни или года. Разумно было количество дней прологарифмировать.\n",
    "* С кличкой было неплохо добавить столбец ее присутствия.\n",
    "* DateTime записи никто не эксплуатировал, и славненько: в этих данных был лик.\n",
    "* Из пола правильно, что извлекли фертильность.\n",
    "* К породам подошли по-разному, и прозвучало много хороших идей:\n",
    "    * Кодировать только самые популярные породы, все остальные пометить отдельным флажком _\"other\"_\n",
    "    * Использовать счетчики, чтобы посмотреть, какие породы чаще забирают, или транспортируют, и пустить это отдельным признаком.\n",
    "* Использовали разные модели для фертильных и нефертильных.\n",
    "\n",
    "## Новые идеи\n",
    "\n",
    "* Никто не пробовал построить разные модели для кошек и собак.\n",
    "* Кажется, мало извлекли из признака раскраски шерсти. Или он просто оказался незначимым?\n",
    "* Также можно попробовать построить модели на уровне _\"объекты одного класса vs. все остальное\"_"
   ]
  },
  {
   "cell_type": "markdown",
   "metadata": {},
   "source": [
    "# Модели"
   ]
  },
  {
   "cell_type": "markdown",
   "metadata": {
    "collapsed": true
   },
   "source": [
    "* Кажется, все, кто участвовал, уже были наслышаны о RandomForest, и успешно его применили.\n",
    "* Простая полносвязная нейронная сеть дала классные результаты, тоже здорово!"
   ]
  }
 ],
 "metadata": {
  "kernelspec": {
   "display_name": "Python 3",
   "language": "python",
   "name": "python3"
  },
  "language_info": {
   "codemirror_mode": {
    "name": "ipython",
    "version": 3
   },
   "file_extension": ".py",
   "mimetype": "text/x-python",
   "name": "python",
   "nbconvert_exporter": "python",
   "pygments_lexer": "ipython3",
   "version": "3.6.0"
  },
  "toc": {
   "colors": {
    "hover_highlight": "#DAA520",
    "running_highlight": "#FF0000",
    "selected_highlight": "#FFD700"
   },
   "moveMenuLeft": true,
   "nav_menu": {
    "height": "66px",
    "width": "252px"
   },
   "navigate_menu": true,
   "number_sections": true,
   "sideBar": true,
   "threshold": 4,
   "toc_cell": false,
   "toc_section_display": "block",
   "toc_window_display": false
  }
 },
 "nbformat": 4,
 "nbformat_minor": 2
}
