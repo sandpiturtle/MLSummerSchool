{
 "cells": [
  {
   "cell_type": "markdown",
   "metadata": {},
   "source": [
    "# Оптимальный подбор алгоритмов гиперпараметров"
   ]
  },
  {
   "cell_type": "markdown",
   "metadata": {},
   "source": [
    "* [__Scikit-optimize__](https://scikit-optimize.github.io/) - классический Байесовский подход, схожий с `RandomSearchCV` из sklearn, но более удобным и гибким интерфейсом.\n",
    "    * Тетрадь с [примером](https://github.com/scikit-optimize/scikit-optimize/blob/master/examples/sklearn-gridsearchcv-replacement.ipynb)\n",
    "    \n",
    "    \n",
    "* [__HyperOpt-SKLearn__](http://hyperopt.github.io/hyperopt-sklearn/) - использует деревья Парзеновских классификаторов, чтобы учитывать не только влияние значения некоторого параметра на прирост в целевой функции, но и влияние взаимодействия параметров.\n",
    "    * [Пример](http://fastml.com/optimizing-hyperparams-with-hyperopt/) оптимизации.\n",
    "\n",
    "\n",
    "* [__TPOT__](https://github.com/rhiever/tpot) - оптимизация всего пайплайна: от построения признаков до нахождения лучших параметров моделей, - с помощью генетического программирования.\n",
    "    * Некоторые вещи, которые делает TPOT, не очень понятны: например, многократное применение PCA. Handle with care."
   ]
  },
  {
   "cell_type": "markdown",
   "metadata": {},
   "source": [
    "---"
   ]
  },
  {
   "cell_type": "markdown",
   "metadata": {},
   "source": [
    "Базовая интуиция о Байесовской оптимизации: https://thuijskens.github.io/2016/12/29/bayesian-optimisation/"
   ]
  },
  {
   "cell_type": "markdown",
   "metadata": {},
   "source": [
    "# Стэкинг, блэндинг из коробки"
   ]
  },
  {
   "cell_type": "markdown",
   "metadata": {},
   "source": [
    "* [__`Heamy`__](http://heamy.readthedocs.io/en/latest/)\n",
    "* [__`Brew`__](https://github.com/viisar/brew)"
   ]
  }
 ],
 "metadata": {
  "kernelspec": {
   "display_name": "Python 3",
   "language": "python",
   "name": "python3"
  },
  "language_info": {
   "codemirror_mode": {
    "name": "ipython",
    "version": 3
   },
   "file_extension": ".py",
   "mimetype": "text/x-python",
   "name": "python",
   "nbconvert_exporter": "python",
   "pygments_lexer": "ipython3",
   "version": "3.6.0"
  },
  "toc": {
   "colors": {
    "hover_highlight": "#DAA520",
    "running_highlight": "#FF0000",
    "selected_highlight": "#FFD700"
   },
   "moveMenuLeft": true,
   "nav_menu": {
    "height": "48px",
    "width": "252px"
   },
   "navigate_menu": true,
   "number_sections": true,
   "sideBar": true,
   "threshold": 4,
   "toc_cell": false,
   "toc_section_display": "block",
   "toc_window_display": false
  }
 },
 "nbformat": 4,
 "nbformat_minor": 2
}
