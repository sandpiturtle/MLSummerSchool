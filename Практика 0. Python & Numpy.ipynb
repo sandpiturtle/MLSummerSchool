{
 "cells": [
  {
   "cell_type": "markdown",
   "metadata": {},
   "source": [
    "Абсолютно все задачи ниже решаются в одну строку. Если у вас не получилось сразу - думайте еще! :)"
   ]
  },
  {
   "cell_type": "markdown",
   "metadata": {},
   "source": [
    "<div class=\"panel panel-info\" style=\"margin: 50px 0 0 0\">\n",
    "    <div class=\"panel-heading\">\n",
    "        <h3 class=\"panel-title\">Задача 1.</h3> \n",
    "    </div>\n",
    "</div>\n",
    "\n",
    "Переверните список и оставьте только слова длиннее трех букв."
   ]
  },
  {
   "cell_type": "code",
   "execution_count": 1,
   "metadata": {
    "ExecuteTime": {
     "end_time": "2017-07-16T17:53:33.557253",
     "start_time": "2017-07-16T17:53:33.543504"
    },
    "collapsed": true
   },
   "outputs": [],
   "source": [
    "a = ['abc', 'hdok', 'banc', 'xkm', 'pckdax']"
   ]
  },
  {
   "cell_type": "code",
   "execution_count": 2,
   "metadata": {
    "ExecuteTime": {
     "end_time": "2017-07-16T17:56:33.497813",
     "start_time": "2017-07-16T17:56:33.494077"
    }
   },
   "outputs": [
    {
     "data": {
      "text/plain": [
       "['pckdax', 'banc', 'hdok']"
      ]
     },
     "execution_count": 2,
     "metadata": {},
     "output_type": "execute_result"
    }
   ],
   "source": [
    "[x for x in a[::-1] if len(x) > 3]"
   ]
  },
  {
   "cell_type": "markdown",
   "metadata": {},
   "source": [
    "<div class=\"panel panel-info\" style=\"margin: 50px 0 0 0\">\n",
    "    <div class=\"panel-heading\">\n",
    "        <h3 class=\"panel-title\">Задача 2.</h3> \n",
    "    </div>\n",
    "</div>\n",
    "\n",
    "Сделайте из списка списков одноуровневый список, в котором будут идти подряд все элементы: $1,2,3,4..$"
   ]
  },
  {
   "cell_type": "code",
   "execution_count": 3,
   "metadata": {
    "ExecuteTime": {
     "end_time": "2017-07-16T17:58:05.541630",
     "start_time": "2017-07-16T17:58:05.537403"
    },
    "collapsed": true
   },
   "outputs": [],
   "source": [
    "a = [[1,2,3], [4,5], [6]]"
   ]
  },
  {
   "cell_type": "code",
   "execution_count": 4,
   "metadata": {
    "ExecuteTime": {
     "end_time": "2017-07-16T18:00:27.137492",
     "start_time": "2017-07-16T18:00:27.134509"
    }
   },
   "outputs": [
    {
     "data": {
      "text/plain": [
       "[1, 2, 3, 4, 5, 6]"
      ]
     },
     "execution_count": 4,
     "metadata": {},
     "output_type": "execute_result"
    }
   ],
   "source": [
    "[elem for sublist in a for elem in sublist]"
   ]
  },
  {
   "cell_type": "markdown",
   "metadata": {},
   "source": [
    "<div class=\"panel panel-info\" style=\"margin: 50px 0 0 0\">\n",
    "    <div class=\"panel-heading\">\n",
    "        <h3 class=\"panel-title\">Задача 3.</h3> \n",
    "    </div>\n",
    "</div>\n",
    "\n",
    "Переверните словарь: сделайте его значениями его ключи, а ключами - значения."
   ]
  },
  {
   "cell_type": "code",
   "execution_count": 5,
   "metadata": {
    "ExecuteTime": {
     "end_time": "2017-07-16T17:58:46.189935",
     "start_time": "2017-07-16T17:58:46.183575"
    },
    "collapsed": true
   },
   "outputs": [],
   "source": [
    "d = {'a': 'b', 'c': 'd', 'e': 'f'}"
   ]
  },
  {
   "cell_type": "code",
   "execution_count": 6,
   "metadata": {
    "ExecuteTime": {
     "end_time": "2017-07-16T18:00:27.137492",
     "start_time": "2017-07-16T18:00:27.134509"
    }
   },
   "outputs": [
    {
     "data": {
      "text/plain": [
       "{'b': 'a', 'd': 'c', 'f': 'e'}"
      ]
     },
     "execution_count": 6,
     "metadata": {},
     "output_type": "execute_result"
    }
   ],
   "source": [
    "{v: k for k, v in d.items()}"
   ]
  },
  {
   "cell_type": "markdown",
   "metadata": {},
   "source": [
    "<div class=\"panel panel-info\" style=\"margin: 50px 0 0 0\">\n",
    "    <div class=\"panel-heading\">\n",
    "        <h3 class=\"panel-title\">Задача 4.</h3> \n",
    "    </div>\n",
    "</div>\n",
    "\n",
    "Вычтите из данного массива единичную матрицу и транспонируйте результат"
   ]
  },
  {
   "cell_type": "code",
   "execution_count": 10,
   "metadata": {
    "ExecuteTime": {
     "end_time": "2017-07-16T18:00:26.743209",
     "start_time": "2017-07-16T18:00:26.737052"
    },
    "collapsed": true
   },
   "outputs": [],
   "source": [
    "import numpy as np\n",
    "a = np.array([[1,2,3], [4,5,6]])"
   ]
  },
  {
   "cell_type": "code",
   "execution_count": 11,
   "metadata": {
    "ExecuteTime": {
     "end_time": "2017-07-16T18:00:27.137492",
     "start_time": "2017-07-16T18:00:27.134509"
    }
   },
   "outputs": [
    {
     "data": {
      "text/plain": [
       "array([[ 0.,  4.],\n",
       "       [ 2.,  4.],\n",
       "       [ 3.,  6.]])"
      ]
     },
     "execution_count": 11,
     "metadata": {},
     "output_type": "execute_result"
    }
   ],
   "source": [
    "np.transpose(np.vstack((a,[0,0,0])) - np.identity(3))[:,0:2]"
   ]
  },
  {
   "cell_type": "markdown",
   "metadata": {},
   "source": [
    "<div class=\"panel panel-info\" style=\"margin: 50px 0 0 0\">\n",
    "    <div class=\"panel-heading\">\n",
    "        <h3 class=\"panel-title\">Задача 5.</h3> \n",
    "    </div>\n",
    "</div>\n",
    "\n",
    "Создайте функцию, которая находит то же значение, что и $F$, только принимает как параметр лишь размер матрицы $N$.\n",
    "\n",
    "Напишите ее, используя возможности Numpy."
   ]
  },
  {
   "cell_type": "code",
   "execution_count": 12,
   "metadata": {
    "ExecuteTime": {
     "end_time": "2017-07-16T18:22:38.780038",
     "start_time": "2017-07-16T18:22:38.776806"
    },
    "collapsed": true
   },
   "outputs": [],
   "source": [
    "N = 10"
   ]
  },
  {
   "cell_type": "code",
   "execution_count": 13,
   "metadata": {
    "ExecuteTime": {
     "end_time": "2017-07-16T18:22:40.218688",
     "start_time": "2017-07-16T18:22:40.208903"
    }
   },
   "outputs": [
    {
     "data": {
      "text/plain": [
       "array([[  1,   2,   3,   4,   5,   6,   7,   8,   9,  10],\n",
       "       [ 11,  12,  13,  14,  15,  16,  17,  18,  19,  20],\n",
       "       [ 21,  22,  23,  24,  25,  26,  27,  28,  29,  30],\n",
       "       [ 31,  32,  33,  34,  35,  36,  37,  38,  39,  40],\n",
       "       [ 41,  42,  43,  44,  45,  46,  47,  48,  49,  50],\n",
       "       [ 51,  52,  53,  54,  55,  56,  57,  58,  59,  60],\n",
       "       [ 61,  62,  63,  64,  65,  66,  67,  68,  69,  70],\n",
       "       [ 71,  72,  73,  74,  75,  76,  77,  78,  79,  80],\n",
       "       [ 81,  82,  83,  84,  85,  86,  87,  88,  89,  90],\n",
       "       [ 91,  92,  93,  94,  95,  96,  97,  98,  99, 100]])"
      ]
     },
     "execution_count": 13,
     "metadata": {},
     "output_type": "execute_result"
    }
   ],
   "source": [
    "a = np.array([range(1, N**2 + 1)]).reshape(N, -1)\n",
    "a"
   ]
  },
  {
   "cell_type": "code",
   "execution_count": 14,
   "metadata": {
    "ExecuteTime": {
     "end_time": "2017-07-16T18:22:40.745298",
     "start_time": "2017-07-16T18:22:40.741864"
    },
    "collapsed": true
   },
   "outputs": [],
   "source": [
    "F = lambda matrix: np.sum(np.diag(matrix))"
   ]
  },
  {
   "cell_type": "code",
   "execution_count": 15,
   "metadata": {
    "ExecuteTime": {
     "end_time": "2017-07-16T18:22:41.234177",
     "start_time": "2017-07-16T18:22:41.229577"
    }
   },
   "outputs": [
    {
     "data": {
      "text/plain": [
       "505"
      ]
     },
     "execution_count": 15,
     "metadata": {},
     "output_type": "execute_result"
    }
   ],
   "source": [
    "F(a)"
   ]
  },
  {
   "cell_type": "markdown",
   "metadata": {},
   "source": [
    "&nbsp;"
   ]
  },
  {
   "cell_type": "code",
   "execution_count": 17,
   "metadata": {
    "collapsed": true
   },
   "outputs": [],
   "source": [
    "MyF = lambda K: np.sum([x*K + x + 1 for x in range(K)])"
   ]
  },
  {
   "cell_type": "code",
   "execution_count": 22,
   "metadata": {},
   "outputs": [
    {
     "data": {
      "text/plain": [
       "505"
      ]
     },
     "execution_count": 22,
     "metadata": {},
     "output_type": "execute_result"
    }
   ],
   "source": [
    "MyF(N)"
   ]
  }
 ],
 "metadata": {
  "kernelspec": {
   "display_name": "Python 3",
   "language": "python",
   "name": "python3"
  },
  "language_info": {
   "codemirror_mode": {
    "name": "ipython",
    "version": 3
   },
   "file_extension": ".py",
   "mimetype": "text/x-python",
   "name": "python",
   "nbconvert_exporter": "python",
   "pygments_lexer": "ipython3",
   "version": "3.5.3"
  },
  "toc": {
   "colors": {
    "hover_highlight": "#DAA520",
    "running_highlight": "#FF0000",
    "selected_highlight": "#FFD700"
   },
   "moveMenuLeft": true,
   "nav_menu": {
    "height": "120px",
    "width": "252px"
   },
   "navigate_menu": true,
   "number_sections": true,
   "sideBar": true,
   "threshold": 4,
   "toc_cell": false,
   "toc_section_display": "block",
   "toc_window_display": false
  }
 },
 "nbformat": 4,
 "nbformat_minor": 2
}
