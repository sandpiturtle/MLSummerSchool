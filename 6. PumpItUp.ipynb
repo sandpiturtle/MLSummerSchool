{
 "cells": [
  {
   "cell_type": "code",
   "execution_count": 1,
   "metadata": {
    "ExecuteTime": {
     "end_time": "2017-07-25T11:43:44.818732",
     "start_time": "2017-07-25T11:43:44.810735"
    },
    "collapsed": true
   },
   "outputs": [],
   "source": [
    "import pandas as pd\n",
    "pd.options.display.max_columns = 200\n",
    "\n",
    "import numpy as np\n",
    "import pickle\n",
    "\n",
    "import matplotlib.pyplot as plt\n",
    "%matplotlib inline"
   ]
  },
  {
   "cell_type": "markdown",
   "metadata": {},
   "source": [
    "# Exploring the data"
   ]
  },
  {
   "cell_type": "markdown",
   "metadata": {},
   "source": [
    "Data: https://www.drivendata.org/competitions/7/pump-it-up-data-mining-the-water-table/page/23/"
   ]
  },
  {
   "cell_type": "code",
   "execution_count": 2,
   "metadata": {
    "ExecuteTime": {
     "end_time": "2017-07-25T11:44:47.787521",
     "start_time": "2017-07-25T11:44:46.914095"
    }
   },
   "outputs": [],
   "source": [
    "problem = 'PumpItUp'\n",
    "train = pd.read_csv('data/' + problem + '/train.csv')\n",
    "labels = pd.read_csv('data/' + problem + '/train_labels.csv')\n",
    "test = pd.read_csv('data/' + problem + '/test.csv')"
   ]
  },
  {
   "cell_type": "code",
   "execution_count": 3,
   "metadata": {
    "ExecuteTime": {
     "end_time": "2017-07-25T11:45:51.622364",
     "start_time": "2017-07-25T11:45:51.619783"
    },
    "scrolled": false
   },
   "outputs": [
    {
     "data": {
      "text/html": [
       "<div>\n",
       "<style>\n",
       "    .dataframe thead tr:only-child th {\n",
       "        text-align: right;\n",
       "    }\n",
       "\n",
       "    .dataframe thead th {\n",
       "        text-align: left;\n",
       "    }\n",
       "\n",
       "    .dataframe tbody tr th {\n",
       "        vertical-align: top;\n",
       "    }\n",
       "</style>\n",
       "<table border=\"1\" class=\"dataframe\">\n",
       "  <thead>\n",
       "    <tr style=\"text-align: right;\">\n",
       "      <th></th>\n",
       "      <th>id</th>\n",
       "      <th>amount_tsh</th>\n",
       "      <th>date_recorded</th>\n",
       "      <th>funder</th>\n",
       "      <th>gps_height</th>\n",
       "      <th>installer</th>\n",
       "      <th>longitude</th>\n",
       "      <th>latitude</th>\n",
       "      <th>wpt_name</th>\n",
       "      <th>num_private</th>\n",
       "      <th>basin</th>\n",
       "      <th>subvillage</th>\n",
       "      <th>region</th>\n",
       "      <th>region_code</th>\n",
       "      <th>district_code</th>\n",
       "      <th>lga</th>\n",
       "      <th>ward</th>\n",
       "      <th>population</th>\n",
       "      <th>public_meeting</th>\n",
       "      <th>recorded_by</th>\n",
       "      <th>scheme_management</th>\n",
       "      <th>scheme_name</th>\n",
       "      <th>permit</th>\n",
       "      <th>construction_year</th>\n",
       "      <th>extraction_type</th>\n",
       "      <th>extraction_type_group</th>\n",
       "      <th>extraction_type_class</th>\n",
       "      <th>management</th>\n",
       "      <th>management_group</th>\n",
       "      <th>payment</th>\n",
       "      <th>payment_type</th>\n",
       "      <th>water_quality</th>\n",
       "      <th>quality_group</th>\n",
       "      <th>quantity</th>\n",
       "      <th>quantity_group</th>\n",
       "      <th>source</th>\n",
       "      <th>source_type</th>\n",
       "      <th>source_class</th>\n",
       "      <th>waterpoint_type</th>\n",
       "      <th>waterpoint_type_group</th>\n",
       "    </tr>\n",
       "  </thead>\n",
       "  <tbody>\n",
       "    <tr>\n",
       "      <th>0</th>\n",
       "      <td>69572</td>\n",
       "      <td>6000.0</td>\n",
       "      <td>2011-03-14</td>\n",
       "      <td>Roman</td>\n",
       "      <td>1390</td>\n",
       "      <td>Roman</td>\n",
       "      <td>34.938093</td>\n",
       "      <td>-9.856322</td>\n",
       "      <td>none</td>\n",
       "      <td>0</td>\n",
       "      <td>Lake Nyasa</td>\n",
       "      <td>Mnyusi B</td>\n",
       "      <td>Iringa</td>\n",
       "      <td>11</td>\n",
       "      <td>5</td>\n",
       "      <td>Ludewa</td>\n",
       "      <td>Mundindi</td>\n",
       "      <td>109</td>\n",
       "      <td>True</td>\n",
       "      <td>GeoData Consultants Ltd</td>\n",
       "      <td>VWC</td>\n",
       "      <td>Roman</td>\n",
       "      <td>False</td>\n",
       "      <td>1999</td>\n",
       "      <td>gravity</td>\n",
       "      <td>gravity</td>\n",
       "      <td>gravity</td>\n",
       "      <td>vwc</td>\n",
       "      <td>user-group</td>\n",
       "      <td>pay annually</td>\n",
       "      <td>annually</td>\n",
       "      <td>soft</td>\n",
       "      <td>good</td>\n",
       "      <td>enough</td>\n",
       "      <td>enough</td>\n",
       "      <td>spring</td>\n",
       "      <td>spring</td>\n",
       "      <td>groundwater</td>\n",
       "      <td>communal standpipe</td>\n",
       "      <td>communal standpipe</td>\n",
       "    </tr>\n",
       "  </tbody>\n",
       "</table>\n",
       "</div>"
      ],
      "text/plain": [
       "      id  amount_tsh date_recorded funder  gps_height installer  longitude  \\\n",
       "0  69572      6000.0    2011-03-14  Roman        1390     Roman  34.938093   \n",
       "\n",
       "   latitude wpt_name  num_private       basin subvillage  region  region_code  \\\n",
       "0 -9.856322     none            0  Lake Nyasa   Mnyusi B  Iringa           11   \n",
       "\n",
       "   district_code     lga      ward  population public_meeting  \\\n",
       "0              5  Ludewa  Mundindi         109           True   \n",
       "\n",
       "               recorded_by scheme_management scheme_name permit  \\\n",
       "0  GeoData Consultants Ltd               VWC       Roman  False   \n",
       "\n",
       "   construction_year extraction_type extraction_type_group  \\\n",
       "0               1999         gravity               gravity   \n",
       "\n",
       "  extraction_type_class management management_group       payment  \\\n",
       "0               gravity        vwc       user-group  pay annually   \n",
       "\n",
       "  payment_type water_quality quality_group quantity quantity_group  source  \\\n",
       "0     annually          soft          good   enough         enough  spring   \n",
       "\n",
       "  source_type source_class     waterpoint_type waterpoint_type_group  \n",
       "0      spring  groundwater  communal standpipe    communal standpipe  "
      ]
     },
     "metadata": {},
     "output_type": "display_data"
    },
    {
     "data": {
      "text/html": [
       "<div>\n",
       "<style>\n",
       "    .dataframe thead tr:only-child th {\n",
       "        text-align: right;\n",
       "    }\n",
       "\n",
       "    .dataframe thead th {\n",
       "        text-align: left;\n",
       "    }\n",
       "\n",
       "    .dataframe tbody tr th {\n",
       "        vertical-align: top;\n",
       "    }\n",
       "</style>\n",
       "<table border=\"1\" class=\"dataframe\">\n",
       "  <thead>\n",
       "    <tr style=\"text-align: right;\">\n",
       "      <th></th>\n",
       "      <th>id</th>\n",
       "      <th>amount_tsh</th>\n",
       "      <th>date_recorded</th>\n",
       "      <th>funder</th>\n",
       "      <th>gps_height</th>\n",
       "      <th>installer</th>\n",
       "      <th>longitude</th>\n",
       "      <th>latitude</th>\n",
       "      <th>wpt_name</th>\n",
       "      <th>num_private</th>\n",
       "      <th>basin</th>\n",
       "      <th>subvillage</th>\n",
       "      <th>region</th>\n",
       "      <th>region_code</th>\n",
       "      <th>district_code</th>\n",
       "      <th>lga</th>\n",
       "      <th>ward</th>\n",
       "      <th>population</th>\n",
       "      <th>public_meeting</th>\n",
       "      <th>recorded_by</th>\n",
       "      <th>scheme_management</th>\n",
       "      <th>scheme_name</th>\n",
       "      <th>permit</th>\n",
       "      <th>construction_year</th>\n",
       "      <th>extraction_type</th>\n",
       "      <th>extraction_type_group</th>\n",
       "      <th>extraction_type_class</th>\n",
       "      <th>management</th>\n",
       "      <th>management_group</th>\n",
       "      <th>payment</th>\n",
       "      <th>payment_type</th>\n",
       "      <th>water_quality</th>\n",
       "      <th>quality_group</th>\n",
       "      <th>quantity</th>\n",
       "      <th>quantity_group</th>\n",
       "      <th>source</th>\n",
       "      <th>source_type</th>\n",
       "      <th>source_class</th>\n",
       "      <th>waterpoint_type</th>\n",
       "      <th>waterpoint_type_group</th>\n",
       "    </tr>\n",
       "  </thead>\n",
       "  <tbody>\n",
       "    <tr>\n",
       "      <th>0</th>\n",
       "      <td>50785</td>\n",
       "      <td>0.0</td>\n",
       "      <td>2013-02-04</td>\n",
       "      <td>Dmdd</td>\n",
       "      <td>1996</td>\n",
       "      <td>DMDD</td>\n",
       "      <td>35.290799</td>\n",
       "      <td>-4.059696</td>\n",
       "      <td>Dinamu Secondary School</td>\n",
       "      <td>0</td>\n",
       "      <td>Internal</td>\n",
       "      <td>Magoma</td>\n",
       "      <td>Manyara</td>\n",
       "      <td>21</td>\n",
       "      <td>3</td>\n",
       "      <td>Mbulu</td>\n",
       "      <td>Bashay</td>\n",
       "      <td>321</td>\n",
       "      <td>True</td>\n",
       "      <td>GeoData Consultants Ltd</td>\n",
       "      <td>Parastatal</td>\n",
       "      <td>NaN</td>\n",
       "      <td>True</td>\n",
       "      <td>2012</td>\n",
       "      <td>other</td>\n",
       "      <td>other</td>\n",
       "      <td>other</td>\n",
       "      <td>parastatal</td>\n",
       "      <td>parastatal</td>\n",
       "      <td>never pay</td>\n",
       "      <td>never pay</td>\n",
       "      <td>soft</td>\n",
       "      <td>good</td>\n",
       "      <td>seasonal</td>\n",
       "      <td>seasonal</td>\n",
       "      <td>rainwater harvesting</td>\n",
       "      <td>rainwater harvesting</td>\n",
       "      <td>surface</td>\n",
       "      <td>other</td>\n",
       "      <td>other</td>\n",
       "    </tr>\n",
       "  </tbody>\n",
       "</table>\n",
       "</div>"
      ],
      "text/plain": [
       "      id  amount_tsh date_recorded funder  gps_height installer  longitude  \\\n",
       "0  50785         0.0    2013-02-04   Dmdd        1996      DMDD  35.290799   \n",
       "\n",
       "   latitude                 wpt_name  num_private     basin subvillage  \\\n",
       "0 -4.059696  Dinamu Secondary School            0  Internal     Magoma   \n",
       "\n",
       "    region  region_code  district_code    lga    ward  population  \\\n",
       "0  Manyara           21              3  Mbulu  Bashay         321   \n",
       "\n",
       "  public_meeting              recorded_by scheme_management scheme_name  \\\n",
       "0           True  GeoData Consultants Ltd        Parastatal         NaN   \n",
       "\n",
       "  permit  construction_year extraction_type extraction_type_group  \\\n",
       "0   True               2012           other                 other   \n",
       "\n",
       "  extraction_type_class  management management_group    payment payment_type  \\\n",
       "0                 other  parastatal       parastatal  never pay    never pay   \n",
       "\n",
       "  water_quality quality_group  quantity quantity_group                source  \\\n",
       "0          soft          good  seasonal       seasonal  rainwater harvesting   \n",
       "\n",
       "            source_type source_class waterpoint_type waterpoint_type_group  \n",
       "0  rainwater harvesting      surface           other                 other  "
      ]
     },
     "metadata": {},
     "output_type": "display_data"
    },
    {
     "data": {
      "text/html": [
       "<div>\n",
       "<style>\n",
       "    .dataframe thead tr:only-child th {\n",
       "        text-align: right;\n",
       "    }\n",
       "\n",
       "    .dataframe thead th {\n",
       "        text-align: left;\n",
       "    }\n",
       "\n",
       "    .dataframe tbody tr th {\n",
       "        vertical-align: top;\n",
       "    }\n",
       "</style>\n",
       "<table border=\"1\" class=\"dataframe\">\n",
       "  <thead>\n",
       "    <tr style=\"text-align: right;\">\n",
       "      <th></th>\n",
       "      <th>id</th>\n",
       "      <th>status_group</th>\n",
       "    </tr>\n",
       "  </thead>\n",
       "  <tbody>\n",
       "    <tr>\n",
       "      <th>0</th>\n",
       "      <td>69572</td>\n",
       "      <td>functional</td>\n",
       "    </tr>\n",
       "  </tbody>\n",
       "</table>\n",
       "</div>"
      ],
      "text/plain": [
       "      id status_group\n",
       "0  69572   functional"
      ]
     },
     "metadata": {},
     "output_type": "display_data"
    }
   ],
   "source": [
    "display(train.head(1))\n",
    "display(test.head(1))\n",
    "display(labels.head(1))"
   ]
  },
  {
   "cell_type": "code",
   "execution_count": 5,
   "metadata": {},
   "outputs": [
    {
     "data": {
      "text/html": [
       "<div>\n",
       "<style>\n",
       "    .dataframe thead tr:only-child th {\n",
       "        text-align: right;\n",
       "    }\n",
       "\n",
       "    .dataframe thead th {\n",
       "        text-align: left;\n",
       "    }\n",
       "\n",
       "    .dataframe tbody tr th {\n",
       "        vertical-align: top;\n",
       "    }\n",
       "</style>\n",
       "<table border=\"1\" class=\"dataframe\">\n",
       "  <thead>\n",
       "    <tr style=\"text-align: right;\">\n",
       "      <th></th>\n",
       "      <th>train</th>\n",
       "      <th>test</th>\n",
       "    </tr>\n",
       "  </thead>\n",
       "  <tbody>\n",
       "    <tr>\n",
       "      <th>funder</th>\n",
       "      <td>3635</td>\n",
       "      <td>869</td>\n",
       "    </tr>\n",
       "    <tr>\n",
       "      <th>installer</th>\n",
       "      <td>3655</td>\n",
       "      <td>877</td>\n",
       "    </tr>\n",
       "    <tr>\n",
       "      <th>subvillage</th>\n",
       "      <td>371</td>\n",
       "      <td>99</td>\n",
       "    </tr>\n",
       "    <tr>\n",
       "      <th>public_meeting</th>\n",
       "      <td>3334</td>\n",
       "      <td>821</td>\n",
       "    </tr>\n",
       "    <tr>\n",
       "      <th>scheme_management</th>\n",
       "      <td>3877</td>\n",
       "      <td>969</td>\n",
       "    </tr>\n",
       "    <tr>\n",
       "      <th>scheme_name</th>\n",
       "      <td>28166</td>\n",
       "      <td>7092</td>\n",
       "    </tr>\n",
       "    <tr>\n",
       "      <th>permit</th>\n",
       "      <td>3056</td>\n",
       "      <td>737</td>\n",
       "    </tr>\n",
       "  </tbody>\n",
       "</table>\n",
       "</div>"
      ],
      "text/plain": [
       "                   train  test\n",
       "funder              3635   869\n",
       "installer           3655   877\n",
       "subvillage           371    99\n",
       "public_meeting      3334   821\n",
       "scheme_management   3877   969\n",
       "scheme_name        28166  7092\n",
       "permit              3056   737"
      ]
     },
     "execution_count": 5,
     "metadata": {},
     "output_type": "execute_result"
    }
   ],
   "source": [
    "train_nulls = train.isnull().sum()\n",
    "test_nulls = test.isnull().sum()\n",
    "nulls = pd.concat([train_nulls[train_nulls != 0], \n",
    "                   test_nulls[test_nulls != 0]], axis=1)\n",
    "nulls.columns = ['train', 'test']\n",
    "nulls"
   ]
  },
  {
   "cell_type": "markdown",
   "metadata": {},
   "source": [
    "# Preprocessing"
   ]
  },
  {
   "cell_type": "code",
   "execution_count": 6,
   "metadata": {
    "ExecuteTime": {
     "end_time": "2017-07-25T11:45:57.750902",
     "start_time": "2017-07-25T11:45:57.745106"
    },
    "collapsed": true
   },
   "outputs": [],
   "source": [
    "def reduce_factor_levels(df, column_name, limit=None, top=None, name=None):\n",
    "    assert(limit is not None or top is not None), 'Specify limit ot top'\n",
    "    if top is None:\n",
    "        top = df[column_name].value_counts()[:limit].index\n",
    "    if name is None:\n",
    "        name = '%s_OTHER' % column_name\n",
    "    df.loc[~df[column_name].isin(top), column_name] = name\n",
    "    return top"
   ]
  },
  {
   "cell_type": "code",
   "execution_count": null,
   "metadata": {
    "ExecuteTime": {
     "end_time": "2017-07-25T11:45:58.259697",
     "start_time": "2017-07-25T11:45:58.140849"
    }
   },
   "outputs": [],
   "source": [
    "top = reduce_factor_levels(df, 'funder', 10)\n",
    "reduce_factor_levels(df_test, 'funder', top=top);\n",
    "\n",
    "top = reduce_factor_levels(df, 'installer', 10)\n",
    "reduce_factor_levels(df_test, 'installer', top=top);"
   ]
  },
  {
   "cell_type": "code",
   "execution_count": null,
   "metadata": {
    "ExecuteTime": {
     "end_time": "2017-07-25T11:45:58.634685",
     "start_time": "2017-07-25T11:45:58.606891"
    },
    "collapsed": true
   },
   "outputs": [],
   "source": [
    "drop = ['wpt_name', 'num_private', 'subvillage', 'region_code', 'district_code', 'lga', 'ward', 'recorded_by', 'scheme_name']\n",
    "\n",
    "df.drop(drop, axis=1, inplace=True)\n",
    "df_test.drop(drop, axis=1, inplace=True)"
   ]
  },
  {
   "cell_type": "code",
   "execution_count": null,
   "metadata": {
    "ExecuteTime": {
     "end_time": "2017-07-25T11:45:59.021427",
     "start_time": "2017-07-25T11:45:58.999154"
    },
    "collapsed": true
   },
   "outputs": [],
   "source": [
    "df.loc[df.scheme_management == 'None', 'scheme_management'] = ''\n",
    "df.loc[df.scheme_management.isnull(), 'scheme_management'] = ''\n",
    "\n",
    "df_test.loc[df_test.scheme_management.isnull(), 'scheme_management'] = ''"
   ]
  },
  {
   "cell_type": "code",
   "execution_count": null,
   "metadata": {
    "ExecuteTime": {
     "end_time": "2017-07-25T11:45:59.399190",
     "start_time": "2017-07-25T11:45:59.391367"
    },
    "collapsed": true
   },
   "outputs": [],
   "source": [
    "df['construction_date_known'] = (df.construction_year > 0).astype(np.int32)\n",
    "df_test['construction_date_known'] = (df_test.construction_year > 0).astype(np.int32)"
   ]
  },
  {
   "cell_type": "code",
   "execution_count": null,
   "metadata": {
    "ExecuteTime": {
     "end_time": "2017-07-25T11:45:59.839112",
     "start_time": "2017-07-25T11:45:59.808318"
    },
    "collapsed": true
   },
   "outputs": [],
   "source": [
    "min_year = df[df.construction_year > 0].construction_year.min() // 10 - 1\n",
    "\n",
    "df['construction_decade'] = df.construction_year // 10 - min_year\n",
    "df_test['construction_decade'] = df_test.construction_year // 10 - min_year\n",
    "\n",
    "df.loc[df.construction_decade < 0, 'construction_decade'] = 0\n",
    "df_test.loc[df_test.construction_decade < 0, 'construction_decade'] = 0"
   ]
  },
  {
   "cell_type": "code",
   "execution_count": null,
   "metadata": {
    "ExecuteTime": {
     "end_time": "2017-07-25T11:46:00.147440",
     "start_time": "2017-07-25T11:46:00.132709"
    },
    "collapsed": true
   },
   "outputs": [],
   "source": [
    "top = reduce_factor_levels(df, 'construction_year', 20)\n",
    "reduce_factor_levels(df_test, 'construction_year', top=top);"
   ]
  },
  {
   "cell_type": "code",
   "execution_count": null,
   "metadata": {
    "ExecuteTime": {
     "end_time": "2017-07-25T11:46:00.571709",
     "start_time": "2017-07-25T11:46:00.536218"
    },
    "collapsed": true
   },
   "outputs": [],
   "source": [
    "\n",
    "df.loc[df.extraction_type == 'other - mkulima/shinyanga', 'extraction_type'] = 'other'"
   ]
  },
  {
   "cell_type": "code",
   "execution_count": null,
   "metadata": {
    "ExecuteTime": {
     "end_time": "2017-07-25T11:46:01.007007",
     "start_time": "2017-07-25T11:46:00.965509"
    },
    "collapsed": true
   },
   "outputs": [],
   "source": [
    "heights = np.arange(-1, df.gps_height.max()+500, 500)\n",
    "height_labels = list(range(len(heights)-1))\n",
    "\n",
    "df['gps_height_rounded'] = pd.cut(df.gps_height, bins=heights, labels=height_labels)\n",
    "df_test['gps_height_rounded'] = pd.cut(df_test.gps_height, bins=heights, labels=height_labels)\n",
    "\n",
    "df.drop(['gps_height'], axis=1, inplace=True)\n",
    "df_test.drop(['gps_height'], axis=1, inplace=True)"
   ]
  },
  {
   "cell_type": "code",
   "execution_count": null,
   "metadata": {
    "ExecuteTime": {
     "end_time": "2017-07-25T11:46:01.405938",
     "start_time": "2017-07-25T11:46:01.371469"
    },
    "collapsed": true
   },
   "outputs": [],
   "source": [
    "pops = np.arange(-1, df.population.max()+500, 500)\n",
    "pops_labels = list(range(len(pops)-1))\n",
    "\n",
    "df['pop_rounded'] = pd.cut(df.population, bins=pops, labels=pops_labels)\n",
    "df_test['pop_rounded'] = pd.cut(df_test.population, bins=pops, labels=pops_labels)\n",
    "\n",
    "df.drop(['population'], axis=1, inplace=True)\n",
    "df_test.drop(['population'], axis=1, inplace=True)"
   ]
  },
  {
   "cell_type": "code",
   "execution_count": null,
   "metadata": {
    "ExecuteTime": {
     "end_time": "2017-07-25T11:46:02.914167",
     "start_time": "2017-07-25T11:46:02.891364"
    },
    "collapsed": true
   },
   "outputs": [],
   "source": [
    "df.drop(['date_recorded'], axis=1, inplace=True)\n",
    "df_test.drop(['date_recorded'], axis=1, inplace=True)"
   ]
  },
  {
   "cell_type": "code",
   "execution_count": null,
   "metadata": {
    "ExecuteTime": {
     "end_time": "2017-07-25T11:46:03.324955",
     "start_time": "2017-07-25T11:46:03.303671"
    },
    "collapsed": true
   },
   "outputs": [],
   "source": [
    "df.public_meeting.fillna(True, inplace=True)\n",
    "df_test.public_meeting.fillna(True, inplace=True)"
   ]
  },
  {
   "cell_type": "code",
   "execution_count": null,
   "metadata": {
    "ExecuteTime": {
     "end_time": "2017-07-25T11:46:03.746867",
     "start_time": "2017-07-25T11:46:03.725670"
    },
    "collapsed": true
   },
   "outputs": [],
   "source": [
    "df.permit.fillna(True, inplace=True)\n",
    "df_test.permit.fillna(True, inplace=True)"
   ]
  },
  {
   "cell_type": "code",
   "execution_count": null,
   "metadata": {
    "ExecuteTime": {
     "end_time": "2017-07-25T11:46:04.760107",
     "start_time": "2017-07-25T11:46:04.754408"
    },
    "collapsed": true
   },
   "outputs": [],
   "source": [
    "df.gps_height_rounded.fillna(0, inplace=True)\n",
    "df_test.gps_height_rounded.fillna(0, inplace=True)"
   ]
  },
  {
   "cell_type": "markdown",
   "metadata": {},
   "source": [
    "# Визуализация"
   ]
  },
  {
   "cell_type": "markdown",
   "metadata": {
    "ExecuteTime": {
     "end_time": "2017-07-25T11:46:26.438343",
     "start_time": "2017-07-25T11:46:26.435545"
    },
    "collapsed": true
   },
   "source": [
    "https://public.tableau.com/profile/calin.uioreanu#!/vizhome/DataMiningtheWaterTableDrivenData_com/Bubblestatusquantity"
   ]
  },
  {
   "cell_type": "markdown",
   "metadata": {},
   "source": [
    "# Модели"
   ]
  },
  {
   "cell_type": "code",
   "execution_count": null,
   "metadata": {
    "ExecuteTime": {
     "end_time": "2017-07-25T11:46:37.396648",
     "start_time": "2017-07-25T11:46:37.378335"
    },
    "collapsed": true
   },
   "outputs": [],
   "source": [
    "X, y, X_test = df.drop(['id', 'status_group'], axis=1), \\\n",
    "               df.status_group, \\\n",
    "               df_test.drop(['id'], axis=1)"
   ]
  },
  {
   "cell_type": "code",
   "execution_count": null,
   "metadata": {
    "ExecuteTime": {
     "end_time": "2017-07-25T11:46:38.445433",
     "start_time": "2017-07-25T11:46:38.407894"
    }
   },
   "outputs": [],
   "source": [
    "X.head(1)"
   ]
  },
  {
   "cell_type": "markdown",
   "metadata": {},
   "source": [
    "<div class=\"panel panel-warning\">\n",
    "    <div class=\"panel-heading\">\n",
    "        <h3 class=\"panel-title\">Обратите внимание</h3> \n",
    "    </div>\n",
    "</div>\n",
    "\n",
    "Вот эта функция ниже - опять мои штуки-дрюки, и можно кодировать данные по-своему."
   ]
  },
  {
   "cell_type": "code",
   "execution_count": null,
   "metadata": {
    "ExecuteTime": {
     "end_time": "2017-07-25T11:46:58.463355",
     "start_time": "2017-07-25T11:46:58.450572"
    },
    "collapsed": true
   },
   "outputs": [],
   "source": [
    "def prepare(X_train, X_test):\n",
    "    from sklearn.preprocessing import StandardScaler\n",
    "    from sklearn.feature_extraction import DictVectorizer\n",
    "    \n",
    "    objects = X_train.select_dtypes(include=['O']).columns.values\n",
    "    numeric = X_train.select_dtypes(exclude=['O']).columns.values\n",
    "    \n",
    "    dv = DictVectorizer(sparse=False)\n",
    "    data_encoded_tr = dv.fit_transform(X_train[objects].to_dict(orient='records'))\n",
    "    data_encoded_ts = dv.transform(X_test[objects].to_dict(orient='records'))\n",
    "\n",
    "    ss = StandardScaler()\n",
    "    data_scaled_tr = ss.fit_transform(X_train[numeric])\n",
    "    data_scaled_ts = ss.transform(X_test[numeric])\n",
    "    \n",
    "    train = np.hstack((data_encoded_tr, data_scaled_tr))\n",
    "    test  = np.hstack((data_encoded_ts, data_scaled_ts))\n",
    "    return train, test"
   ]
  },
  {
   "cell_type": "code",
   "execution_count": null,
   "metadata": {
    "ExecuteTime": {
     "end_time": "2017-07-25T11:47:05.391332",
     "start_time": "2017-07-25T11:47:00.997635"
    },
    "collapsed": true
   },
   "outputs": [],
   "source": [
    "x_train, x_test = prepare(X, X_test)"
   ]
  },
  {
   "cell_type": "code",
   "execution_count": null,
   "metadata": {
    "ExecuteTime": {
     "end_time": "2017-07-25T11:47:05.400313",
     "start_time": "2017-07-25T11:47:05.393333"
    },
    "collapsed": true
   },
   "outputs": [],
   "source": [
    "from sklearn.preprocessing import LabelEncoder"
   ]
  },
  {
   "cell_type": "code",
   "execution_count": null,
   "metadata": {
    "ExecuteTime": {
     "end_time": "2017-07-25T11:47:05.450353",
     "start_time": "2017-07-25T11:47:05.402339"
    },
    "collapsed": true
   },
   "outputs": [],
   "source": [
    "y_encoder = LabelEncoder()\n",
    "y = y_encoder.fit_transform(y)"
   ]
  },
  {
   "cell_type": "markdown",
   "metadata": {},
   "source": [
    "<div class=\"panel panel-info\" style=\"margin: 50px 0 0 0\">\n",
    "    <div class=\"panel-heading\">\n",
    "        <h3 class=\"panel-title\">Задание 1.</h3> \n",
    "    </div>\n",
    "</div>\n",
    "\n",
    "Возьмите тетрадку с сегодняшнего занятия и, руководствуясь советами по настройке, заделайте лучший GBM в мире! Не забудьте отправлять результаты на drivendata и хвастаться в чате о результатах."
   ]
  },
  {
   "cell_type": "code",
   "execution_count": null,
   "metadata": {
    "collapsed": true
   },
   "outputs": [],
   "source": [
    "# Ваш код здесь"
   ]
  },
  {
   "cell_type": "markdown",
   "metadata": {},
   "source": [
    "<div class=\"panel panel-info\" style=\"margin: 50px 0 0 0\">\n",
    "    <div class=\"panel-heading\">\n",
    "        <h3 class=\"panel-title\">Задание 2.</h3> \n",
    "    </div>\n",
    "</div>\n",
    "\n",
    "Выберите любой из сторонних фреймворков по своему усмотрению:\n",
    "* XGBoost\n",
    "* LightGBM\n",
    "* H2O\n",
    "* CatBoost\n",
    "\n",
    "Установите, прокачайте его, побейте GBM от sklearn."
   ]
  },
  {
   "cell_type": "code",
   "execution_count": null,
   "metadata": {
    "ExecuteTime": {
     "end_time": "2017-07-24T21:56:26.511616",
     "start_time": "2017-07-24T21:56:26.509076"
    },
    "collapsed": true
   },
   "outputs": [],
   "source": [
    "# Ваш код здесь"
   ]
  },
  {
   "cell_type": "markdown",
   "metadata": {},
   "source": [
    "<div class=\"panel panel-info\" style=\"margin: 50px 0 0 0\">\n",
    "    <div class=\"panel-heading\">\n",
    "        <h3 class=\"panel-title\">Задание 3 (опционально).</h3> \n",
    "    </div>\n",
    "</div>\n",
    "\n",
    "Возьмите __hyperopt__ или его порт для классификаторов sklearn, называющийся __hyperopt-sklearn__. Установите его, попробуйте найти оптимальные гиперпараметры с помощью байесовской оптимизации. Помните, что это не silver bullet, и сценарий подбора оптимальный параметров все еще актуален. Но на этапе подбора параметров деревьев байесовская оптимизация может дать выигрыш во времени, уделав классический GridSearchCV."
   ]
  },
  {
   "cell_type": "code",
   "execution_count": null,
   "metadata": {
    "collapsed": true
   },
   "outputs": [],
   "source": [
    "# Ваш код здесь"
   ]
  }
 ],
 "metadata": {
  "kernelspec": {
   "display_name": "Python 3",
   "language": "python",
   "name": "python3"
  },
  "language_info": {
   "codemirror_mode": {
    "name": "ipython",
    "version": 3
   },
   "file_extension": ".py",
   "mimetype": "text/x-python",
   "name": "python",
   "nbconvert_exporter": "python",
   "pygments_lexer": "ipython3",
   "version": "3.5.3"
  },
  "toc": {
   "colors": {
    "hover_highlight": "#DAA520",
    "running_highlight": "#FF0000",
    "selected_highlight": "#FFD700"
   },
   "moveMenuLeft": true,
   "nav_menu": {
    "height": "174px",
    "width": "252px"
   },
   "navigate_menu": true,
   "number_sections": true,
   "sideBar": true,
   "threshold": 4,
   "toc_cell": false,
   "toc_section_display": "block",
   "toc_window_display": false
  }
 },
 "nbformat": 4,
 "nbformat_minor": 2
}
