{
 "cells": [
  {
   "cell_type": "markdown",
   "metadata": {},
   "source": [
    "![](images/393.gif)"
   ]
  },
  {
   "cell_type": "markdown",
   "metadata": {},
   "source": [
    "# Итоги\n",
    "\n",
    "1. __0.8194__ Оганесян Андрей (LightGBM) - лучше, чем __73.5%__ участников\n",
    "2. __0.8157__ Крупенько Влад (LightGBM) - лучше, чем __63.3%__ участников\n",
    "3. __0.8154__ Прохоров Максим (LightGBM) - лучше, чем __62.1%__ участников\n",
    "4. __0.8153__ Лукин Марк (LightGBM) - лучше, чем __61.7%__ участников\n",
    "5. __0.8129__ Суходолов Денис (LightGBM) - лучше, чем __56%__ участников\n",
    "6. __0.7888__ Жихарева Мария (XGBoost) - лучше, чем __28.9%__ участников"
   ]
  },
  {
   "cell_type": "markdown",
   "metadata": {},
   "source": [
    "## Комментарии"
   ]
  },
  {
   "cell_type": "markdown",
   "metadata": {},
   "source": [
    "* Стекинг/блэндинг не взлетел. Возможно, было мало данных. Или вы просто не умеете его готовить :3\n",
    "* Можно было бы попробовать выпуклые суммы предсказаний классификаторов:\n",
    "    $$ \\alpha P_1 + (1-\\alpha) P_2 $$\n",
    "    , параметр $\\alpha$ подбирается по кросс-валидации.\n",
    "* Всенародную любовь забрал себе LightGBM, который показал себя самым быстрым фреймворком."
   ]
  }
 ],
 "metadata": {
  "kernelspec": {
   "display_name": "Python 3",
   "language": "python",
   "name": "python3"
  },
  "language_info": {
   "codemirror_mode": {
    "name": "ipython",
    "version": 3
   },
   "file_extension": ".py",
   "mimetype": "text/x-python",
   "name": "python",
   "nbconvert_exporter": "python",
   "pygments_lexer": "ipython3",
   "version": "3.6.0"
  },
  "toc": {
   "colors": {
    "hover_highlight": "#DAA520",
    "running_highlight": "#FF0000",
    "selected_highlight": "#FFD700"
   },
   "moveMenuLeft": true,
   "nav_menu": {
    "height": "48px",
    "width": "252px"
   },
   "navigate_menu": true,
   "number_sections": true,
   "sideBar": true,
   "threshold": 4,
   "toc_cell": false,
   "toc_section_display": "block",
   "toc_window_display": false
  }
 },
 "nbformat": 4,
 "nbformat_minor": 2
}
