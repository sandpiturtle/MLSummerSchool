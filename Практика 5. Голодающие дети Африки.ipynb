{
 "cells": [
  {
   "cell_type": "code",
   "execution_count": 1,
   "metadata": {
    "ExecuteTime": {
     "end_time": "2017-07-25T11:43:44.818732",
     "start_time": "2017-07-25T11:43:44.810735"
    },
    "collapsed": true
   },
   "outputs": [],
   "source": [
    "import pandas as pd\n",
    "pd.options.display.max_columns = 200\n",
    "\n",
    "import numpy as np\n",
    "import pickle\n",
    "\n",
    "import matplotlib.pyplot as plt\n",
    "%matplotlib inline"
   ]
  },
  {
   "cell_type": "markdown",
   "metadata": {},
   "source": [
    "# Данные"
   ]
  },
  {
   "cell_type": "markdown",
   "metadata": {},
   "source": [
    "Зайдите на https://www.drivendata.org/ и зарегистрируйтесь. Для сегодняшней домашки будем данные брать именно отсюда.\n",
    "\n",
    "Нас интересует конкурс https://www.drivendata.org/competitions/7/pump-it-up-data-mining-the-water-table/page/23/ .\n",
    "В нем представлены данные, собранные [Taarifa](taarifa.org) и [Танзанийским Министерством Воды и Ирригации](https://www.maji.go.tz/?q=en).\n",
    "\n",
    "Постановка задачи следующая: \n",
    "На территории Танзании установлено множество водяных насосов, которые спасают местное население от жажды. В зависимости от того, кем и когда установлен насос, а также зная, как им распоряжаются, можно попытаться предположить, какие из них функционируют, какие нуждаются в ремонте и какие не работают вовсе. \n",
    "\n",
    "Этим мы и займемся, а заодно и прокачаемся в подборе гиперпараметров алгоритмов."
   ]
  },
  {
   "cell_type": "code",
   "execution_count": 2,
   "metadata": {
    "ExecuteTime": {
     "end_time": "2017-07-25T11:44:47.787521",
     "start_time": "2017-07-25T11:44:46.914095"
    },
    "collapsed": false
   },
   "outputs": [],
   "source": [
    "train_X, train_y = pd.read_csv( # путь к вашему файлу train.csv\n",
    "    '../Kaggle/PumpItUp/train.csv'\n",
    "), pd.read_csv( # путь к вашему файлу trainLabels.csv\n",
    "    '../Kaggle/PumpItUp/trainLabels.csv'\n",
    ")\n",
    "df = pd.merge(train_X, train_y, how='left')\n",
    "\n",
    "df_test = pd.read_csv( # путь к вашему файлу test.csv\n",
    "    '../Kaggle/PumpItUp/test.csv'\n",
    ")"
   ]
  },
  {
   "cell_type": "code",
   "execution_count": 4,
   "metadata": {
    "ExecuteTime": {
     "end_time": "2017-07-25T11:45:51.622364",
     "start_time": "2017-07-25T11:45:51.619783"
    },
    "collapsed": false
   },
   "outputs": [],
   "source": [
    "# train_X.head()"
   ]
  },
  {
   "cell_type": "markdown",
   "metadata": {},
   "source": [
    "# Предобработка"
   ]
  },
  {
   "cell_type": "markdown",
   "metadata": {},
   "source": [
    "<div class=\"panel panel-warning\">\n",
    "    <div class=\"panel-heading\">\n",
    "        <h3 class=\"panel-title\">Обратите внимание</h3> \n",
    "    </div>\n",
    "</div>\n",
    "\n",
    "Предобработка - опциональный блок, и у себя подготовить данные вы можете полностью по-своему.\n",
    "\n",
    "__Единственное замечание:__ если решите подготавливать данные самостоятельно, замените странную строку `\"other - mkulima/shinyanga\"` на просто `\"other\"`, так как в тесте только `\"other\"`.\n",
    "```python\n",
    "df.loc[df.extraction_type == 'other - mkulima/shinyanga', 'extraction_type'] = 'other'\n",
    "```"
   ]
  },
  {
   "cell_type": "code",
   "execution_count": 5,
   "metadata": {
    "ExecuteTime": {
     "end_time": "2017-07-25T11:45:57.750902",
     "start_time": "2017-07-25T11:45:57.745106"
    },
    "collapsed": true
   },
   "outputs": [],
   "source": [
    "def reduce_factor_levels(df, column_name, limit=None, top=None, name=None):\n",
    "    assert(limit is not None or top is not None), 'Specify limit ot top'\n",
    "    if top is None:\n",
    "        top = df[column_name].value_counts()[:limit].index\n",
    "    if name is None:\n",
    "        name = '%s_OTHER' % column_name\n",
    "    df.loc[~df[column_name].isin(top), column_name] = name\n",
    "    return top"
   ]
  },
  {
   "cell_type": "code",
   "execution_count": 6,
   "metadata": {
    "ExecuteTime": {
     "end_time": "2017-07-25T11:45:58.259697",
     "start_time": "2017-07-25T11:45:58.140849"
    },
    "collapsed": true
   },
   "outputs": [],
   "source": [
    "top = reduce_factor_levels(df, 'funder', 10)\n",
    "reduce_factor_levels(df_test, 'funder', top=top);\n",
    "\n",
    "top = reduce_factor_levels(df, 'installer', 10)\n",
    "reduce_factor_levels(df_test, 'installer', top=top);"
   ]
  },
  {
   "cell_type": "code",
   "execution_count": 7,
   "metadata": {
    "ExecuteTime": {
     "end_time": "2017-07-25T11:45:58.634685",
     "start_time": "2017-07-25T11:45:58.606891"
    },
    "collapsed": true
   },
   "outputs": [],
   "source": [
    "drop = ['wpt_name', 'num_private', 'subvillage', 'region_code', 'district_code', 'lga', 'ward', 'recorded_by', 'scheme_name']\n",
    "\n",
    "df.drop(drop, axis=1, inplace=True)\n",
    "df_test.drop(drop, axis=1, inplace=True)"
   ]
  },
  {
   "cell_type": "code",
   "execution_count": 8,
   "metadata": {
    "ExecuteTime": {
     "end_time": "2017-07-25T11:45:59.021427",
     "start_time": "2017-07-25T11:45:58.999154"
    },
    "collapsed": true
   },
   "outputs": [],
   "source": [
    "df.loc[df.scheme_management == 'None', 'scheme_management'] = ''\n",
    "df.loc[df.scheme_management.isnull(), 'scheme_management'] = ''\n",
    "\n",
    "df_test.loc[df_test.scheme_management.isnull(), 'scheme_management'] = ''"
   ]
  },
  {
   "cell_type": "code",
   "execution_count": 9,
   "metadata": {
    "ExecuteTime": {
     "end_time": "2017-07-25T11:45:59.399190",
     "start_time": "2017-07-25T11:45:59.391367"
    },
    "collapsed": true
   },
   "outputs": [],
   "source": [
    "df['construction_date_known'] = (df.construction_year > 0).astype(np.int32)\n",
    "df_test['construction_date_known'] = (df_test.construction_year > 0).astype(np.int32)"
   ]
  },
  {
   "cell_type": "code",
   "execution_count": 10,
   "metadata": {
    "ExecuteTime": {
     "end_time": "2017-07-25T11:45:59.839112",
     "start_time": "2017-07-25T11:45:59.808318"
    },
    "collapsed": true
   },
   "outputs": [],
   "source": [
    "min_year = df[df.construction_year > 0].construction_year.min() // 10 - 1\n",
    "\n",
    "df['construction_decade'] = df.construction_year // 10 - min_year\n",
    "df_test['construction_decade'] = df_test.construction_year // 10 - min_year\n",
    "\n",
    "df.loc[df.construction_decade < 0, 'construction_decade'] = 0\n",
    "df_test.loc[df_test.construction_decade < 0, 'construction_decade'] = 0"
   ]
  },
  {
   "cell_type": "code",
   "execution_count": 11,
   "metadata": {
    "ExecuteTime": {
     "end_time": "2017-07-25T11:46:00.147440",
     "start_time": "2017-07-25T11:46:00.132709"
    },
    "collapsed": true
   },
   "outputs": [],
   "source": [
    "top = reduce_factor_levels(df, 'construction_year', 20)\n",
    "reduce_factor_levels(df_test, 'construction_year', top=top);"
   ]
  },
  {
   "cell_type": "code",
   "execution_count": 12,
   "metadata": {
    "ExecuteTime": {
     "end_time": "2017-07-25T11:46:00.571709",
     "start_time": "2017-07-25T11:46:00.536218"
    },
    "collapsed": true
   },
   "outputs": [],
   "source": [
    "df.loc[df.extraction_type == 'other - mkulima/shinyanga', 'extraction_type'] = 'other'"
   ]
  },
  {
   "cell_type": "code",
   "execution_count": 13,
   "metadata": {
    "ExecuteTime": {
     "end_time": "2017-07-25T11:46:01.007007",
     "start_time": "2017-07-25T11:46:00.965509"
    },
    "collapsed": true
   },
   "outputs": [],
   "source": [
    "heights = np.arange(-1, df.gps_height.max()+500, 500)\n",
    "height_labels = list(range(len(heights)-1))\n",
    "\n",
    "df['gps_height_rounded'] = pd.cut(df.gps_height, bins=heights, labels=height_labels)\n",
    "df_test['gps_height_rounded'] = pd.cut(df_test.gps_height, bins=heights, labels=height_labels)\n",
    "\n",
    "df.drop(['gps_height'], axis=1, inplace=True)\n",
    "df_test.drop(['gps_height'], axis=1, inplace=True)"
   ]
  },
  {
   "cell_type": "code",
   "execution_count": 14,
   "metadata": {
    "ExecuteTime": {
     "end_time": "2017-07-25T11:46:01.405938",
     "start_time": "2017-07-25T11:46:01.371469"
    },
    "collapsed": true
   },
   "outputs": [],
   "source": [
    "pops = np.arange(-1, df.population.max()+500, 500)\n",
    "pops_labels = list(range(len(pops)-1))\n",
    "\n",
    "df['pop_rounded'] = pd.cut(df.population, bins=pops, labels=pops_labels)\n",
    "df_test['pop_rounded'] = pd.cut(df_test.population, bins=pops, labels=pops_labels)\n",
    "\n",
    "df.drop(['population'], axis=1, inplace=True)\n",
    "df_test.drop(['population'], axis=1, inplace=True)"
   ]
  },
  {
   "cell_type": "code",
   "execution_count": 15,
   "metadata": {
    "ExecuteTime": {
     "end_time": "2017-07-25T11:46:02.914167",
     "start_time": "2017-07-25T11:46:02.891364"
    },
    "collapsed": true
   },
   "outputs": [],
   "source": [
    "df.drop(['date_recorded'], axis=1, inplace=True)\n",
    "df_test.drop(['date_recorded'], axis=1, inplace=True)"
   ]
  },
  {
   "cell_type": "code",
   "execution_count": 16,
   "metadata": {
    "ExecuteTime": {
     "end_time": "2017-07-25T11:46:03.324955",
     "start_time": "2017-07-25T11:46:03.303671"
    },
    "collapsed": true
   },
   "outputs": [],
   "source": [
    "df.public_meeting.fillna(True, inplace=True)\n",
    "df_test.public_meeting.fillna(True, inplace=True)"
   ]
  },
  {
   "cell_type": "code",
   "execution_count": 17,
   "metadata": {
    "ExecuteTime": {
     "end_time": "2017-07-25T11:46:03.746867",
     "start_time": "2017-07-25T11:46:03.725670"
    },
    "collapsed": true
   },
   "outputs": [],
   "source": [
    "df.permit.fillna(True, inplace=True)\n",
    "df_test.permit.fillna(True, inplace=True)"
   ]
  },
  {
   "cell_type": "code",
   "execution_count": 18,
   "metadata": {
    "ExecuteTime": {
     "end_time": "2017-07-25T11:46:04.760107",
     "start_time": "2017-07-25T11:46:04.754408"
    },
    "collapsed": true
   },
   "outputs": [],
   "source": [
    "df.gps_height_rounded.fillna(0, inplace=True)\n",
    "df_test.gps_height_rounded.fillna(0, inplace=True)"
   ]
  },
  {
   "cell_type": "markdown",
   "metadata": {},
   "source": [
    "# Визуализация"
   ]
  },
  {
   "cell_type": "code",
   "execution_count": 19,
   "metadata": {
    "ExecuteTime": {
     "end_time": "2017-07-25T11:46:26.438343",
     "start_time": "2017-07-25T11:46:26.435545"
    },
    "collapsed": true
   },
   "outputs": [],
   "source": [
    "# Снова на ваше усмотрение\n",
    "# Кстати, в этот раз данные с долготой-широтой, - отличная возможность поработать с геоданными!"
   ]
  },
  {
   "cell_type": "markdown",
   "metadata": {},
   "source": [
    "# Модели"
   ]
  },
  {
   "cell_type": "code",
   "execution_count": 20,
   "metadata": {
    "ExecuteTime": {
     "end_time": "2017-07-25T11:46:37.396648",
     "start_time": "2017-07-25T11:46:37.378335"
    },
    "collapsed": true
   },
   "outputs": [],
   "source": [
    "X, y, X_test = df.drop(['id', 'status_group'], axis=1), \\\n",
    "               df.status_group, \\\n",
    "               df_test.drop(['id'], axis=1)"
   ]
  },
  {
   "cell_type": "code",
   "execution_count": 21,
   "metadata": {
    "ExecuteTime": {
     "end_time": "2017-07-25T11:46:38.445433",
     "start_time": "2017-07-25T11:46:38.407894"
    },
    "collapsed": false
   },
   "outputs": [
    {
     "data": {
      "text/html": [
       "<div>\n",
       "<style>\n",
       "    .dataframe thead tr:only-child th {\n",
       "        text-align: right;\n",
       "    }\n",
       "\n",
       "    .dataframe thead th {\n",
       "        text-align: left;\n",
       "    }\n",
       "\n",
       "    .dataframe tbody tr th {\n",
       "        vertical-align: top;\n",
       "    }\n",
       "</style>\n",
       "<table border=\"1\" class=\"dataframe\">\n",
       "  <thead>\n",
       "    <tr style=\"text-align: right;\">\n",
       "      <th></th>\n",
       "      <th>amount_tsh</th>\n",
       "      <th>funder</th>\n",
       "      <th>installer</th>\n",
       "      <th>longitude</th>\n",
       "      <th>latitude</th>\n",
       "      <th>basin</th>\n",
       "      <th>region</th>\n",
       "      <th>public_meeting</th>\n",
       "      <th>scheme_management</th>\n",
       "      <th>permit</th>\n",
       "      <th>construction_year</th>\n",
       "      <th>extraction_type</th>\n",
       "      <th>extraction_type_group</th>\n",
       "      <th>extraction_type_class</th>\n",
       "      <th>management</th>\n",
       "      <th>management_group</th>\n",
       "      <th>payment</th>\n",
       "      <th>payment_type</th>\n",
       "      <th>water_quality</th>\n",
       "      <th>quality_group</th>\n",
       "      <th>quantity</th>\n",
       "      <th>quantity_group</th>\n",
       "      <th>source</th>\n",
       "      <th>source_type</th>\n",
       "      <th>source_class</th>\n",
       "      <th>waterpoint_type</th>\n",
       "      <th>waterpoint_type_group</th>\n",
       "      <th>construction_date_known</th>\n",
       "      <th>construction_decade</th>\n",
       "      <th>gps_height_rounded</th>\n",
       "      <th>pop_rounded</th>\n",
       "    </tr>\n",
       "  </thead>\n",
       "  <tbody>\n",
       "    <tr>\n",
       "      <th>0</th>\n",
       "      <td>6000.0</td>\n",
       "      <td>funder_OTHER</td>\n",
       "      <td>installer_OTHER</td>\n",
       "      <td>34.938093</td>\n",
       "      <td>-9.856322</td>\n",
       "      <td>Lake Nyasa</td>\n",
       "      <td>Iringa</td>\n",
       "      <td>True</td>\n",
       "      <td>VWC</td>\n",
       "      <td>False</td>\n",
       "      <td>1999</td>\n",
       "      <td>gravity</td>\n",
       "      <td>gravity</td>\n",
       "      <td>gravity</td>\n",
       "      <td>vwc</td>\n",
       "      <td>user-group</td>\n",
       "      <td>pay annually</td>\n",
       "      <td>annually</td>\n",
       "      <td>soft</td>\n",
       "      <td>good</td>\n",
       "      <td>enough</td>\n",
       "      <td>enough</td>\n",
       "      <td>spring</td>\n",
       "      <td>spring</td>\n",
       "      <td>groundwater</td>\n",
       "      <td>communal standpipe</td>\n",
       "      <td>communal standpipe</td>\n",
       "      <td>1</td>\n",
       "      <td>4</td>\n",
       "      <td>2</td>\n",
       "      <td>0</td>\n",
       "    </tr>\n",
       "  </tbody>\n",
       "</table>\n",
       "</div>"
      ],
      "text/plain": [
       "   amount_tsh        funder        installer  longitude  latitude       basin  \\\n",
       "0      6000.0  funder_OTHER  installer_OTHER  34.938093 -9.856322  Lake Nyasa   \n",
       "\n",
       "   region  public_meeting scheme_management  permit construction_year  \\\n",
       "0  Iringa            True               VWC   False              1999   \n",
       "\n",
       "  extraction_type extraction_type_group extraction_type_class management  \\\n",
       "0         gravity               gravity               gravity        vwc   \n",
       "\n",
       "  management_group       payment payment_type water_quality quality_group  \\\n",
       "0       user-group  pay annually     annually          soft          good   \n",
       "\n",
       "  quantity quantity_group  source source_type source_class  \\\n",
       "0   enough         enough  spring      spring  groundwater   \n",
       "\n",
       "      waterpoint_type waterpoint_type_group  construction_date_known  \\\n",
       "0  communal standpipe    communal standpipe                        1   \n",
       "\n",
       "   construction_decade gps_height_rounded pop_rounded  \n",
       "0                    4                  2           0  "
      ]
     },
     "execution_count": 21,
     "metadata": {},
     "output_type": "execute_result"
    }
   ],
   "source": [
    "X.head(1)"
   ]
  },
  {
   "cell_type": "markdown",
   "metadata": {},
   "source": [
    "<div class=\"panel panel-warning\">\n",
    "    <div class=\"panel-heading\">\n",
    "        <h3 class=\"panel-title\">Обратите внимание</h3> \n",
    "    </div>\n",
    "</div>\n",
    "\n",
    "Вот эта функция ниже - опять мои штуки-дрюки, и можно кодировать данные по-своему."
   ]
  },
  {
   "cell_type": "code",
   "execution_count": 22,
   "metadata": {
    "ExecuteTime": {
     "end_time": "2017-07-25T11:46:58.463355",
     "start_time": "2017-07-25T11:46:58.450572"
    },
    "collapsed": true
   },
   "outputs": [],
   "source": [
    "def prepare(X_train, X_test):\n",
    "    from sklearn.preprocessing import StandardScaler\n",
    "    from sklearn.feature_extraction import DictVectorizer\n",
    "    \n",
    "    objects = X_train.select_dtypes(include=['O']).columns.values\n",
    "    numeric = X_train.select_dtypes(exclude=['O']).columns.values\n",
    "    \n",
    "    dv = DictVectorizer(sparse=False)\n",
    "    data_encoded_tr = dv.fit_transform(X_train[objects].to_dict(orient='records'))\n",
    "    data_encoded_ts = dv.transform(X_test[objects].to_dict(orient='records'))\n",
    "\n",
    "    ss = StandardScaler()\n",
    "    data_scaled_tr = ss.fit_transform(X_train[numeric])\n",
    "    data_scaled_ts = ss.transform(X_test[numeric])\n",
    "    \n",
    "    train = np.hstack((data_encoded_tr, data_scaled_tr))\n",
    "    test  = np.hstack((data_encoded_ts, data_scaled_ts))\n",
    "    return train, test"
   ]
  },
  {
   "cell_type": "code",
   "execution_count": 23,
   "metadata": {
    "ExecuteTime": {
     "end_time": "2017-07-25T11:47:05.391332",
     "start_time": "2017-07-25T11:47:00.997635"
    },
    "collapsed": true
   },
   "outputs": [],
   "source": [
    "x_train, x_test = prepare(X, X_test)"
   ]
  },
  {
   "cell_type": "code",
   "execution_count": 24,
   "metadata": {
    "ExecuteTime": {
     "end_time": "2017-07-25T11:47:05.400313",
     "start_time": "2017-07-25T11:47:05.393333"
    },
    "collapsed": true
   },
   "outputs": [],
   "source": [
    "from sklearn.preprocessing import LabelEncoder"
   ]
  },
  {
   "cell_type": "code",
   "execution_count": 25,
   "metadata": {
    "ExecuteTime": {
     "end_time": "2017-07-25T11:47:05.450353",
     "start_time": "2017-07-25T11:47:05.402339"
    },
    "collapsed": true
   },
   "outputs": [],
   "source": [
    "y_encoder = LabelEncoder()\n",
    "y = y_encoder.fit_transform(y)"
   ]
  },
  {
   "cell_type": "markdown",
   "metadata": {},
   "source": [
    "<div class=\"panel panel-info\" style=\"margin: 50px 0 0 0\">\n",
    "    <div class=\"panel-heading\">\n",
    "        <h3 class=\"panel-title\">Задание 1.</h3> \n",
    "    </div>\n",
    "</div>\n",
    "\n",
    "Возьмите тетрадку с сегодняшнего занятия и, руководствуясь советами по настройке, заделайте лучший GBM в мире! Не забудьте отправлять результаты на drivendata и хвастаться в чате о результатах."
   ]
  },
  {
   "cell_type": "code",
   "execution_count": null,
   "metadata": {
    "collapsed": true
   },
   "outputs": [],
   "source": [
    "# Ваш код здесь"
   ]
  },
  {
   "cell_type": "markdown",
   "metadata": {},
   "source": [
    "<div class=\"panel panel-info\" style=\"margin: 50px 0 0 0\">\n",
    "    <div class=\"panel-heading\">\n",
    "        <h3 class=\"panel-title\">Задание 2.</h3> \n",
    "    </div>\n",
    "</div>\n",
    "\n",
    "Выберите любой из сторонних фреймворков по своему усмотрению:\n",
    "* XGBoost\n",
    "* LightGBM\n",
    "* H2O\n",
    "* CatBoost\n",
    "\n",
    "Установите, прокачайте его, побейте GBM от sklearn."
   ]
  },
  {
   "cell_type": "code",
   "execution_count": 31,
   "metadata": {
    "ExecuteTime": {
     "end_time": "2017-07-24T21:56:26.511616",
     "start_time": "2017-07-24T21:56:26.509076"
    },
    "collapsed": true
   },
   "outputs": [],
   "source": [
    "# Ваш код здесь"
   ]
  },
  {
   "cell_type": "markdown",
   "metadata": {},
   "source": [
    "<div class=\"panel panel-info\" style=\"margin: 50px 0 0 0\">\n",
    "    <div class=\"panel-heading\">\n",
    "        <h3 class=\"panel-title\">Задание 3 (опционально).</h3> \n",
    "    </div>\n",
    "</div>\n",
    "\n",
    "Возьмите __hyperopt__ или его порт для классификаторов sklearn, называющийся __hyperopt-sklearn__. Установите его, попробуйте найти оптимальные гиперпараметры с помощью байесовской оптимизации. Помните, что это не silver bullet, и сценарий подбора оптимальный параметров все еще актуален. Но на этапе подбора параметров деревьев байесовская оптимизация может дать выигрыш во времени, уделав классический GridSearchCV."
   ]
  },
  {
   "cell_type": "code",
   "execution_count": null,
   "metadata": {
    "collapsed": true
   },
   "outputs": [],
   "source": [
    "# Ваш код здесь"
   ]
  }
 ],
 "metadata": {
  "kernelspec": {
   "display_name": "Python 3",
   "language": "python",
   "name": "python3"
  },
  "language_info": {
   "codemirror_mode": {
    "name": "ipython",
    "version": 3
   },
   "file_extension": ".py",
   "mimetype": "text/x-python",
   "name": "python",
   "nbconvert_exporter": "python",
   "pygments_lexer": "ipython3",
   "version": "3.6.0"
  },
  "toc": {
   "colors": {
    "hover_highlight": "#DAA520",
    "running_highlight": "#FF0000",
    "selected_highlight": "#FFD700"
   },
   "moveMenuLeft": true,
   "nav_menu": {
    "height": "174px",
    "width": "252px"
   },
   "navigate_menu": true,
   "number_sections": true,
   "sideBar": true,
   "threshold": 4,
   "toc_cell": false,
   "toc_section_display": "block",
   "toc_window_display": false
  }
 },
 "nbformat": 4,
 "nbformat_minor": 2
}
