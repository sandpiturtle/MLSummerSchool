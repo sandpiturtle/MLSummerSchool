{
 "cells": [
  {
   "cell_type": "code",
   "execution_count": 1,
   "metadata": {
    "ExecuteTime": {
     "end_time": "2017-07-19T14:51:44.449415",
     "start_time": "2017-07-19T14:51:44.444802"
    },
    "collapsed": true
   },
   "outputs": [],
   "source": [
    "import matplotlib.pyplot as plt\n",
    "%matplotlib inline"
   ]
  },
  {
   "cell_type": "code",
   "execution_count": 2,
   "metadata": {
    "ExecuteTime": {
     "end_time": "2017-07-19T11:51:51.352599",
     "start_time": "2017-07-19T11:51:51.347402"
    },
    "collapsed": true
   },
   "outputs": [],
   "source": [
    "m = 100\n",
    "X_train = 10 * np.random.rand(m, 1) - 5\n",
    "y_train = 0.5 * X_train**2 + 2 + np.random.randn(m, 1)"
   ]
  },
  {
   "cell_type": "code",
   "execution_count": 3,
   "metadata": {
    "ExecuteTime": {
     "end_time": "2017-07-19T11:51:52.566575",
     "start_time": "2017-07-19T11:51:52.562235"
    },
    "collapsed": true
   },
   "outputs": [],
   "source": [
    "X_test = np.array([np.linspace(X_train.min()-2, X_train.max()+2)]).T"
   ]
  },
  {
   "cell_type": "code",
   "execution_count": 4,
   "metadata": {
    "ExecuteTime": {
     "end_time": "2017-07-19T11:51:53.193514",
     "start_time": "2017-07-19T11:51:52.990387"
    },
    "collapsed": false
   },
   "outputs": [
    {
     "data": {
      "image/png": "[encoded data removed]",
      "text/plain": [
       "<matplotlib.figure.Figure at 0x1063fe748>"
      ]
     },
     "metadata": {},
     "output_type": "display_data"
    }
   ],
   "source": [
    "plt.scatter(X_train, y_train);"
   ]
  },
  {
   "cell_type": "markdown",
   "metadata": {},
   "source": [
    "# Baseline"
   ]
  },
  {
   "cell_type": "code",
   "execution_count": 5,
   "metadata": {
    "ExecuteTime": {
     "end_time": "2017-07-19T11:51:55.483846",
     "start_time": "2017-07-19T11:51:54.945328"
    },
    "collapsed": true
   },
   "outputs": [],
   "source": [
    "from sklearn.linear_model import LinearRegression"
   ]
  },
  {
   "cell_type": "markdown",
   "metadata": {},
   "source": [
    "<div class=\"panel panel-danger\" style=\"margin: 50px 0 0 0\">\n",
    "    <div class=\"panel-heading\">\n",
    "        <h3 class=\"panel-title\">Важно</h3> \n",
    "    </div>\n",
    "</div>\n",
    "\n",
    "У большинства классов sklearn интерфейс базируется на следующих методах:\n",
    "<ol>\n",
    "    <li> методах <b>.fit(), .transform(), .fit_transform()</b>, если эта штука каким-то образом меняет данные;\n",
    "    <li> методах <b>.fit(), .predict(), .fit_predict()</b>, если это классификатор для предсказаний.\n",
    "</ol>"
   ]
  },
  {
   "cell_type": "code",
   "execution_count": 6,
   "metadata": {
    "ExecuteTime": {
     "end_time": "2017-07-19T11:53:48.539059",
     "start_time": "2017-07-19T11:53:48.533967"
    },
    "collapsed": false
   },
   "outputs": [],
   "source": [
    "clf = LinearRegression()\n",
    "clf.fit(X_train, y_train);\n",
    "\n",
    "y_test = clf.predict(X_test)"
   ]
  },
  {
   "cell_type": "markdown",
   "metadata": {},
   "source": [
    "<div style=\"margin: 50px 0 0 0\" />"
   ]
  },
  {
   "cell_type": "code",
   "execution_count": 7,
   "metadata": {
    "ExecuteTime": {
     "end_time": "2017-07-19T11:53:51.147645",
     "start_time": "2017-07-19T11:53:50.959641"
    },
    "collapsed": false
   },
   "outputs": [
    {
     "data": {
      "image/png": "[encoded data removed]",
      "text/plain": [
       "<matplotlib.figure.Figure at 0x10885c978>"
      ]
     },
     "metadata": {},
     "output_type": "display_data"
    }
   ],
   "source": [
    "plt.scatter(X_train, y_train);\n",
    "plt.plot(X_test, y_test, 'r');"
   ]
  },
  {
   "cell_type": "markdown",
   "metadata": {},
   "source": [
    "# Pipeline"
   ]
  },
  {
   "cell_type": "code",
   "execution_count": 9,
   "metadata": {
    "ExecuteTime": {
     "end_time": "2017-07-19T11:54:40.436151",
     "start_time": "2017-07-19T11:54:40.432640"
    },
    "collapsed": true
   },
   "outputs": [],
   "source": [
    "from sklearn.preprocessing import StandardScaler, PolynomialFeatures\n",
    "from sklearn.pipeline import Pipeline, make_pipeline"
   ]
  },
  {
   "cell_type": "markdown",
   "metadata": {},
   "source": [
    "<div class=\"panel panel-warning\" style=\"margin: 50px 0 0 0\">\n",
    "    <div class=\"panel-heading\">\n",
    "        <h3 class=\"panel-title\">Обратите внимание</h3> \n",
    "    </div>\n",
    "</div>\n",
    "\n",
    "У пайплайнов тот же интерфейс, что и у обычных классификаторов, что делает его удобным."
   ]
  },
  {
   "cell_type": "code",
   "execution_count": 17,
   "metadata": {
    "ExecuteTime": {
     "end_time": "2017-07-19T11:56:25.335584",
     "start_time": "2017-07-19T11:56:25.329944"
    },
    "collapsed": true
   },
   "outputs": [],
   "source": [
    "clf = Pipeline([\n",
    "    ('1. Добавляем полиномиальные фичи', PolynomialFeatures(degree=2)),\n",
    "#     ('2. Нормализуем, если используем SGD', StandardScaler()),\n",
    "    ('3. Используем любимый классификатор', LinearRegression())\n",
    "])"
   ]
  },
  {
   "cell_type": "code",
   "execution_count": 18,
   "metadata": {
    "ExecuteTime": {
     "end_time": "2017-07-19T11:56:25.633791",
     "start_time": "2017-07-19T11:56:25.630608"
    },
    "collapsed": false
   },
   "outputs": [],
   "source": [
    "clf = make_pipeline(PolynomialFeatures(degree=2), LinearRegression())"
   ]
  },
  {
   "cell_type": "code",
   "execution_count": 19,
   "metadata": {
    "ExecuteTime": {
     "end_time": "2017-07-19T11:56:26.034334",
     "start_time": "2017-07-19T11:56:26.030295"
    },
    "collapsed": false
   },
   "outputs": [],
   "source": [
    "clf.fit(X_train, y_train);\n",
    "y_test = clf.predict(X_test)"
   ]
  },
  {
   "cell_type": "markdown",
   "metadata": {},
   "source": [
    "<div style=\"margin: 50px 0 0 0\" />"
   ]
  },
  {
   "cell_type": "code",
   "execution_count": 20,
   "metadata": {
    "ExecuteTime": {
     "end_time": "2017-07-19T11:56:30.060293",
     "start_time": "2017-07-19T11:56:29.876127"
    },
    "collapsed": false
   },
   "outputs": [
    {
     "data": {
      "image/png": "[encoded data removed]",
      "text/plain": [
       "<matplotlib.figure.Figure at 0x108aef630>"
      ]
     },
     "metadata": {},
     "output_type": "display_data"
    }
   ],
   "source": [
    "plt.scatter(X_train, y_train);\n",
    "plt.plot(X_test, y_test, c='r');"
   ]
  },
  {
   "cell_type": "markdown",
   "metadata": {},
   "source": [
    "# Grid search"
   ]
  },
  {
   "cell_type": "code",
   "execution_count": 21,
   "metadata": {
    "ExecuteTime": {
     "end_time": "2017-07-19T11:57:14.364181",
     "start_time": "2017-07-19T11:57:14.360990"
    },
    "collapsed": true
   },
   "outputs": [],
   "source": [
    "from sklearn.model_selection import GridSearchCV\n",
    "from sklearn.linear_model import SGDRegressor"
   ]
  },
  {
   "cell_type": "markdown",
   "metadata": {},
   "source": [
    "<div class=\"panel panel-warning\" style=\"margin: 50px 0 0 0\">\n",
    "    <div class=\"panel-heading\">\n",
    "        <h3 class=\"panel-title\">Обратите внимание</h3> \n",
    "    </div>\n",
    "</div>\n",
    "\n",
    "GridSearch прогоняет все комбинации гиперпараметров, поэтому в коде ниже будут тренироваться <b>45</b> разных классификаторов! Будьте внимательны и следите в своем коде, чтобы количество прогонов было разумным. Сейчас нам просто повезло, что выборка очень маленькая, и линейные классификаторы очень быстрые."
   ]
  },
  {
   "cell_type": "code",
   "execution_count": 25,
   "metadata": {
    "ExecuteTime": {
     "end_time": "2017-07-19T12:00:12.454293",
     "start_time": "2017-07-19T12:00:12.449375"
    },
    "collapsed": true
   },
   "outputs": [],
   "source": [
    "params = { \n",
    "    'n_iter': [100],\n",
    "    'alpha': [10**x for x in range(-2,3)],\n",
    "    'l1_ratio': [x*10/100. for x in range(1,10)]\n",
    "}"
   ]
  },
  {
   "cell_type": "code",
   "execution_count": 27,
   "metadata": {
    "ExecuteTime": {
     "end_time": "2017-07-19T12:00:31.120128",
     "start_time": "2017-07-19T12:00:30.792359"
    },
    "collapsed": false
   },
   "outputs": [],
   "source": [
    "gs = GridSearchCV(SGDRegressor(), param_grid=params)\n",
    "gs.fit(X_train, y_train);"
   ]
  },
  {
   "cell_type": "markdown",
   "metadata": {},
   "source": [
    "Набор оптимальных параметров лежит в <b>.best\\_params_</b>, а сам классификатор - в <b>.best\\_estimator_</b>.\n"
   ]
  },
  {
   "cell_type": "code",
   "execution_count": 28,
   "metadata": {
    "ExecuteTime": {
     "end_time": "2017-07-19T12:00:51.358339",
     "start_time": "2017-07-19T12:00:51.353662"
    },
    "collapsed": false
   },
   "outputs": [
    {
     "data": {
      "text/plain": [
       "{'alpha': 10, 'l1_ratio': 0.2, 'n_iter': 100}"
      ]
     },
     "execution_count": 28,
     "metadata": {},
     "output_type": "execute_result"
    }
   ],
   "source": [
    "gs.best_params_"
   ]
  },
  {
   "cell_type": "code",
   "execution_count": 29,
   "metadata": {
    "ExecuteTime": {
     "end_time": "2017-07-19T12:01:17.951821",
     "start_time": "2017-07-19T12:01:17.946606"
    },
    "collapsed": false
   },
   "outputs": [
    {
     "data": {
      "text/plain": [
       "-0.0627912829627853"
      ]
     },
     "execution_count": 29,
     "metadata": {},
     "output_type": "execute_result"
    }
   ],
   "source": [
    "gs.best_score_"
   ]
  },
  {
   "cell_type": "code",
   "execution_count": 31,
   "metadata": {
    "ExecuteTime": {
     "end_time": "2017-07-19T12:02:04.082065",
     "start_time": "2017-07-19T12:02:04.078866"
    },
    "collapsed": false
   },
   "outputs": [],
   "source": [
    "y_test = gs.best_estimator_.predict(X_test)"
   ]
  },
  {
   "cell_type": "markdown",
   "metadata": {},
   "source": [
    "<div style=\"margin: 50px 0 0 0\" />"
   ]
  },
  {
   "cell_type": "code",
   "execution_count": 32,
   "metadata": {
    "ExecuteTime": {
     "end_time": "2017-07-19T12:02:05.103546",
     "start_time": "2017-07-19T12:02:04.907059"
    },
    "collapsed": false
   },
   "outputs": [
    {
     "data": {
      "image/png": "[encoded data removed]",
      "text/plain": [
       "<matplotlib.figure.Figure at 0x108b52550>"
      ]
     },
     "metadata": {},
     "output_type": "display_data"
    }
   ],
   "source": [
    "plt.scatter(X_train, y_train);\n",
    "plt.plot(X_test, y_test, c='r');"
   ]
  },
  {
   "cell_type": "markdown",
   "metadata": {},
   "source": [
    "# Grid search with Pipeline"
   ]
  },
  {
   "cell_type": "code",
   "execution_count": 33,
   "metadata": {
    "ExecuteTime": {
     "end_time": "2017-07-19T12:02:26.695330",
     "start_time": "2017-07-19T12:02:26.692069"
    },
    "collapsed": true
   },
   "outputs": [],
   "source": [
    "from sklearn.linear_model import ElasticNet"
   ]
  },
  {
   "cell_type": "markdown",
   "metadata": {},
   "source": [
    "<div class=\"panel panel-danger\" style=\"margin: 50px 0 0 0\">\n",
    "    <div class=\"panel-heading\">\n",
    "        <h3 class=\"panel-title\">Важно</h3> \n",
    "    </div>\n",
    "</div>\n",
    "\n",
    "При использовании одновременно пайплайна и перебора параметров по сетке каждый параметр находится по адресу <b><Имя шага>__<Имя параметра></b>, - в середине два нижних подчеркивания (underscores)."
   ]
  },
  {
   "cell_type": "code",
   "execution_count": 34,
   "metadata": {
    "ExecuteTime": {
     "end_time": "2017-07-19T12:03:29.032977",
     "start_time": "2017-07-19T12:03:29.029330"
    },
    "collapsed": true
   },
   "outputs": [],
   "source": [
    "clf = Pipeline([\n",
    "    ('poly_features', PolynomialFeatures()),\n",
    "    ('scaler', StandardScaler()),\n",
    "    ('elastic', ElasticNet())\n",
    "])"
   ]
  },
  {
   "cell_type": "code",
   "execution_count": 35,
   "metadata": {
    "ExecuteTime": {
     "end_time": "2017-07-19T12:03:29.664777",
     "start_time": "2017-07-19T12:03:29.660879"
    },
    "collapsed": true
   },
   "outputs": [],
   "source": [
    "params = { \n",
    "    'poly_features__degree': [2,5,10],\n",
    "    'elastic__alpha': [10**x for x in range(-2,3)],\n",
    "    'elastic__l1_ratio': [x*10/100. for x in range(1,10)]\n",
    "}"
   ]
  },
  {
   "cell_type": "code",
   "execution_count": 36,
   "metadata": {
    "ExecuteTime": {
     "end_time": "2017-07-19T12:03:30.988293",
     "start_time": "2017-07-19T12:03:30.985259"
    },
    "collapsed": false
   },
   "outputs": [],
   "source": [
    "gs = GridSearchCV(clf, param_grid=params)"
   ]
  },
  {
   "cell_type": "code",
   "execution_count": 37,
   "metadata": {
    "ExecuteTime": {
     "end_time": "2017-07-19T12:03:33.313066",
     "start_time": "2017-07-19T12:03:32.101529"
    },
    "collapsed": true
   },
   "outputs": [],
   "source": [
    "gs.fit(X_train, y_train);"
   ]
  },
  {
   "cell_type": "code",
   "execution_count": 38,
   "metadata": {
    "ExecuteTime": {
     "end_time": "2017-07-19T12:03:34.545430",
     "start_time": "2017-07-19T12:03:34.540755"
    },
    "collapsed": false
   },
   "outputs": [
    {
     "data": {
      "text/plain": [
       "{'elastic__alpha': 0.01, 'elastic__l1_ratio': 0.7, 'poly_features__degree': 2}"
      ]
     },
     "execution_count": 38,
     "metadata": {},
     "output_type": "execute_result"
    }
   ],
   "source": [
    "gs.best_params_"
   ]
  },
  {
   "cell_type": "code",
   "execution_count": 25,
   "metadata": {
    "ExecuteTime": {
     "end_time": "2017-07-04T16:30:15.519338",
     "start_time": "2017-07-04T16:30:15.515364"
    },
    "collapsed": false
   },
   "outputs": [],
   "source": [
    "y_test = gs.best_estimator_.predict(X_test)"
   ]
  },
  {
   "cell_type": "markdown",
   "metadata": {},
   "source": [
    "<div style=\"margin: 50px 0 0 0\" />"
   ]
  },
  {
   "cell_type": "code",
   "execution_count": 26,
   "metadata": {
    "ExecuteTime": {
     "end_time": "2017-07-04T16:30:16.569495",
     "start_time": "2017-07-04T16:30:16.352170"
    },
    "collapsed": false
   },
   "outputs": [
    {
     "data": {
      "image/png": "[encoded data removed]",
      "text/plain": [
       "<matplotlib.figure.Figure at 0x10b245c88>"
      ]
     },
     "metadata": {},
     "output_type": "display_data"
    }
   ],
   "source": [
    "plt.scatter(X_train, y_train);\n",
    "plt.plot(X_test, y_test, c='r');"
   ]
  }
 ],
 "metadata": {
  "kernelspec": {
   "display_name": "Python 3",
   "language": "python",
   "name": "python3"
  },
  "language_info": {
   "codemirror_mode": {
    "name": "ipython",
    "version": 3
   },
   "file_extension": ".py",
   "mimetype": "text/x-python",
   "name": "python",
   "nbconvert_exporter": "python",
   "pygments_lexer": "ipython3",
   "version": "3.6.0"
  },
  "toc": {
   "colors": {
    "hover_highlight": "#DAA520",
    "running_highlight": "#FF0000",
    "selected_highlight": "#FFD700"
   },
   "moveMenuLeft": true,
   "nav_menu": {
    "height": "156px",
    "width": "252px"
   },
   "navigate_menu": true,
   "number_sections": false,
   "sideBar": true,
   "threshold": 4,
   "toc_cell": false,
   "toc_section_display": "block",
   "toc_window_display": false
  }
 },
 "nbformat": 4,
 "nbformat_minor": 2
}
