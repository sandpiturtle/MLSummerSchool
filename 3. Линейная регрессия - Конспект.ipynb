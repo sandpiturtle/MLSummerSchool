{
 "cells": [
  {
   "cell_type": "code",
   "execution_count": 1,
   "metadata": {
    "ExecuteTime": {
     "end_time": "2017-07-04T16:29:55.771863",
     "start_time": "2017-07-04T16:29:55.764041"
    },
    "collapsed": true
   },
   "outputs": [],
   "source": [
    "import matplotlib.pyplot as plt\n",
    "%matplotlib inline"
   ]
  },
  {
   "cell_type": "code",
   "execution_count": 2,
   "metadata": {
    "ExecuteTime": {
     "end_time": "2017-07-04T16:29:55.778728",
     "start_time": "2017-07-04T16:29:55.774869"
    },
    "collapsed": true
   },
   "outputs": [],
   "source": [
    "m = 100\n",
    "X_train = 10 * np.random.rand(m, 1) - 5\n",
    "y_train = 0.5 * X_train**2 + 2 + np.random.randn(m, 1)"
   ]
  },
  {
   "cell_type": "code",
   "execution_count": 3,
   "metadata": {
    "ExecuteTime": {
     "end_time": "2017-07-04T16:29:55.787742",
     "start_time": "2017-07-04T16:29:55.780737"
    },
    "collapsed": true
   },
   "outputs": [],
   "source": [
    "X_test = np.array([np.linspace(X_train.min()-2, X_train.max()+2)]).T"
   ]
  },
  {
   "cell_type": "code",
   "execution_count": 4,
   "metadata": {
    "ExecuteTime": {
     "end_time": "2017-07-04T16:29:56.085288",
     "start_time": "2017-07-04T16:29:55.790061"
    },
    "collapsed": false
   },
   "outputs": [
    {
     "data": {
      "image/png": "[encoded data removed]",
      "text/plain": [
       "<matplotlib.figure.Figure at 0x108ac8cf8>"
      ]
     },
     "metadata": {},
     "output_type": "display_data"
    }
   ],
   "source": [
    "plt.scatter(X_train, y_train);"
   ]
  },
  {
   "cell_type": "markdown",
   "metadata": {},
   "source": [
    "# Baseline"
   ]
  },
  {
   "cell_type": "code",
   "execution_count": 5,
   "metadata": {
    "ExecuteTime": {
     "end_time": "2017-07-04T16:29:56.765270",
     "start_time": "2017-07-04T16:29:56.100327"
    },
    "collapsed": true
   },
   "outputs": [],
   "source": [
    "from sklearn.linear_model import LinearRegression"
   ]
  },
  {
   "cell_type": "markdown",
   "metadata": {},
   "source": [
    "<div class=\"panel panel-danger\" style=\"margin: 50px 0 0 0\">\n",
    "    <div class=\"panel-heading\">\n",
    "        <h3 class=\"panel-title\">Важно</h3> \n",
    "    </div>\n",
    "</div>\n",
    "\n",
    "У большинства классов sklearn интерфейс базируется на следующих методах:\n",
    "<ol>\n",
    "    <li> методах <b>.fit(), .transform(), .fit_transform()</b>, если эта штука каким-то образом меняет данные;\n",
    "    <li> методах <b>.fit(), .predict(), .fit_predict()</b>, если это классификатор для предсказаний.\n",
    "</ol>"
   ]
  },
  {
   "cell_type": "code",
   "execution_count": 27,
   "metadata": {
    "ExecuteTime": {
     "end_time": "2017-07-04T16:58:20.054629",
     "start_time": "2017-07-04T16:58:20.040444"
    },
    "collapsed": false
   },
   "outputs": [],
   "source": [
    "clf = LinearRegression()\n",
    "clf.fit(X_train, y_train);\n",
    "\n",
    "y_test = clf.predict(X_test)"
   ]
  },
  {
   "cell_type": "markdown",
   "metadata": {},
   "source": [
    "<div style=\"margin: 50px 0 0 0\" />"
   ]
  },
  {
   "cell_type": "code",
   "execution_count": 7,
   "metadata": {
    "ExecuteTime": {
     "end_time": "2017-07-04T16:29:57.066703",
     "start_time": "2017-07-04T16:29:56.777632"
    },
    "collapsed": false
   },
   "outputs": [
    {
     "data": {
      "image/png": "[encoded data removed]",
      "text/plain": [
       "<matplotlib.figure.Figure at 0x10afd6908>"
      ]
     },
     "metadata": {},
     "output_type": "display_data"
    }
   ],
   "source": [
    "plt.scatter(X_train, y_train);\n",
    "plt.plot(X_test, y_test, 'r');"
   ]
  },
  {
   "cell_type": "markdown",
   "metadata": {},
   "source": [
    "# Pipeline"
   ]
  },
  {
   "cell_type": "code",
   "execution_count": 8,
   "metadata": {
    "ExecuteTime": {
     "end_time": "2017-07-04T16:29:57.886790",
     "start_time": "2017-07-04T16:29:57.880690"
    },
    "collapsed": true
   },
   "outputs": [],
   "source": [
    "from sklearn.preprocessing import StandardScaler, PolynomialFeatures\n",
    "from sklearn.pipeline import Pipeline"
   ]
  },
  {
   "cell_type": "markdown",
   "metadata": {},
   "source": [
    "<div class=\"panel panel-warning\" style=\"margin: 50px 0 0 0\">\n",
    "    <div class=\"panel-heading\">\n",
    "        <h3 class=\"panel-title\">Обратите внимание</h3> \n",
    "    </div>\n",
    "</div>\n",
    "\n",
    "У пайплайнов тот же интерфейс, что и у обычных классификаторов, что делает его удобным."
   ]
  },
  {
   "cell_type": "code",
   "execution_count": 9,
   "metadata": {
    "ExecuteTime": {
     "end_time": "2017-07-04T16:29:59.165834",
     "start_time": "2017-07-04T16:29:59.162121"
    },
    "collapsed": true
   },
   "outputs": [],
   "source": [
    "clf = Pipeline([\n",
    "    ('1. Добавляем полиномиальные фичи', PolynomialFeatures(degree=2)),\n",
    "#     ('2. Нормализуем, если используем SGD', StandardScaler()),\n",
    "    ('3. Используем любимый классификатор', LinearRegression())\n",
    "])"
   ]
  },
  {
   "cell_type": "code",
   "execution_count": 10,
   "metadata": {
    "ExecuteTime": {
     "end_time": "2017-07-04T16:29:59.556461",
     "start_time": "2017-07-04T16:29:59.549869"
    },
    "collapsed": false
   },
   "outputs": [],
   "source": [
    "clf.fit(X_train, y_train);\n",
    "y_test = clf.predict(X_test)"
   ]
  },
  {
   "cell_type": "markdown",
   "metadata": {},
   "source": [
    "<div style=\"margin: 50px 0 0 0\" />"
   ]
  },
  {
   "cell_type": "code",
   "execution_count": 11,
   "metadata": {
    "ExecuteTime": {
     "end_time": "2017-07-04T16:30:01.770919",
     "start_time": "2017-07-04T16:30:01.534418"
    },
    "collapsed": false
   },
   "outputs": [
    {
     "data": {
      "image/png": "[encoded data removed]",
      "text/plain": [
       "<matplotlib.figure.Figure at 0x10b08ddd8>"
      ]
     },
     "metadata": {},
     "output_type": "display_data"
    }
   ],
   "source": [
    "plt.scatter(X_train, y_train);\n",
    "plt.plot(X_test, y_test, c='r');"
   ]
  },
  {
   "cell_type": "markdown",
   "metadata": {},
   "source": [
    "# Grid search"
   ]
  },
  {
   "cell_type": "code",
   "execution_count": 12,
   "metadata": {
    "ExecuteTime": {
     "end_time": "2017-07-04T16:30:03.347774",
     "start_time": "2017-07-04T16:30:03.344701"
    },
    "collapsed": true
   },
   "outputs": [],
   "source": [
    "from sklearn.model_selection import GridSearchCV\n",
    "from sklearn.linear_model import SGDRegressor"
   ]
  },
  {
   "cell_type": "markdown",
   "metadata": {},
   "source": [
    "<div class=\"panel panel-warning\" style=\"margin: 50px 0 0 0\">\n",
    "    <div class=\"panel-heading\">\n",
    "        <h3 class=\"panel-title\">Обратите внимание</h3> \n",
    "    </div>\n",
    "</div>\n",
    "\n",
    "GridSearch прогоняет все комбинации гиперпараметров, поэтому в коде ниже будут тренироваться <b>45</b> разных классификаторов! Будьте внимательны и следите в своем коде, чтобы количество прогонов было разумным. Сейчас нам просто повезло, что выборка очень маленькая, и линейные классификаторы очень быстрые."
   ]
  },
  {
   "cell_type": "code",
   "execution_count": 33,
   "metadata": {
    "ExecuteTime": {
     "end_time": "2017-07-04T17:11:37.285625",
     "start_time": "2017-07-04T17:11:37.281490"
    },
    "collapsed": true
   },
   "outputs": [],
   "source": [
    "params = { \n",
    "    'n_iter': [100],\n",
    "    'alpha': [10**x for x in range(-2,3)],\n",
    "    'l1_ratio': [x*10/100. for x in range(1,10)]\n",
    "}"
   ]
  },
  {
   "cell_type": "code",
   "execution_count": 31,
   "metadata": {
    "ExecuteTime": {
     "end_time": "2017-07-04T17:08:34.292838",
     "start_time": "2017-07-04T17:08:33.803886"
    },
    "collapsed": false
   },
   "outputs": [],
   "source": [
    "gs = GridSearchCV(SGDRegressor(), param_grid=params)\n",
    "gs.fit(X_train, y_train);"
   ]
  },
  {
   "cell_type": "markdown",
   "metadata": {},
   "source": [
    "Набор оптимальных параметров лежит в <b>.best\\_params_</b>, а сам классификатор - в <b>.best\\_estimator_</b>.\n"
   ]
  },
  {
   "cell_type": "code",
   "execution_count": 32,
   "metadata": {
    "ExecuteTime": {
     "end_time": "2017-07-04T17:08:34.303200",
     "start_time": "2017-07-04T17:08:34.294315"
    },
    "collapsed": false
   },
   "outputs": [
    {
     "data": {
      "text/plain": [
       "{'alpha': 1, 'l1_ratio': 0.2, 'n_iter': 100}"
      ]
     },
     "execution_count": 32,
     "metadata": {},
     "output_type": "execute_result"
    }
   ],
   "source": [
    "gs.best_params_"
   ]
  },
  {
   "cell_type": "code",
   "execution_count": 17,
   "metadata": {
    "ExecuteTime": {
     "end_time": "2017-07-04T16:30:07.111699",
     "start_time": "2017-07-04T16:30:07.108813"
    },
    "collapsed": false
   },
   "outputs": [],
   "source": [
    "y_test = gs.best_estimator_.predict(X_test)"
   ]
  },
  {
   "cell_type": "markdown",
   "metadata": {},
   "source": [
    "<div style=\"margin: 50px 0 0 0\" />"
   ]
  },
  {
   "cell_type": "code",
   "execution_count": 18,
   "metadata": {
    "ExecuteTime": {
     "end_time": "2017-07-04T16:30:08.063157",
     "start_time": "2017-07-04T16:30:07.838724"
    },
    "collapsed": false
   },
   "outputs": [
    {
     "data": {
      "image/png": "[encoded data removed]",
      "text/plain": [
       "<matplotlib.figure.Figure at 0x10b199be0>"
      ]
     },
     "metadata": {},
     "output_type": "display_data"
    }
   ],
   "source": [
    "plt.scatter(X_train, y_train);\n",
    "plt.plot(X_test, y_test, c='r');"
   ]
  },
  {
   "cell_type": "markdown",
   "metadata": {},
   "source": [
    "# Grid search with Pipeline"
   ]
  },
  {
   "cell_type": "code",
   "execution_count": 19,
   "metadata": {
    "ExecuteTime": {
     "end_time": "2017-07-04T16:30:11.387191",
     "start_time": "2017-07-04T16:30:11.384191"
    },
    "collapsed": true
   },
   "outputs": [],
   "source": [
    "from sklearn.linear_model import ElasticNet"
   ]
  },
  {
   "cell_type": "markdown",
   "metadata": {},
   "source": [
    "<div class=\"panel panel-danger\" style=\"margin: 50px 0 0 0\">\n",
    "    <div class=\"panel-heading\">\n",
    "        <h3 class=\"panel-title\">Важно</h3> \n",
    "    </div>\n",
    "</div>\n",
    "\n",
    "При использовании одновременно пайплайна и перебора параметров по сетке каждый параметр находится по адресу <b><Имя шага>__<Имя параметра></b>, - в середине два нижних подчеркивания (underscores)."
   ]
  },
  {
   "cell_type": "code",
   "execution_count": 20,
   "metadata": {
    "ExecuteTime": {
     "end_time": "2017-07-04T16:30:11.839287",
     "start_time": "2017-07-04T16:30:11.834116"
    },
    "collapsed": true
   },
   "outputs": [],
   "source": [
    "clf = Pipeline([\n",
    "    ('poly_features', PolynomialFeatures()),\n",
    "    ('scaler', StandardScaler()),\n",
    "    ('elastic', ElasticNet())\n",
    "])"
   ]
  },
  {
   "cell_type": "code",
   "execution_count": 21,
   "metadata": {
    "ExecuteTime": {
     "end_time": "2017-07-04T16:30:12.501069",
     "start_time": "2017-07-04T16:30:12.496213"
    },
    "collapsed": true
   },
   "outputs": [],
   "source": [
    "params = { \n",
    "    'poly_features__degree': [2,5,10],\n",
    "    'elastic__alpha': [10**x for x in range(-2,3)],\n",
    "    'elastic__l1_ratio': [x*10/100. for x in range(1,10)]\n",
    "}"
   ]
  },
  {
   "cell_type": "code",
   "execution_count": 22,
   "metadata": {
    "ExecuteTime": {
     "end_time": "2017-07-04T16:30:13.262386",
     "start_time": "2017-07-04T16:30:13.259151"
    },
    "collapsed": false
   },
   "outputs": [],
   "source": [
    "gs = GridSearchCV(clf, param_grid=params)"
   ]
  },
  {
   "cell_type": "code",
   "execution_count": 23,
   "metadata": {
    "ExecuteTime": {
     "end_time": "2017-07-04T16:30:15.112925",
     "start_time": "2017-07-04T16:30:13.717969"
    },
    "collapsed": true
   },
   "outputs": [],
   "source": [
    "gs.fit(X_train, y_train);"
   ]
  },
  {
   "cell_type": "code",
   "execution_count": 24,
   "metadata": {
    "ExecuteTime": {
     "end_time": "2017-07-04T16:30:15.121345",
     "start_time": "2017-07-04T16:30:15.114422"
    },
    "collapsed": false
   },
   "outputs": [
    {
     "data": {
      "text/plain": [
       "{'elastic__alpha': 0.01, 'elastic__l1_ratio': 0.1, 'poly_features__degree': 5}"
      ]
     },
     "execution_count": 24,
     "metadata": {},
     "output_type": "execute_result"
    }
   ],
   "source": [
    "gs.best_params_"
   ]
  },
  {
   "cell_type": "code",
   "execution_count": 25,
   "metadata": {
    "ExecuteTime": {
     "end_time": "2017-07-04T16:30:15.519338",
     "start_time": "2017-07-04T16:30:15.515364"
    },
    "collapsed": false
   },
   "outputs": [],
   "source": [
    "y_test = gs.best_estimator_.predict(X_test)"
   ]
  },
  {
   "cell_type": "markdown",
   "metadata": {},
   "source": [
    "<div style=\"margin: 50px 0 0 0\" />"
   ]
  },
  {
   "cell_type": "code",
   "execution_count": 26,
   "metadata": {
    "ExecuteTime": {
     "end_time": "2017-07-04T16:30:16.569495",
     "start_time": "2017-07-04T16:30:16.352170"
    },
    "collapsed": false
   },
   "outputs": [
    {
     "data": {
      "image/png": "[encoded data removed]",
      "text/plain": [
       "<matplotlib.figure.Figure at 0x10b245c88>"
      ]
     },
     "metadata": {},
     "output_type": "display_data"
    }
   ],
   "source": [
    "plt.scatter(X_train, y_train);\n",
    "plt.plot(X_test, y_test, c='r');"
   ]
  }
 ],
 "metadata": {
  "kernelspec": {
   "display_name": "Python 3",
   "language": "python",
   "name": "python3"
  },
  "language_info": {
   "codemirror_mode": {
    "name": "ipython",
    "version": 3
   },
   "file_extension": ".py",
   "mimetype": "text/x-python",
   "name": "python",
   "nbconvert_exporter": "python",
   "pygments_lexer": "ipython3",
   "version": "3.6.0"
  },
  "toc": {
   "colors": {
    "hover_highlight": "#DAA520",
    "running_highlight": "#FF0000",
    "selected_highlight": "#FFD700"
   },
   "moveMenuLeft": true,
   "nav_menu": {
    "height": "156px",
    "width": "252px"
   },
   "navigate_menu": true,
   "number_sections": false,
   "sideBar": true,
   "threshold": 4,
   "toc_cell": false,
   "toc_section_display": "block",
   "toc_window_display": false
  }
 },
 "nbformat": 4,
 "nbformat_minor": 2
}
