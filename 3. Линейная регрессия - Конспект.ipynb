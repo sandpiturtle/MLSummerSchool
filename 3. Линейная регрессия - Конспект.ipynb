{
 "cells": [
  {
   "cell_type": "code",
   "execution_count": 1,
   "metadata": {
    "ExecuteTime": {
     "end_time": "2017-07-20T12:28:50.997165",
     "start_time": "2017-07-20T12:28:50.992059"
    },
    "collapsed": true
   },
   "outputs": [],
   "source": [
    "import matplotlib.pyplot as plt\n",
    "%matplotlib inline"
   ]
  },
  {
   "cell_type": "code",
   "execution_count": 2,
   "metadata": {
    "ExecuteTime": {
     "end_time": "2017-07-20T12:28:51.099970",
     "start_time": "2017-07-20T12:28:51.091609"
    },
    "collapsed": true
   },
   "outputs": [],
   "source": [
    "m = 100\n",
    "X_train = 10 * np.random.rand(m, 1) - 5\n",
    "y_train = 0.5 * X_train**2 + 2 + np.random.randn(m, 1)"
   ]
  },
  {
   "cell_type": "code",
   "execution_count": 3,
   "metadata": {
    "ExecuteTime": {
     "end_time": "2017-07-20T12:28:51.333905",
     "start_time": "2017-07-20T12:28:51.329355"
    },
    "collapsed": true
   },
   "outputs": [],
   "source": [
    "X_test = np.array([np.linspace(X_train.min()-2, X_train.max()+2)]).T"
   ]
  },
  {
   "cell_type": "code",
   "execution_count": 4,
   "metadata": {
    "ExecuteTime": {
     "end_time": "2017-07-20T12:28:51.833044",
     "start_time": "2017-07-20T12:28:51.566049"
    },
    "collapsed": false
   },
   "outputs": [
    {
     "data": {
      "image/png": "[encoded data removed]",
      "text/plain": [
       "<matplotlib.figure.Figure at 0x10ef176a0>"
      ]
     },
     "metadata": {},
     "output_type": "display_data"
    }
   ],
   "source": [
    "plt.scatter(X_train, y_train);"
   ]
  },
  {
   "cell_type": "markdown",
   "metadata": {},
   "source": [
    "# Baseline"
   ]
  },
  {
   "cell_type": "code",
   "execution_count": 5,
   "metadata": {
    "ExecuteTime": {
     "end_time": "2017-07-20T12:28:52.040695",
     "start_time": "2017-07-20T12:28:51.890056"
    },
    "collapsed": true
   },
   "outputs": [],
   "source": [
    "from sklearn.linear_model import LinearRegression"
   ]
  },
  {
   "cell_type": "markdown",
   "metadata": {},
   "source": [
    "<div class=\"panel panel-danger\" style=\"margin: 50px 0 0 0\">\n",
    "    <div class=\"panel-heading\">\n",
    "        <h3 class=\"panel-title\">Важно</h3> \n",
    "    </div>\n",
    "</div>\n",
    "\n",
    "У большинства классов sklearn интерфейс базируется на следующих методах:\n",
    "<ol>\n",
    "    <li> методах <b>.fit(), .transform(), .fit_transform()</b>, если эта штука каким-то образом меняет данные;\n",
    "    <li> методах <b>.fit(), .predict(), .fit_predict()</b>, если это классификатор для предсказаний.\n",
    "</ol>"
   ]
  },
  {
   "cell_type": "code",
   "execution_count": 6,
   "metadata": {
    "ExecuteTime": {
     "end_time": "2017-07-20T12:28:52.518672",
     "start_time": "2017-07-20T12:28:52.513117"
    },
    "collapsed": false
   },
   "outputs": [],
   "source": [
    "clf = LinearRegression()\n",
    "clf.fit(X_train, y_train);\n",
    "\n",
    "y_test = clf.predict(X_test)"
   ]
  },
  {
   "cell_type": "markdown",
   "metadata": {},
   "source": [
    "<div style=\"margin: 50px 0 0 0\" />"
   ]
  },
  {
   "cell_type": "code",
   "execution_count": 7,
   "metadata": {
    "ExecuteTime": {
     "end_time": "2017-07-20T12:28:53.329103",
     "start_time": "2017-07-20T12:28:53.122527"
    },
    "collapsed": false
   },
   "outputs": [
    {
     "data": {
      "image/png": "[encoded data removed]",
      "text/plain": [
       "<matplotlib.figure.Figure at 0x10f763ac8>"
      ]
     },
     "metadata": {},
     "output_type": "display_data"
    }
   ],
   "source": [
    "plt.scatter(X_train, y_train);\n",
    "plt.plot(X_test, y_test, 'r');"
   ]
  },
  {
   "cell_type": "markdown",
   "metadata": {},
   "source": [
    "# Pipeline"
   ]
  },
  {
   "cell_type": "code",
   "execution_count": 8,
   "metadata": {
    "ExecuteTime": {
     "end_time": "2017-07-20T12:28:53.949343",
     "start_time": "2017-07-20T12:28:53.943375"
    },
    "collapsed": true
   },
   "outputs": [],
   "source": [
    "from sklearn.preprocessing import StandardScaler, PolynomialFeatures\n",
    "from sklearn.pipeline import Pipeline, make_pipeline"
   ]
  },
  {
   "cell_type": "markdown",
   "metadata": {},
   "source": [
    "<div class=\"panel panel-warning\" style=\"margin: 50px 0 0 0\">\n",
    "    <div class=\"panel-heading\">\n",
    "        <h3 class=\"panel-title\">Обратите внимание</h3> \n",
    "    </div>\n",
    "</div>\n",
    "\n",
    "У пайплайнов тот же интерфейс, что и у обычных классификаторов, что делает его удобным."
   ]
  },
  {
   "cell_type": "code",
   "execution_count": 9,
   "metadata": {
    "ExecuteTime": {
     "end_time": "2017-07-20T12:28:54.586224",
     "start_time": "2017-07-20T12:28:54.582250"
    },
    "collapsed": true
   },
   "outputs": [],
   "source": [
    "clf = Pipeline([\n",
    "    ('1. Добавляем полиномиальные фичи', PolynomialFeatures(degree=2)),\n",
    "#     ('2. Нормализуем, если используем SGD', StandardScaler()),\n",
    "    ('3. Используем любимый классификатор', LinearRegression())\n",
    "])"
   ]
  },
  {
   "cell_type": "code",
   "execution_count": 10,
   "metadata": {
    "ExecuteTime": {
     "end_time": "2017-07-20T12:28:54.803178",
     "start_time": "2017-07-20T12:28:54.800094"
    },
    "collapsed": false
   },
   "outputs": [],
   "source": [
    "clf = make_pipeline(PolynomialFeatures(degree=2), LinearRegression())"
   ]
  },
  {
   "cell_type": "code",
   "execution_count": 11,
   "metadata": {
    "ExecuteTime": {
     "end_time": "2017-07-20T12:28:55.025940",
     "start_time": "2017-07-20T12:28:55.020380"
    },
    "collapsed": false
   },
   "outputs": [],
   "source": [
    "clf.fit(X_train, y_train);\n",
    "y_test = clf.predict(X_test)"
   ]
  },
  {
   "cell_type": "markdown",
   "metadata": {},
   "source": [
    "<div style=\"margin: 50px 0 0 0\" />"
   ]
  },
  {
   "cell_type": "code",
   "execution_count": 12,
   "metadata": {
    "ExecuteTime": {
     "end_time": "2017-07-20T12:28:55.670948",
     "start_time": "2017-07-20T12:28:55.398059"
    },
    "collapsed": false
   },
   "outputs": [
    {
     "data": {
      "image/png": "[encoded data removed]",
      "text/plain": [
       "<matplotlib.figure.Figure at 0x10f763cc0>"
      ]
     },
     "metadata": {},
     "output_type": "display_data"
    }
   ],
   "source": [
    "plt.scatter(X_train, y_train);\n",
    "plt.plot(X_test, y_test, c='r');"
   ]
  },
  {
   "cell_type": "markdown",
   "metadata": {},
   "source": [
    "# Grid search"
   ]
  },
  {
   "cell_type": "code",
   "execution_count": 13,
   "metadata": {
    "ExecuteTime": {
     "end_time": "2017-07-20T12:28:56.078712",
     "start_time": "2017-07-20T12:28:56.074922"
    },
    "collapsed": true
   },
   "outputs": [],
   "source": [
    "from sklearn.model_selection import GridSearchCV\n",
    "from sklearn.linear_model import SGDRegressor"
   ]
  },
  {
   "cell_type": "markdown",
   "metadata": {},
   "source": [
    "<div class=\"panel panel-warning\" style=\"margin: 50px 0 0 0\">\n",
    "    <div class=\"panel-heading\">\n",
    "        <h3 class=\"panel-title\">Обратите внимание</h3> \n",
    "    </div>\n",
    "</div>\n",
    "\n",
    "GridSearch прогоняет все комбинации гиперпараметров, поэтому в коде ниже будут тренироваться <b>45</b> разных классификаторов! Будьте внимательны и следите в своем коде, чтобы количество прогонов было разумным. Сейчас нам просто повезло, что выборка очень маленькая, и линейные классификаторы очень быстрые."
   ]
  },
  {
   "cell_type": "code",
   "execution_count": 14,
   "metadata": {
    "ExecuteTime": {
     "end_time": "2017-07-20T12:28:56.842381",
     "start_time": "2017-07-20T12:28:56.837481"
    },
    "collapsed": true
   },
   "outputs": [],
   "source": [
    "params = { \n",
    "    'n_iter': [100],\n",
    "    'alpha': [10**x for x in range(-2,3)],\n",
    "    'l1_ratio': [x*10/100. for x in range(1,10)]\n",
    "}"
   ]
  },
  {
   "cell_type": "code",
   "execution_count": 15,
   "metadata": {
    "ExecuteTime": {
     "end_time": "2017-07-20T12:28:57.515101",
     "start_time": "2017-07-20T12:28:57.231939"
    },
    "collapsed": false
   },
   "outputs": [],
   "source": [
    "gs = GridSearchCV(SGDRegressor(), param_grid=params)\n",
    "gs.fit(X_train, y_train);"
   ]
  },
  {
   "cell_type": "markdown",
   "metadata": {},
   "source": [
    "Набор оптимальных параметров лежит в <b>.best\\_params_</b>, а сам классификатор - в <b>.best\\_estimator_</b>.\n"
   ]
  },
  {
   "cell_type": "code",
   "execution_count": 16,
   "metadata": {
    "ExecuteTime": {
     "end_time": "2017-07-20T12:28:57.937288",
     "start_time": "2017-07-20T12:28:57.932536"
    },
    "collapsed": false
   },
   "outputs": [
    {
     "data": {
      "text/plain": [
       "{'alpha': 100, 'l1_ratio': 0.5, 'n_iter': 100}"
      ]
     },
     "execution_count": 16,
     "metadata": {},
     "output_type": "execute_result"
    }
   ],
   "source": [
    "gs.best_params_"
   ]
  },
  {
   "cell_type": "code",
   "execution_count": 17,
   "metadata": {
    "ExecuteTime": {
     "end_time": "2017-07-20T12:28:58.289247",
     "start_time": "2017-07-20T12:28:58.284800"
    },
    "collapsed": false
   },
   "outputs": [
    {
     "data": {
      "text/plain": [
       "-0.019811567405806238"
      ]
     },
     "execution_count": 17,
     "metadata": {},
     "output_type": "execute_result"
    }
   ],
   "source": [
    "gs.best_score_"
   ]
  },
  {
   "cell_type": "code",
   "execution_count": 18,
   "metadata": {
    "ExecuteTime": {
     "end_time": "2017-07-20T12:28:58.655413",
     "start_time": "2017-07-20T12:28:58.652306"
    },
    "collapsed": false
   },
   "outputs": [],
   "source": [
    "y_test = gs.best_estimator_.predict(X_test)"
   ]
  },
  {
   "cell_type": "markdown",
   "metadata": {},
   "source": [
    "<div style=\"margin: 50px 0 0 0\" />"
   ]
  },
  {
   "cell_type": "code",
   "execution_count": 19,
   "metadata": {
    "ExecuteTime": {
     "end_time": "2017-07-20T12:28:59.727783",
     "start_time": "2017-07-20T12:28:59.506242"
    },
    "collapsed": false
   },
   "outputs": [
    {
     "data": {
      "image/png": "[encoded data removed]",
      "text/plain": [
       "<matplotlib.figure.Figure at 0x10f7c9eb8>"
      ]
     },
     "metadata": {},
     "output_type": "display_data"
    }
   ],
   "source": [
    "plt.scatter(X_train, y_train);\n",
    "plt.plot(X_test, y_test, c='r');"
   ]
  },
  {
   "cell_type": "markdown",
   "metadata": {},
   "source": [
    "# Grid search with Pipeline"
   ]
  },
  {
   "cell_type": "code",
   "execution_count": 20,
   "metadata": {
    "ExecuteTime": {
     "end_time": "2017-07-20T12:29:00.424992",
     "start_time": "2017-07-20T12:29:00.421902"
    },
    "collapsed": true
   },
   "outputs": [],
   "source": [
    "from sklearn.linear_model import ElasticNet"
   ]
  },
  {
   "cell_type": "markdown",
   "metadata": {},
   "source": [
    "<div class=\"panel panel-danger\" style=\"margin: 50px 0 0 0\">\n",
    "    <div class=\"panel-heading\">\n",
    "        <h3 class=\"panel-title\">Важно</h3> \n",
    "    </div>\n",
    "</div>\n",
    "\n",
    "При использовании одновременно пайплайна и перебора параметров по сетке каждый параметр находится по адресу <b><Имя шага>__<Имя параметра></b>, - в середине два нижних подчеркивания (underscores)."
   ]
  },
  {
   "cell_type": "code",
   "execution_count": 21,
   "metadata": {
    "ExecuteTime": {
     "end_time": "2017-07-20T12:29:01.135228",
     "start_time": "2017-07-20T12:29:01.130393"
    },
    "collapsed": true
   },
   "outputs": [],
   "source": [
    "clf = Pipeline([\n",
    "    ('poly_features', PolynomialFeatures()),\n",
    "    ('scaler', StandardScaler()),\n",
    "    ('elastic', ElasticNet())\n",
    "])"
   ]
  },
  {
   "cell_type": "code",
   "execution_count": 22,
   "metadata": {
    "ExecuteTime": {
     "end_time": "2017-07-20T12:29:01.495759",
     "start_time": "2017-07-20T12:29:01.492100"
    },
    "collapsed": true
   },
   "outputs": [],
   "source": [
    "params = { \n",
    "    'poly_features__degree': [2,5,10],\n",
    "    'elastic__alpha': [10**x for x in range(-2,3)],\n",
    "    'elastic__l1_ratio': [x*10/100. for x in range(1,10)]\n",
    "}"
   ]
  },
  {
   "cell_type": "code",
   "execution_count": 23,
   "metadata": {
    "ExecuteTime": {
     "end_time": "2017-07-20T12:29:01.805660",
     "start_time": "2017-07-20T12:29:01.802550"
    },
    "collapsed": false
   },
   "outputs": [],
   "source": [
    "gs = GridSearchCV(clf, param_grid=params)"
   ]
  },
  {
   "cell_type": "code",
   "execution_count": 24,
   "metadata": {
    "ExecuteTime": {
     "end_time": "2017-07-20T12:29:03.468408",
     "start_time": "2017-07-20T12:29:02.193075"
    },
    "collapsed": true
   },
   "outputs": [],
   "source": [
    "gs.fit(X_train, y_train);"
   ]
  },
  {
   "cell_type": "code",
   "execution_count": 25,
   "metadata": {
    "ExecuteTime": {
     "end_time": "2017-07-20T12:29:03.476914",
     "start_time": "2017-07-20T12:29:03.469893"
    },
    "collapsed": false
   },
   "outputs": [
    {
     "data": {
      "text/plain": [
       "{'elastic__alpha': 0.1, 'elastic__l1_ratio': 0.9, 'poly_features__degree': 2}"
      ]
     },
     "execution_count": 25,
     "metadata": {},
     "output_type": "execute_result"
    }
   ],
   "source": [
    "gs.best_params_"
   ]
  },
  {
   "cell_type": "code",
   "execution_count": 26,
   "metadata": {
    "ExecuteTime": {
     "end_time": "2017-07-20T12:29:04.038250",
     "start_time": "2017-07-20T12:29:04.034838"
    },
    "collapsed": false
   },
   "outputs": [],
   "source": [
    "y_test = gs.best_estimator_.predict(X_test)"
   ]
  },
  {
   "cell_type": "markdown",
   "metadata": {},
   "source": [
    "<div style=\"margin: 50px 0 0 0\" />"
   ]
  },
  {
   "cell_type": "code",
   "execution_count": 27,
   "metadata": {
    "ExecuteTime": {
     "end_time": "2017-07-20T12:29:06.934807",
     "start_time": "2017-07-20T12:29:06.730966"
    },
    "collapsed": false
   },
   "outputs": [
    {
     "data": {
      "image/png": "[encoded data removed]",
      "text/plain": [
       "<matplotlib.figure.Figure at 0x10f8ba0f0>"
      ]
     },
     "metadata": {},
     "output_type": "display_data"
    }
   ],
   "source": [
    "plt.scatter(X_train, y_train);\n",
    "plt.plot(X_test, y_test, c='r');"
   ]
  }
 ],
 "metadata": {
  "kernelspec": {
   "display_name": "Python 3",
   "language": "python",
   "name": "python3"
  },
  "language_info": {
   "codemirror_mode": {
    "name": "ipython",
    "version": 3
   },
   "file_extension": ".py",
   "mimetype": "text/x-python",
   "name": "python",
   "nbconvert_exporter": "python",
   "pygments_lexer": "ipython3",
   "version": "3.6.0"
  },
  "toc": {
   "colors": {
    "hover_highlight": "#DAA520",
    "running_highlight": "#FF0000",
    "selected_highlight": "#FFD700"
   },
   "moveMenuLeft": true,
   "nav_menu": {
    "height": "156px",
    "width": "252px"
   },
   "navigate_menu": true,
   "number_sections": false,
   "sideBar": true,
   "threshold": 4,
   "toc_cell": false,
   "toc_section_display": "block",
   "toc_window_display": false
  }
 },
 "nbformat": 4,
 "nbformat_minor": 2
}
