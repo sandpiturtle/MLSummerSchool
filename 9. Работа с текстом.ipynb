{
 "cells": [
  {
   "cell_type": "code",
   "execution_count": 1,
   "metadata": {
    "ExecuteTime": {
     "end_time": "2017-07-27T11:15:44.275946",
     "start_time": "2017-07-27T11:15:44.272938"
    },
    "collapsed": true
   },
   "outputs": [],
   "source": [
    "import pandas as pd"
   ]
  },
  {
   "cell_type": "markdown",
   "metadata": {},
   "source": [
    "# Постановка задачи"
   ]
  },
  {
   "cell_type": "markdown",
   "metadata": {},
   "source": [
    "Возьмем небольшой датасет __Sentiment140__ [вот отсюда](http://help.sentiment140.com/for-students/).\n",
    "\n",
    "В архиве два файла, первый - демонстрационный - содержит около 500 сообщений Твиттера, размеченных по тональности на классы _\"нейтральных\"_, _\"положительных\"_ и _\"отрицательных\"_. Второй файл уже посерьезнее, и содержит 1 600 000 твитов (~240Mb).\n",
    "\n",
    "Играться будем с первым, пытаясь предсказать тональность той небольшой группы, что на руках.\n",
    "\n",
    "_P.s._: у этих же ребят [вот здесь](http://help.sentiment140.com/other-resources) есть перечень открытых ресурсов с датасетами по sentiment analysis."
   ]
  },
  {
   "cell_type": "code",
   "execution_count": 2,
   "metadata": {
    "ExecuteTime": {
     "end_time": "2017-07-27T11:16:09.888503",
     "start_time": "2017-07-27T11:16:09.875530"
    },
    "collapsed": true
   },
   "outputs": [],
   "source": [
    "df = pd.read_csv('data/Sentiment140/testdata.manual.2009.06.14.csv', header=None)\n",
    "df.columns = ['polarity', 'id', 'date', 'query', 'user', 'text']"
   ]
  },
  {
   "cell_type": "code",
   "execution_count": 3,
   "metadata": {
    "ExecuteTime": {
     "end_time": "2017-07-27T11:16:10.539443",
     "start_time": "2017-07-27T11:16:10.532190"
    },
    "collapsed": true
   },
   "outputs": [],
   "source": [
    "df.drop(['id', 'date', 'query', 'user'], axis=1, inplace=True)"
   ]
  },
  {
   "cell_type": "code",
   "execution_count": 4,
   "metadata": {
    "ExecuteTime": {
     "end_time": "2017-07-27T11:16:12.935764",
     "start_time": "2017-07-27T11:16:12.930653"
    },
    "collapsed": false
   },
   "outputs": [
    {
     "data": {
      "text/plain": [
       "(498, 2)"
      ]
     },
     "execution_count": 4,
     "metadata": {},
     "output_type": "execute_result"
    }
   ],
   "source": [
    "df.shape"
   ]
  },
  {
   "cell_type": "code",
   "execution_count": 5,
   "metadata": {
    "ExecuteTime": {
     "end_time": "2017-07-27T11:16:13.758649",
     "start_time": "2017-07-27T11:16:13.748437"
    },
    "collapsed": false
   },
   "outputs": [
    {
     "data": {
      "text/html": [
       "<div>\n",
       "<style>\n",
       "    .dataframe thead tr:only-child th {\n",
       "        text-align: right;\n",
       "    }\n",
       "\n",
       "    .dataframe thead th {\n",
       "        text-align: left;\n",
       "    }\n",
       "\n",
       "    .dataframe tbody tr th {\n",
       "        vertical-align: top;\n",
       "    }\n",
       "</style>\n",
       "<table border=\"1\" class=\"dataframe\">\n",
       "  <thead>\n",
       "    <tr style=\"text-align: right;\">\n",
       "      <th></th>\n",
       "      <th>polarity</th>\n",
       "      <th>text</th>\n",
       "    </tr>\n",
       "  </thead>\n",
       "  <tbody>\n",
       "    <tr>\n",
       "      <th>0</th>\n",
       "      <td>4</td>\n",
       "      <td>@stellargirl I loooooooovvvvvveee my Kindle2. ...</td>\n",
       "    </tr>\n",
       "    <tr>\n",
       "      <th>1</th>\n",
       "      <td>4</td>\n",
       "      <td>Reading my kindle2...  Love it... Lee childs i...</td>\n",
       "    </tr>\n",
       "    <tr>\n",
       "      <th>2</th>\n",
       "      <td>4</td>\n",
       "      <td>Ok, first assesment of the #kindle2 ...it fuck...</td>\n",
       "    </tr>\n",
       "    <tr>\n",
       "      <th>3</th>\n",
       "      <td>4</td>\n",
       "      <td>@kenburbary You'll love your Kindle2. I've had...</td>\n",
       "    </tr>\n",
       "    <tr>\n",
       "      <th>4</th>\n",
       "      <td>4</td>\n",
       "      <td>@mikefish  Fair enough. But i have the Kindle2...</td>\n",
       "    </tr>\n",
       "  </tbody>\n",
       "</table>\n",
       "</div>"
      ],
      "text/plain": [
       "   polarity                                               text\n",
       "0         4  @stellargirl I loooooooovvvvvveee my Kindle2. ...\n",
       "1         4  Reading my kindle2...  Love it... Lee childs i...\n",
       "2         4  Ok, first assesment of the #kindle2 ...it fuck...\n",
       "3         4  @kenburbary You'll love your Kindle2. I've had...\n",
       "4         4  @mikefish  Fair enough. But i have the Kindle2..."
      ]
     },
     "execution_count": 5,
     "metadata": {},
     "output_type": "execute_result"
    }
   ],
   "source": [
    "df.head()"
   ]
  },
  {
   "cell_type": "markdown",
   "metadata": {},
   "source": [
    "# Шаги предобработки и подготовки текста"
   ]
  },
  {
   "cell_type": "markdown",
   "metadata": {},
   "source": [
    "## Токенизация"
   ]
  },
  {
   "cell_type": "markdown",
   "metadata": {},
   "source": [
    "Токенизация - процесс разделения текста на слова. И задача вовсе не тривиальная, как может показаться на первый взгляд. \"Нью-Йорк\" - это один токен или два? А \"красно-синий\" - два или один? \"Воруй-убивай\" - два? \"Тем не менее\" - один или три? \n",
    "\n",
    "Как только начинаешь задумываться об автоматизации и построении токенизаторов, всплывает множество любопытных нюансов вроде приведенных выше примеров."
   ]
  },
  {
   "cell_type": "code",
   "execution_count": 7,
   "metadata": {
    "ExecuteTime": {
     "end_time": "2017-07-27T11:19:14.289514",
     "start_time": "2017-07-27T11:19:14.286576"
    },
    "collapsed": true
   },
   "outputs": [],
   "source": [
    "from nltk import word_tokenize, wordpunct_tokenize, sent_tokenize"
   ]
  },
  {
   "cell_type": "code",
   "execution_count": 9,
   "metadata": {
    "ExecuteTime": {
     "end_time": "2017-07-27T11:20:11.611417",
     "start_time": "2017-07-27T11:20:11.606801"
    },
    "collapsed": false
   },
   "outputs": [
    {
     "data": {
      "text/plain": [
       "'Reading my kindle2...  Love it... Lee childs is good read.'"
      ]
     },
     "execution_count": 9,
     "metadata": {},
     "output_type": "execute_result"
    }
   ],
   "source": [
    "s = df.text[1]\n",
    "s"
   ]
  },
  {
   "cell_type": "code",
   "execution_count": 11,
   "metadata": {
    "ExecuteTime": {
     "end_time": "2017-07-27T11:20:38.318007",
     "start_time": "2017-07-27T11:20:38.315101"
    },
    "collapsed": true
   },
   "outputs": [],
   "source": [
    "import re"
   ]
  },
  {
   "cell_type": "code",
   "execution_count": 12,
   "metadata": {
    "ExecuteTime": {
     "end_time": "2017-07-27T11:20:38.503090",
     "start_time": "2017-07-27T11:20:38.495701"
    },
    "collapsed": false
   },
   "outputs": [
    {
     "data": {
      "text/plain": [
       "['reading',\n",
       " 'my',\n",
       " 'kindle2',\n",
       " 'love',\n",
       " 'it',\n",
       " 'lee',\n",
       " 'childs',\n",
       " 'is',\n",
       " 'good',\n",
       " 'read']"
      ]
     },
     "execution_count": 12,
     "metadata": {},
     "output_type": "execute_result"
    }
   ],
   "source": [
    "tokens = [x.lower() for x in word_tokenize(s) if re.match(\"[a-zA-Z\\d]+\", x) is not None]\n",
    "tokens"
   ]
  },
  {
   "cell_type": "markdown",
   "metadata": {},
   "source": [
    "## Стоп-слова"
   ]
  },
  {
   "cell_type": "markdown",
   "metadata": {},
   "source": [
    "Следующий важный шаг: выбрасывания из текста таких слов, которые встречаются равномерно везде, и никакой полезной информации не несут."
   ]
  },
  {
   "cell_type": "code",
   "execution_count": 13,
   "metadata": {
    "ExecuteTime": {
     "end_time": "2017-07-27T11:20:56.405813",
     "start_time": "2017-07-27T11:20:56.403000"
    },
    "collapsed": true
   },
   "outputs": [],
   "source": [
    "from nltk.corpus import stopwords"
   ]
  },
  {
   "cell_type": "code",
   "execution_count": 14,
   "metadata": {
    "ExecuteTime": {
     "end_time": "2017-07-27T11:20:58.234394",
     "start_time": "2017-07-27T11:20:58.203205"
    },
    "collapsed": false
   },
   "outputs": [
    {
     "name": "stdout",
     "output_type": "stream",
     "text": [
      "i\t\bme\t\bmy\t\bmyself\t\bwe\t\bour\t\bours\t\bourselves\t\byou\t\byour\t\byours\t\byourself\t\byourselves\t\bhe\t\bhim\t\bhis\t\bhimself\t\bshe\t\bher\t\bhers\t\bherself\t\bit\t\bits\t\bitself\t\bthey\t\bthem\t\btheir\t\btheirs\t\bthemselves\t\bwhat\t\bwhich\t\bwho\t\bwhom\t\bthis\t\bthat\t\bthese\t\bthose\t\bam\t\bis\t\bare\t\bwas\t\bwere\t\bbe\t\bbeen\t\bbeing\t\bhave\t\bhas\t\bhad\t\bhaving\t\bdo\t\bdoes\t\bdid\t\bdoing\t\ba\t\ban\t\bthe\t\band\t\bbut\t\bif\t\bor\t\bbecause\t\bas\t\buntil\t\bwhile\t\bof\t\bat\t\bby\t\bfor\t\bwith\t\babout\t\bagainst\t\bbetween\t\binto\t\bthrough\t\bduring\t\bbefore\t\bafter\t\babove\t\bbelow\t\bto\t\bfrom\t\bup\t\bdown\t\bin\t\bout\t\bon\t\boff\t\bover\t\bunder\t\bagain\t\bfurther\t\bthen\t\bonce\t\bhere\t\bthere\t\bwhen\t\bwhere\t\bwhy\t\bhow\t\ball\t\bany\t\bboth\t\beach\t\bfew\t\bmore\t\bmost\t\bother\t\bsome\t\bsuch\t\bno\t\bnor\t\bnot\t\bonly\t\bown\t\bsame\t\bso\t\bthan\t\btoo\t\bvery\t\bs\t\bt\t\bcan\t\bwill\t\bjust\t\bdon\t\bshould\t\bnow\t\bd\t\bll\t\bm\t\bo\t\bre\t\bve\t\by\t\bain\t\baren\t\bcouldn\t\bdidn\t\bdoesn\t\bhadn\t\bhasn\t\bhaven\t\bisn\t\bma\t\bmightn\t\bmustn\t\bneedn\t\bshan\t\bshouldn\t\bwasn\t\bweren\t\bwon\t\bwouldn\t\b"
     ]
    }
   ],
   "source": [
    "[print(x, end='\\t\\b') for x in stopwords.words('english')];"
   ]
  },
  {
   "cell_type": "code",
   "execution_count": 15,
   "metadata": {
    "ExecuteTime": {
     "end_time": "2017-07-27T11:21:31.361058",
     "start_time": "2017-07-27T11:21:31.337915"
    },
    "collapsed": false
   },
   "outputs": [
    {
     "name": "stdout",
     "output_type": "stream",
     "text": [
      "и\t\bв\t\bво\t\bне\t\bчто\t\bон\t\bна\t\bя\t\bс\t\bсо\t\bкак\t\bа\t\bто\t\bвсе\t\bона\t\bтак\t\bего\t\bно\t\bда\t\bты\t\bк\t\bу\t\bже\t\bвы\t\bза\t\bбы\t\bпо\t\bтолько\t\bее\t\bмне\t\bбыло\t\bвот\t\bот\t\bменя\t\bеще\t\bнет\t\bо\t\bиз\t\bему\t\bтеперь\t\bкогда\t\bдаже\t\bну\t\bвдруг\t\bли\t\bесли\t\bуже\t\bили\t\bни\t\bбыть\t\bбыл\t\bнего\t\bдо\t\bвас\t\bнибудь\t\bопять\t\bуж\t\bвам\t\bведь\t\bтам\t\bпотом\t\bсебя\t\bничего\t\bей\t\bможет\t\bони\t\bтут\t\bгде\t\bесть\t\bнадо\t\bней\t\bдля\t\bмы\t\bтебя\t\bих\t\bчем\t\bбыла\t\bсам\t\bчтоб\t\bбез\t\bбудто\t\bчего\t\bраз\t\bтоже\t\bсебе\t\bпод\t\bбудет\t\bж\t\bтогда\t\bкто\t\bэтот\t\bтого\t\bпотому\t\bэтого\t\bкакой\t\bсовсем\t\bним\t\bздесь\t\bэтом\t\bодин\t\bпочти\t\bмой\t\bтем\t\bчтобы\t\bнее\t\bсейчас\t\bбыли\t\bкуда\t\bзачем\t\bвсех\t\bникогда\t\bможно\t\bпри\t\bнаконец\t\bдва\t\bоб\t\bдругой\t\bхоть\t\bпосле\t\bнад\t\bбольше\t\bтот\t\bчерез\t\bэти\t\bнас\t\bпро\t\bвсего\t\bних\t\bкакая\t\bмного\t\bразве\t\bтри\t\bэту\t\bмоя\t\bвпрочем\t\bхорошо\t\bсвою\t\bэтой\t\bперед\t\bиногда\t\bлучше\t\bчуть\t\bтом\t\bнельзя\t\bтакой\t\bим\t\bболее\t\bвсегда\t\bконечно\t\bвсю\t\bмежду\t\b"
     ]
    }
   ],
   "source": [
    "[print(x, end='\\t\\b') for x in stopwords.words('russian')];"
   ]
  },
  {
   "cell_type": "code",
   "execution_count": 16,
   "metadata": {
    "ExecuteTime": {
     "end_time": "2017-07-27T11:21:37.599557",
     "start_time": "2017-07-27T11:21:37.592148"
    },
    "collapsed": false
   },
   "outputs": [
    {
     "data": {
      "text/plain": [
       "['my', 'it', 'is']"
      ]
     },
     "execution_count": 16,
     "metadata": {},
     "output_type": "execute_result"
    }
   ],
   "source": [
    "throwed = [x for x in tokens if x in stopwords.words('english')]\n",
    "throwed"
   ]
  },
  {
   "cell_type": "code",
   "execution_count": 17,
   "metadata": {
    "ExecuteTime": {
     "end_time": "2017-07-27T11:21:44.271767",
     "start_time": "2017-07-27T11:21:44.264221"
    },
    "collapsed": false
   },
   "outputs": [
    {
     "data": {
      "text/plain": [
       "['reading', 'kindle2', 'love', 'lee', 'childs', 'good', 'read']"
      ]
     },
     "execution_count": 17,
     "metadata": {},
     "output_type": "execute_result"
    }
   ],
   "source": [
    "filtered_tokens = [x for x in tokens if x not in stopwords.words('english')]\n",
    "filtered_tokens"
   ]
  },
  {
   "cell_type": "markdown",
   "metadata": {},
   "source": [
    "## Лемматизация или стемминг"
   ]
  },
  {
   "cell_type": "markdown",
   "metadata": {},
   "source": [
    "В сложных естественных языках (таких как русский язык) одно и то же слово может принимать разные формы (падежи), и в словарь частотного анализа могут попадать все словоформы, отличающиеся предлогами и/или окончаниями. Из-за этого может сильно увеличиваться размер словаря и соответственно размер набора данных для обучения, что может вызывать падение производительности системы и ухудшать обобщающие способности классификатора (переобучение).\n",
    "\n",
    "Первый - это __лемматизация__. Суть лемматизации заключается в том, что все слова в тексте приводятся к нормальной форме (единственное число  именительного падежа). Лемматизация требует словарей языков, на которых написан текст, она выполняет поиск для всех слов текста их нормальной формы по словарям, и это может существенно снижать производительность.\n",
    "\n",
    "Второй метод - это __стемминг__. Суть стемминга - выделение основы слов путём отбрасывания приставок и окончаний. Этот способ нормализации текста работает гораздо быстрее чем лематизация. Он менее качественный но для частотного анализа его вполне достаточно."
   ]
  },
  {
   "cell_type": "markdown",
   "metadata": {},
   "source": [
    "### Лемматизация"
   ]
  },
  {
   "cell_type": "markdown",
   "metadata": {},
   "source": [
    "__PROS:__\n",
    "\n",
    "1. Нормализация текста не использует стемминг, поэтому она лишена недостатков потери релевантности из-за особенностей русского словоизменения.\n",
    "\n",
    "__CONS:__\n",
    "\n",
    "1. Внешние зависимости.\n",
    "2. Скорость работы.\n",
    "3. Новые неопределенности на уровне морфологии языка:\n",
    "\n",
    "```\n",
    "Мы роем яму ---<lemmatizer>---> мы (рыть? рой?) яма\n",
    "```"
   ]
  },
  {
   "cell_type": "code",
   "execution_count": 18,
   "metadata": {
    "ExecuteTime": {
     "end_time": "2017-07-27T11:25:17.895193",
     "start_time": "2017-07-27T11:25:17.892054"
    },
    "collapsed": true
   },
   "outputs": [],
   "source": [
    "from nltk import WordNetLemmatizer"
   ]
  },
  {
   "cell_type": "code",
   "execution_count": 19,
   "metadata": {
    "ExecuteTime": {
     "end_time": "2017-07-27T11:25:30.050051",
     "start_time": "2017-07-27T11:25:30.047111"
    },
    "collapsed": false
   },
   "outputs": [],
   "source": [
    "wnl = WordNetLemmatizer()"
   ]
  },
  {
   "cell_type": "code",
   "execution_count": 21,
   "metadata": {
    "ExecuteTime": {
     "end_time": "2017-07-27T11:26:08.387865",
     "start_time": "2017-07-27T11:26:08.379043"
    },
    "collapsed": false
   },
   "outputs": [
    {
     "name": "stdout",
     "output_type": "stream",
     "text": [
      "   reading -> read       <- processed!\n",
      "   kindle2 -> kindle2    \n",
      "      love -> love       \n",
      "       lee -> lee        \n",
      "    childs -> childs     \n",
      "      good -> good       \n",
      "      read -> read       \n"
     ]
    }
   ],
   "source": [
    "lemmatized = [wnl.lemmatize(x, pos='v') for x in filtered_tokens]\n",
    "\n",
    "for a,b in zip(filtered_tokens, lemmatized):\n",
    "    print(a.rjust(10), '->', b.ljust(10), '' if a == b else '<- processed!')"
   ]
  },
  {
   "cell_type": "code",
   "execution_count": 22,
   "metadata": {
    "ExecuteTime": {
     "end_time": "2017-07-27T11:26:25.655223",
     "start_time": "2017-07-27T11:26:25.646973"
    },
    "collapsed": false
   },
   "outputs": [
    {
     "name": "stdout",
     "output_type": "stream",
     "text": [
      "   reading -> reading    \n",
      "   kindle2 -> kindle2    \n",
      "      love -> love       \n",
      "       lee -> lee        \n",
      "    childs -> child      <- processed!\n",
      "      good -> good       \n",
      "      read -> read       \n"
     ]
    }
   ],
   "source": [
    "lemmatized = [wnl.lemmatize(x) for x in filtered_tokens] # default is Noun\n",
    "\n",
    "for a,b in zip(filtered_tokens, lemmatized):\n",
    "    print(a.rjust(10), '->', b.ljust(10), '' if a == b else '<- processed!')"
   ]
  },
  {
   "cell_type": "markdown",
   "metadata": {},
   "source": [
    "Следовательно, нам нужна предварительное разеделение по частям речи. Выполним его:"
   ]
  },
  {
   "cell_type": "code",
   "execution_count": 25,
   "metadata": {
    "ExecuteTime": {
     "end_time": "2017-07-27T11:27:23.040420",
     "start_time": "2017-07-27T11:27:23.037642"
    },
    "collapsed": true
   },
   "outputs": [],
   "source": [
    "from nltk import pos_tag"
   ]
  },
  {
   "cell_type": "code",
   "execution_count": 26,
   "metadata": {
    "ExecuteTime": {
     "end_time": "2017-07-27T11:27:30.984535",
     "start_time": "2017-07-27T11:27:30.978504"
    },
    "collapsed": false
   },
   "outputs": [
    {
     "data": {
      "text/plain": [
       "[('reading', 'VBG'),\n",
       " ('kindle2', 'NN'),\n",
       " ('love', 'NN'),\n",
       " ('lee', 'NN'),\n",
       " ('childs', 'NNS'),\n",
       " ('good', 'JJ'),\n",
       " ('read', 'NN')]"
      ]
     },
     "execution_count": 26,
     "metadata": {},
     "output_type": "execute_result"
    }
   ],
   "source": [
    "pos_tag(filtered_tokens)"
   ]
  },
  {
   "cell_type": "code",
   "execution_count": 27,
   "metadata": {
    "ExecuteTime": {
     "end_time": "2017-07-27T11:27:33.560666",
     "start_time": "2017-07-27T11:27:33.557776"
    },
    "collapsed": true
   },
   "outputs": [],
   "source": [
    "from nltk.help import upenn_tagset"
   ]
  },
  {
   "cell_type": "code",
   "execution_count": 28,
   "metadata": {
    "ExecuteTime": {
     "end_time": "2017-07-27T11:27:38.434719",
     "start_time": "2017-07-27T11:27:38.421801"
    },
    "collapsed": false
   },
   "outputs": [
    {
     "name": "stdout",
     "output_type": "stream",
     "text": [
      "$: dollar\n",
      "    $ -$ --$ A$ C$ HK$ M$ NZ$ S$ U.S.$ US$\n",
      "'': closing quotation mark\n",
      "    ' ''\n",
      "(: opening parenthesis\n",
      "    ( [ {\n",
      "): closing parenthesis\n",
      "    ) ] }\n",
      ",: comma\n",
      "    ,\n",
      "--: dash\n",
      "    --\n",
      ".: sentence terminator\n",
      "    . ! ?\n",
      ":: colon or ellipsis\n",
      "    : ; ...\n",
      "CC: conjunction, coordinating\n",
      "    & 'n and both but either et for less minus neither nor or plus so\n",
      "    therefore times v. versus vs. whether yet\n",
      "CD: numeral, cardinal\n",
      "    mid-1890 nine-thirty forty-two one-tenth ten million 0.5 one forty-\n",
      "    seven 1987 twenty '79 zero two 78-degrees eighty-four IX '60s .025\n",
      "    fifteen 271,124 dozen quintillion DM2,000 ...\n",
      "DT: determiner\n",
      "    all an another any both del each either every half la many much nary\n",
      "    neither no some such that the them these this those\n",
      "EX: existential there\n",
      "    there\n",
      "FW: foreign word\n",
      "    gemeinschaft hund ich jeux habeas Haementeria Herr K'ang-si vous\n",
      "    lutihaw alai je jour objets salutaris fille quibusdam pas trop Monte\n",
      "    terram fiche oui corporis ...\n",
      "IN: preposition or conjunction, subordinating\n",
      "    astride among uppon whether out inside pro despite on by throughout\n",
      "    below within for towards near behind atop around if like until below\n",
      "    next into if beside ...\n",
      "JJ: adjective or numeral, ordinal\n",
      "    third ill-mannered pre-war regrettable oiled calamitous first separable\n",
      "    ectoplasmic battery-powered participatory fourth still-to-be-named\n",
      "    multilingual multi-disciplinary ...\n",
      "JJR: adjective, comparative\n",
      "    bleaker braver breezier briefer brighter brisker broader bumper busier\n",
      "    calmer cheaper choosier cleaner clearer closer colder commoner costlier\n",
      "    cozier creamier crunchier cuter ...\n",
      "JJS: adjective, superlative\n",
      "    calmest cheapest choicest classiest cleanest clearest closest commonest\n",
      "    corniest costliest crassest creepiest crudest cutest darkest deadliest\n",
      "    dearest deepest densest dinkiest ...\n",
      "LS: list item marker\n",
      "    A A. B B. C C. D E F First G H I J K One SP-44001 SP-44002 SP-44005\n",
      "    SP-44007 Second Third Three Two * a b c d first five four one six three\n",
      "    two\n",
      "MD: modal auxiliary\n",
      "    can cannot could couldn't dare may might must need ought shall should\n",
      "    shouldn't will would\n",
      "NN: noun, common, singular or mass\n",
      "    common-carrier cabbage knuckle-duster Casino afghan shed thermostat\n",
      "    investment slide humour falloff slick wind hyena override subhumanity\n",
      "    machinist ...\n",
      "NNP: noun, proper, singular\n",
      "    Motown Venneboerger Czestochwa Ranzer Conchita Trumplane Christos\n",
      "    Oceanside Escobar Kreisler Sawyer Cougar Yvette Ervin ODI Darryl CTCA\n",
      "    Shannon A.K.C. Meltex Liverpool ...\n",
      "NNPS: noun, proper, plural\n",
      "    Americans Americas Amharas Amityvilles Amusements Anarcho-Syndicalists\n",
      "    Andalusians Andes Andruses Angels Animals Anthony Antilles Antiques\n",
      "    Apache Apaches Apocrypha ...\n",
      "NNS: noun, common, plural\n",
      "    undergraduates scotches bric-a-brac products bodyguards facets coasts\n",
      "    divestitures storehouses designs clubs fragrances averages\n",
      "    subjectivists apprehensions muses factory-jobs ...\n",
      "PDT: pre-determiner\n",
      "    all both half many quite such sure this\n",
      "POS: genitive marker\n",
      "    ' 's\n",
      "PRP: pronoun, personal\n",
      "    hers herself him himself hisself it itself me myself one oneself ours\n",
      "    ourselves ownself self she thee theirs them themselves they thou thy us\n",
      "PRP$: pronoun, possessive\n",
      "    her his mine my our ours their thy your\n",
      "RB: adverb\n",
      "    occasionally unabatingly maddeningly adventurously professedly\n",
      "    stirringly prominently technologically magisterially predominately\n",
      "    swiftly fiscally pitilessly ...\n",
      "RBR: adverb, comparative\n",
      "    further gloomier grander graver greater grimmer harder harsher\n",
      "    healthier heavier higher however larger later leaner lengthier less-\n",
      "    perfectly lesser lonelier longer louder lower more ...\n",
      "RBS: adverb, superlative\n",
      "    best biggest bluntest earliest farthest first furthest hardest\n",
      "    heartiest highest largest least less most nearest second tightest worst\n",
      "RP: particle\n",
      "    aboard about across along apart around aside at away back before behind\n",
      "    by crop down ever fast for forth from go high i.e. in into just later\n",
      "    low more off on open out over per pie raising start teeth that through\n",
      "    under unto up up-pp upon whole with you\n",
      "SYM: symbol\n",
      "    % & ' '' ''. ) ). * + ,. < = > @ A[fj] U.S U.S.S.R * ** ***\n",
      "TO: \"to\" as preposition or infinitive marker\n",
      "    to\n",
      "UH: interjection\n",
      "    Goodbye Goody Gosh Wow Jeepers Jee-sus Hubba Hey Kee-reist Oops amen\n",
      "    huh howdy uh dammit whammo shucks heck anyways whodunnit honey golly\n",
      "    man baby diddle hush sonuvabitch ...\n",
      "VB: verb, base form\n",
      "    ask assemble assess assign assume atone attention avoid bake balkanize\n",
      "    bank begin behold believe bend benefit bevel beware bless boil bomb\n",
      "    boost brace break bring broil brush build ...\n",
      "VBD: verb, past tense\n",
      "    dipped pleaded swiped regummed soaked tidied convened halted registered\n",
      "    cushioned exacted snubbed strode aimed adopted belied figgered\n",
      "    speculated wore appreciated contemplated ...\n",
      "VBG: verb, present participle or gerund\n",
      "    telegraphing stirring focusing angering judging stalling lactating\n",
      "    hankerin' alleging veering capping approaching traveling besieging\n",
      "    encrypting interrupting erasing wincing ...\n",
      "VBN: verb, past participle\n",
      "    multihulled dilapidated aerosolized chaired languished panelized used\n",
      "    experimented flourished imitated reunifed factored condensed sheared\n",
      "    unsettled primed dubbed desired ...\n",
      "VBP: verb, present tense, not 3rd person singular\n",
      "    predominate wrap resort sue twist spill cure lengthen brush terminate\n",
      "    appear tend stray glisten obtain comprise detest tease attract\n",
      "    emphasize mold postpone sever return wag ...\n",
      "VBZ: verb, present tense, 3rd person singular\n",
      "    bases reconstructs marks mixes displeases seals carps weaves snatches\n",
      "    slumps stretches authorizes smolders pictures emerges stockpiles\n",
      "    seduces fizzes uses bolsters slaps speaks pleads ...\n",
      "WDT: WH-determiner\n",
      "    that what whatever which whichever\n",
      "WP: WH-pronoun\n",
      "    that what whatever whatsoever which who whom whosoever\n",
      "WP$: WH-pronoun, possessive\n",
      "    whose\n",
      "WRB: Wh-adverb\n",
      "    how however whence whenever where whereby whereever wherein whereof why\n",
      "``: opening quotation mark\n",
      "    ` ``\n"
     ]
    }
   ],
   "source": [
    "upenn_tagset()"
   ]
  },
  {
   "cell_type": "code",
   "execution_count": 29,
   "metadata": {
    "ExecuteTime": {
     "end_time": "2017-07-27T11:27:51.603690",
     "start_time": "2017-07-27T11:27:51.600916"
    },
    "collapsed": false
   },
   "outputs": [],
   "source": [
    "from nltk.corpus import wordnet as wn"
   ]
  },
  {
   "cell_type": "code",
   "execution_count": 30,
   "metadata": {
    "ExecuteTime": {
     "end_time": "2017-07-27T11:28:05.417152",
     "start_time": "2017-07-27T11:28:05.413680"
    },
    "collapsed": true
   },
   "outputs": [],
   "source": [
    "convert_tag = lambda t: { 'N': wn.NOUN, 'V': wn.VERB, 'R': wn.ADV, 'J': wn.ADJ, 'S': wn.ADJ_SAT }.get(t[:1], wn.NOUN)"
   ]
  },
  {
   "cell_type": "code",
   "execution_count": 32,
   "metadata": {
    "ExecuteTime": {
     "end_time": "2017-07-27T11:28:40.665912",
     "start_time": "2017-07-27T11:28:40.655013"
    },
    "collapsed": false
   },
   "outputs": [
    {
     "name": "stdout",
     "output_type": "stream",
     "text": [
      "   reading -> read       <- processed!\n",
      "   kindle2 -> kindle2    \n",
      "      love -> love       \n",
      "       lee -> lee        \n",
      "    childs -> child      <- processed!\n",
      "      good -> good       \n",
      "      read -> read       \n"
     ]
    }
   ],
   "source": [
    "lemmatized = [wnl.lemmatize(word, convert_tag(tag)) for word, tag in pos_tag(filtered_tokens)]\n",
    "\n",
    "for a,b in zip(filtered_tokens, lemmatized):\n",
    "    print(a.rjust(10), '->', b.ljust(10), '' if a == b else '<- processed!')"
   ]
  },
  {
   "cell_type": "markdown",
   "metadata": {},
   "source": [
    "### Стемминг"
   ]
  },
  {
   "cell_type": "markdown",
   "metadata": {},
   "source": [
    "__PROS:__\n",
    "\n",
    "1. Отсутствие зависимостей.\n",
    "2. Скорость работы.\n",
    "\n",
    "__CONS:__\n",
    "\n",
    "1. Местами слишком сильное усечение слов, из-за которого возникают нежелательные пересечения:\n",
    "\n",
    "```\n",
    "Проверь еду у кошек ---<stemmer>---> Провер е у кошк\n",
    "```"
   ]
  },
  {
   "cell_type": "code",
   "execution_count": 34,
   "metadata": {
    "ExecuteTime": {
     "end_time": "2017-07-27T11:29:29.079828",
     "start_time": "2017-07-27T11:29:29.076879"
    },
    "collapsed": true
   },
   "outputs": [],
   "source": [
    "from nltk.stem import SnowballStemmer, LancasterStemmer, PorterStemmer"
   ]
  },
  {
   "cell_type": "code",
   "execution_count": 36,
   "metadata": {
    "ExecuteTime": {
     "end_time": "2017-07-27T11:29:44.177426",
     "start_time": "2017-07-27T11:29:44.168045"
    },
    "collapsed": false
   },
   "outputs": [
    {
     "name": "stdout",
     "output_type": "stream",
     "text": [
      "   reading -> read       <- processed!\n",
      "   kindle2 -> kindle2    \n",
      "      love -> love       \n",
      "       lee -> lee        \n",
      "    childs -> child      <- processed!\n",
      "      good -> good       \n",
      "      read -> read       \n"
     ]
    }
   ],
   "source": [
    "sbs = SnowballStemmer('english')\n",
    "\n",
    "stemmed = [sbs.stem(x) for x in filtered_tokens]\n",
    "\n",
    "for a,b in zip(filtered_tokens, lemmatized):\n",
    "    print(a.rjust(10), '->', b.ljust(10), '' if a == b else '<- processed!')"
   ]
  },
  {
   "cell_type": "code",
   "execution_count": 37,
   "metadata": {
    "ExecuteTime": {
     "end_time": "2017-07-27T11:29:48.799653",
     "start_time": "2017-07-27T11:29:48.790487"
    },
    "collapsed": false
   },
   "outputs": [
    {
     "name": "stdout",
     "output_type": "stream",
     "text": [
      "   reading -> read       <- processed!\n",
      "   kindle2 -> kindle2    \n",
      "      love -> love       \n",
      "       lee -> lee        \n",
      "    childs -> child      <- processed!\n",
      "      good -> good       \n",
      "      read -> read       \n"
     ]
    }
   ],
   "source": [
    "sbs = PorterStemmer()\n",
    "\n",
    "stemmed = [sbs.stem(x) for x in filtered_tokens]\n",
    "\n",
    "for a,b in zip(filtered_tokens, lemmatized):\n",
    "    print(a.rjust(10), '->', b.ljust(10), '' if a == b else '<- processed!')"
   ]
  },
  {
   "cell_type": "code",
   "execution_count": 38,
   "metadata": {
    "ExecuteTime": {
     "end_time": "2017-07-27T11:29:49.332083",
     "start_time": "2017-07-27T11:29:49.323030"
    },
    "collapsed": false
   },
   "outputs": [
    {
     "name": "stdout",
     "output_type": "stream",
     "text": [
      "   reading -> read       <- processed!\n",
      "   kindle2 -> kindle2    \n",
      "      love -> love       \n",
      "       lee -> lee        \n",
      "    childs -> child      <- processed!\n",
      "      good -> good       \n",
      "      read -> read       \n"
     ]
    }
   ],
   "source": [
    "sbs = LancasterStemmer()\n",
    "\n",
    "stemmed = [sbs.stem(x) for x in filtered_tokens]\n",
    "\n",
    "for a,b in zip(filtered_tokens, lemmatized):\n",
    "    print(a.rjust(10), '->', b.ljust(10), '' if a == b else '<- processed!')"
   ]
  },
  {
   "cell_type": "markdown",
   "metadata": {},
   "source": [
    "---"
   ]
  },
  {
   "cell_type": "code",
   "execution_count": 39,
   "metadata": {
    "ExecuteTime": {
     "end_time": "2017-07-27T11:30:11.149504",
     "start_time": "2017-07-27T11:30:11.143696"
    },
    "collapsed": true
   },
   "outputs": [],
   "source": [
    "sbs = SnowballStemmer('english')\n",
    "\n",
    "def process_by_far(s):\n",
    "    s = [x.lower() for x in word_tokenize(s) if re.match(\"[a-zA-Z\\d]+\", x) is not None] # токенизация\n",
    "    s = [x for x in s if x not in stopwords.words('english')] # стоп-слова\n",
    "    s = [sbs.stem(x) for x in s] # стемминг\n",
    "    return ' '.join(s)"
   ]
  },
  {
   "cell_type": "code",
   "execution_count": 40,
   "metadata": {
    "ExecuteTime": {
     "end_time": "2017-07-27T11:30:13.341200",
     "start_time": "2017-07-27T11:30:12.108013"
    },
    "collapsed": true
   },
   "outputs": [],
   "source": [
    "df['cleansed_text'] = df.text.apply(process_by_far)"
   ]
  },
  {
   "cell_type": "code",
   "execution_count": 41,
   "metadata": {
    "ExecuteTime": {
     "end_time": "2017-07-27T11:30:34.447425",
     "start_time": "2017-07-27T11:30:34.436973"
    },
    "collapsed": false
   },
   "outputs": [
    {
     "data": {
      "text/html": [
       "<div>\n",
       "<style>\n",
       "    .dataframe thead tr:only-child th {\n",
       "        text-align: right;\n",
       "    }\n",
       "\n",
       "    .dataframe thead th {\n",
       "        text-align: left;\n",
       "    }\n",
       "\n",
       "    .dataframe tbody tr th {\n",
       "        vertical-align: top;\n",
       "    }\n",
       "</style>\n",
       "<table border=\"1\" class=\"dataframe\">\n",
       "  <thead>\n",
       "    <tr style=\"text-align: right;\">\n",
       "      <th></th>\n",
       "      <th>polarity</th>\n",
       "      <th>text</th>\n",
       "      <th>cleansed_text</th>\n",
       "    </tr>\n",
       "  </thead>\n",
       "  <tbody>\n",
       "    <tr>\n",
       "      <th>0</th>\n",
       "      <td>4</td>\n",
       "      <td>@stellargirl I loooooooovvvvvveee my Kindle2. ...</td>\n",
       "      <td>stellargirl loooooooovvvvvvee kindle2 dx cool ...</td>\n",
       "    </tr>\n",
       "    <tr>\n",
       "      <th>1</th>\n",
       "      <td>4</td>\n",
       "      <td>Reading my kindle2...  Love it... Lee childs i...</td>\n",
       "      <td>read kindle2 love lee child good read</td>\n",
       "    </tr>\n",
       "    <tr>\n",
       "      <th>2</th>\n",
       "      <td>4</td>\n",
       "      <td>Ok, first assesment of the #kindle2 ...it fuck...</td>\n",
       "      <td>ok first asses kindle2 fuck rock</td>\n",
       "    </tr>\n",
       "    <tr>\n",
       "      <th>3</th>\n",
       "      <td>4</td>\n",
       "      <td>@kenburbary You'll love your Kindle2. I've had...</td>\n",
       "      <td>kenburbari love kindle2 mine month never look ...</td>\n",
       "    </tr>\n",
       "    <tr>\n",
       "      <th>4</th>\n",
       "      <td>4</td>\n",
       "      <td>@mikefish  Fair enough. But i have the Kindle2...</td>\n",
       "      <td>mikefish fair enough kindle2 think perfect</td>\n",
       "    </tr>\n",
       "  </tbody>\n",
       "</table>\n",
       "</div>"
      ],
      "text/plain": [
       "   polarity                                               text  \\\n",
       "0         4  @stellargirl I loooooooovvvvvveee my Kindle2. ...   \n",
       "1         4  Reading my kindle2...  Love it... Lee childs i...   \n",
       "2         4  Ok, first assesment of the #kindle2 ...it fuck...   \n",
       "3         4  @kenburbary You'll love your Kindle2. I've had...   \n",
       "4         4  @mikefish  Fair enough. But i have the Kindle2...   \n",
       "\n",
       "                                       cleansed_text  \n",
       "0  stellargirl loooooooovvvvvvee kindle2 dx cool ...  \n",
       "1              read kindle2 love lee child good read  \n",
       "2                   ok first asses kindle2 fuck rock  \n",
       "3  kenburbari love kindle2 mine month never look ...  \n",
       "4         mikefish fair enough kindle2 think perfect  "
      ]
     },
     "execution_count": 41,
     "metadata": {},
     "output_type": "execute_result"
    }
   ],
   "source": [
    "df.head()"
   ]
  },
  {
   "cell_type": "markdown",
   "metadata": {},
   "source": [
    "---\n",
    "\n",
    "##### Для русского текста\n",
    "\n",
    "Для задачи нормализации слов вполне пойдет [PyMorphy2](https://pymorphy2.readthedocs.io/en/latest/)."
   ]
  },
  {
   "cell_type": "markdown",
   "metadata": {},
   "source": [
    "## Составление частотного словаря"
   ]
  },
  {
   "cell_type": "code",
   "execution_count": 42,
   "metadata": {
    "ExecuteTime": {
     "end_time": "2017-07-27T11:32:13.845856",
     "start_time": "2017-07-27T11:32:13.829212"
    },
    "collapsed": true
   },
   "outputs": [],
   "source": [
    "from toolz.itertoolz import concat"
   ]
  },
  {
   "cell_type": "code",
   "execution_count": 43,
   "metadata": {
    "ExecuteTime": {
     "end_time": "2017-07-27T11:32:16.244437",
     "start_time": "2017-07-27T11:32:16.239961"
    },
    "collapsed": false
   },
   "outputs": [],
   "source": [
    "all_tokens = list(concat(df.cleansed_text.str.split()))"
   ]
  },
  {
   "cell_type": "code",
   "execution_count": 44,
   "metadata": {
    "ExecuteTime": {
     "end_time": "2017-07-27T11:32:28.017573",
     "start_time": "2017-07-27T11:32:28.014778"
    },
    "collapsed": true
   },
   "outputs": [],
   "source": [
    "from nltk.probability import FreqDist"
   ]
  },
  {
   "cell_type": "code",
   "execution_count": 45,
   "metadata": {
    "ExecuteTime": {
     "end_time": "2017-07-27T11:32:34.424515",
     "start_time": "2017-07-27T11:32:34.421130"
    },
    "collapsed": true
   },
   "outputs": [],
   "source": [
    "fd = FreqDist(all_tokens)"
   ]
  },
  {
   "cell_type": "code",
   "execution_count": 182,
   "metadata": {
    "ExecuteTime": {
     "end_time": "2017-07-26T16:20:23.263531",
     "start_time": "2017-07-26T16:20:23.257640"
    },
    "collapsed": false
   },
   "outputs": [
    {
     "data": {
      "text/plain": [
       "[('http', 130),\n",
       " ('time', 48),\n",
       " ('love', 38),\n",
       " ('new', 36),\n",
       " ('go', 35),\n",
       " ('warner', 34),\n",
       " ('good', 33),\n",
       " ('night', 33),\n",
       " ('amp', 33),\n",
       " ('nike', 27)]"
      ]
     },
     "execution_count": 182,
     "metadata": {},
     "output_type": "execute_result"
    }
   ],
   "source": [
    "fd.most_common(10)"
   ]
  },
  {
   "cell_type": "code",
   "execution_count": 46,
   "metadata": {
    "ExecuteTime": {
     "end_time": "2017-07-27T11:32:49.034352",
     "start_time": "2017-07-27T11:32:48.047579"
    },
    "collapsed": false
   },
   "outputs": [
    {
     "data": {
      "image/png": "[encoded data removed]",
      "text/plain": [
       "<matplotlib.figure.Figure at 0x10d4155c0>"
      ]
     },
     "metadata": {},
     "output_type": "display_data"
    }
   ],
   "source": [
    "plt.figure(figsize=(22, 10));\n",
    "fd.plot(100, cumulative=False)"
   ]
  },
  {
   "cell_type": "code",
   "execution_count": 47,
   "metadata": {
    "ExecuteTime": {
     "end_time": "2017-07-27T11:33:08.935573",
     "start_time": "2017-07-27T11:33:08.930228"
    },
    "collapsed": false
   },
   "outputs": [
    {
     "data": {
      "text/plain": [
       "['stellargirl', 'loooooooovvvvvvee', 'fantast']"
      ]
     },
     "execution_count": 47,
     "metadata": {},
     "output_type": "execute_result"
    }
   ],
   "source": [
    "fd.hapaxes()[:3] # - тут все слова, что встретились лишь единожды"
   ]
  },
  {
   "cell_type": "code",
   "execution_count": 48,
   "metadata": {
    "ExecuteTime": {
     "end_time": "2017-07-27T11:33:26.373507",
     "start_time": "2017-07-27T11:33:26.368148"
    },
    "collapsed": false
   },
   "outputs": [
    {
     "data": {
      "text/plain": [
       "(1810, 1211)"
      ]
     },
     "execution_count": 48,
     "metadata": {},
     "output_type": "execute_result"
    }
   ],
   "source": [
    "len(fd.keys()), len(fd.hapaxes())"
   ]
  },
  {
   "cell_type": "code",
   "execution_count": 49,
   "metadata": {
    "ExecuteTime": {
     "end_time": "2017-07-27T11:33:39.313971",
     "start_time": "2017-07-27T11:33:37.651046"
    },
    "collapsed": false
   },
   "outputs": [],
   "source": [
    "df['frequent_cleansed'] = df.cleansed_text.str.split()\\\n",
    "    .apply(lambda ss: ' '.join([x for x in ss if x not in fd.hapaxes()]))"
   ]
  },
  {
   "cell_type": "code",
   "execution_count": 50,
   "metadata": {
    "ExecuteTime": {
     "end_time": "2017-07-27T11:33:41.832278",
     "start_time": "2017-07-27T11:33:41.821179"
    },
    "collapsed": false
   },
   "outputs": [
    {
     "data": {
      "text/html": [
       "<div>\n",
       "<style>\n",
       "    .dataframe thead tr:only-child th {\n",
       "        text-align: right;\n",
       "    }\n",
       "\n",
       "    .dataframe thead th {\n",
       "        text-align: left;\n",
       "    }\n",
       "\n",
       "    .dataframe tbody tr th {\n",
       "        vertical-align: top;\n",
       "    }\n",
       "</style>\n",
       "<table border=\"1\" class=\"dataframe\">\n",
       "  <thead>\n",
       "    <tr style=\"text-align: right;\">\n",
       "      <th></th>\n",
       "      <th>polarity</th>\n",
       "      <th>text</th>\n",
       "      <th>cleansed_text</th>\n",
       "      <th>frequent_cleansed</th>\n",
       "    </tr>\n",
       "  </thead>\n",
       "  <tbody>\n",
       "    <tr>\n",
       "      <th>0</th>\n",
       "      <td>4</td>\n",
       "      <td>@stellargirl I loooooooovvvvvveee my Kindle2. ...</td>\n",
       "      <td>stellargirl loooooooovvvvvvee kindle2 dx cool ...</td>\n",
       "      <td>kindle2 dx cool 2 right</td>\n",
       "    </tr>\n",
       "    <tr>\n",
       "      <th>1</th>\n",
       "      <td>4</td>\n",
       "      <td>Reading my kindle2...  Love it... Lee childs i...</td>\n",
       "      <td>read kindle2 love lee child good read</td>\n",
       "      <td>read kindle2 love child good read</td>\n",
       "    </tr>\n",
       "    <tr>\n",
       "      <th>2</th>\n",
       "      <td>4</td>\n",
       "      <td>Ok, first assesment of the #kindle2 ...it fuck...</td>\n",
       "      <td>ok first asses kindle2 fuck rock</td>\n",
       "      <td>ok first kindle2 fuck rock</td>\n",
       "    </tr>\n",
       "    <tr>\n",
       "      <th>3</th>\n",
       "      <td>4</td>\n",
       "      <td>@kenburbary You'll love your Kindle2. I've had...</td>\n",
       "      <td>kenburbari love kindle2 mine month never look ...</td>\n",
       "      <td>love kindle2 month never look back new big one...</td>\n",
       "    </tr>\n",
       "    <tr>\n",
       "      <th>4</th>\n",
       "      <td>4</td>\n",
       "      <td>@mikefish  Fair enough. But i have the Kindle2...</td>\n",
       "      <td>mikefish fair enough kindle2 think perfect</td>\n",
       "      <td>enough kindle2 think perfect</td>\n",
       "    </tr>\n",
       "  </tbody>\n",
       "</table>\n",
       "</div>"
      ],
      "text/plain": [
       "   polarity                                               text  \\\n",
       "0         4  @stellargirl I loooooooovvvvvveee my Kindle2. ...   \n",
       "1         4  Reading my kindle2...  Love it... Lee childs i...   \n",
       "2         4  Ok, first assesment of the #kindle2 ...it fuck...   \n",
       "3         4  @kenburbary You'll love your Kindle2. I've had...   \n",
       "4         4  @mikefish  Fair enough. But i have the Kindle2...   \n",
       "\n",
       "                                       cleansed_text  \\\n",
       "0  stellargirl loooooooovvvvvvee kindle2 dx cool ...   \n",
       "1              read kindle2 love lee child good read   \n",
       "2                   ok first asses kindle2 fuck rock   \n",
       "3  kenburbari love kindle2 mine month never look ...   \n",
       "4         mikefish fair enough kindle2 think perfect   \n",
       "\n",
       "                                   frequent_cleansed  \n",
       "0                            kindle2 dx cool 2 right  \n",
       "1                  read kindle2 love child good read  \n",
       "2                         ok first kindle2 fuck rock  \n",
       "3  love kindle2 month never look back new big one...  \n",
       "4                       enough kindle2 think perfect  "
      ]
     },
     "execution_count": 50,
     "metadata": {},
     "output_type": "execute_result"
    }
   ],
   "source": [
    "df.head()"
   ]
  },
  {
   "cell_type": "markdown",
   "metadata": {},
   "source": [
    "Кстати, по той же логике, но обратной, мы удаляли стоп-слова, считая, что все слова, которые везде всплывают слишком _часто_, тоже бесполезны."
   ]
  },
  {
   "cell_type": "markdown",
   "metadata": {},
   "source": [
    "# Кодирование текста"
   ]
  },
  {
   "cell_type": "markdown",
   "metadata": {},
   "source": [
    "## Bag of Words"
   ]
  },
  {
   "cell_type": "code",
   "execution_count": 78,
   "metadata": {
    "ExecuteTime": {
     "end_time": "2017-07-27T12:03:14.240341",
     "start_time": "2017-07-27T12:03:14.237081"
    },
    "collapsed": true
   },
   "outputs": [],
   "source": [
    "from sklearn.feature_extraction.text import CountVectorizer"
   ]
  },
  {
   "cell_type": "code",
   "execution_count": 79,
   "metadata": {
    "ExecuteTime": {
     "end_time": "2017-07-27T12:03:15.717471",
     "start_time": "2017-07-27T12:03:15.705464"
    },
    "collapsed": true
   },
   "outputs": [],
   "source": [
    "cv = CountVectorizer()\n",
    "\n",
    "X_bow = cv.fit_transform(df.frequent_cleansed).todense();\n",
    "y = df.polarity"
   ]
  },
  {
   "cell_type": "code",
   "execution_count": 81,
   "metadata": {
    "ExecuteTime": {
     "end_time": "2017-07-27T12:03:30.754360",
     "start_time": "2017-07-27T12:03:30.746169"
    },
    "collapsed": false
   },
   "outputs": [],
   "source": [
    "clf = LogisticRegression()\n",
    "clf.fit(X_bow, y);"
   ]
  },
  {
   "cell_type": "code",
   "execution_count": 93,
   "metadata": {
    "ExecuteTime": {
     "end_time": "2017-07-27T12:05:57.876903",
     "start_time": "2017-07-27T12:05:57.870790"
    },
    "collapsed": false
   },
   "outputs": [
    {
     "data": {
      "text/plain": [
       "494    0\n",
       "495    4\n",
       "496    0\n",
       "497    0\n",
       "Name: polarity, dtype: int64"
      ]
     },
     "execution_count": 93,
     "metadata": {},
     "output_type": "execute_result"
    }
   ],
   "source": [
    "df.polarity[-4:]"
   ]
  },
  {
   "cell_type": "code",
   "execution_count": 84,
   "metadata": {
    "ExecuteTime": {
     "end_time": "2017-07-27T12:03:47.744387",
     "start_time": "2017-07-27T12:03:47.738726"
    },
    "collapsed": false
   },
   "outputs": [
    {
     "data": {
      "text/plain": [
       "494    hate word hate page hate latex said hate latex...\n",
       "495                                 back text lt 3 latex\n",
       "496                               iran see iran iran far\n",
       "497                 read tweet come iran whole thing sad\n",
       "Name: frequent_cleansed, dtype: object"
      ]
     },
     "execution_count": 84,
     "metadata": {},
     "output_type": "execute_result"
    }
   ],
   "source": [
    "df.frequent_cleansed[-4:]"
   ]
  },
  {
   "cell_type": "code",
   "execution_count": 103,
   "metadata": {
    "ExecuteTime": {
     "end_time": "2017-07-27T12:09:36.565228",
     "start_time": "2017-07-27T12:09:36.559192"
    },
    "collapsed": false
   },
   "outputs": [
    {
     "data": {
      "text/plain": [
       "3    love kindle2 month never look back new big one...\n",
       "Name: frequent_cleansed, dtype: object"
      ]
     },
     "execution_count": 103,
     "metadata": {},
     "output_type": "execute_result"
    }
   ],
   "source": [
    "df.frequent_cleansed[3:4]"
   ]
  },
  {
   "cell_type": "code",
   "execution_count": 104,
   "metadata": {
    "ExecuteTime": {
     "end_time": "2017-07-27T12:09:38.427306",
     "start_time": "2017-07-27T12:09:38.423817"
    },
    "collapsed": true
   },
   "outputs": [],
   "source": [
    "text = cv.transform(df.frequent_cleansed[3:4])"
   ]
  },
  {
   "cell_type": "code",
   "execution_count": null,
   "metadata": {
    "collapsed": true
   },
   "outputs": [],
   "source": []
  },
  {
   "cell_type": "code",
   "execution_count": 105,
   "metadata": {
    "ExecuteTime": {
     "end_time": "2017-07-27T12:09:39.323670",
     "start_time": "2017-07-27T12:09:39.314251"
    },
    "collapsed": false
   },
   "outputs": [
    {
     "data": {
      "text/html": [
       "\n",
       "    <style>\n",
       "    table.eli5-weights tr:hover {\n",
       "        filter: brightness(85%);\n",
       "    }\n",
       "</style>\n",
       "\n",
       "\n",
       "\n",
       "    \n",
       "\n",
       "    \n",
       "\n",
       "    \n",
       "\n",
       "    \n",
       "\n",
       "    \n",
       "\n",
       "    \n",
       "\n",
       "\n",
       "    \n",
       "\n",
       "    \n",
       "\n",
       "    \n",
       "\n",
       "    \n",
       "        \n",
       "\n",
       "    \n",
       "        <table class=\"eli5-weights-wrapper\" style=\"border-collapse: collapse; border: none; margin-bottom: 1.5em;\">\n",
       "            <tr>\n",
       "                \n",
       "                    <td style=\"padding: 0.5em; border: 1px solid black; text-align: center;\">\n",
       "                        <b>\n",
       "    \n",
       "        y=0\n",
       "    \n",
       "</b>\n",
       "\n",
       "    \n",
       "    (probability <b>0.027</b>, score <b>-3.565</b>)\n",
       "\n",
       "top features\n",
       "                    </td>\n",
       "                \n",
       "                    <td style=\"padding: 0.5em; border: 1px solid black; text-align: center;\">\n",
       "                        <b>\n",
       "    \n",
       "        y=2\n",
       "    \n",
       "</b>\n",
       "\n",
       "    \n",
       "    (probability <b>0.010</b>, score <b>-4.534</b>)\n",
       "\n",
       "top features\n",
       "                    </td>\n",
       "                \n",
       "                    <td style=\"padding: 0.5em; border: 1px solid black; text-align: center;\">\n",
       "                        <b>\n",
       "    \n",
       "        y=4\n",
       "    \n",
       "</b>\n",
       "\n",
       "    \n",
       "    (probability <b>0.963</b>, score <b>3.872</b>)\n",
       "\n",
       "top features\n",
       "                    </td>\n",
       "                \n",
       "            </tr>\n",
       "            <tr>\n",
       "                \n",
       "                    \n",
       "                        <td style=\"padding: 0px; border: 1px solid black; vertical-align: top;\">\n",
       "                            \n",
       "                                \n",
       "                                    \n",
       "                                    \n",
       "    \n",
       "    <table class=\"eli5-weights\"\n",
       "           style=\"border-collapse: collapse; border: none; margin-top: 0em; table-layout: auto; width: 100%;\">\n",
       "        <thead>\n",
       "        <tr style=\"border: none;\">\n",
       "            \n",
       "                <th style=\"padding: 0 1em 0 0.5em; text-align: right; border: none;\" title=\"Feature contribution already accounts for the feature value (for linear models, contribution = weight * feature value), and the sum of feature contributions is equal to the score or, for some classifiers, to the probability. Feature values are shown if &quot;show_feature_values&quot; is True.\">\n",
       "                    Contribution<sup>?</sup>\n",
       "                </th>\n",
       "            \n",
       "            <th style=\"padding: 0 0.5em 0 0.5em; text-align: left; border: none;\">Feature</th>\n",
       "            \n",
       "        </tr>\n",
       "        </thead>\n",
       "        <tbody>\n",
       "        \n",
       "            <tr style=\"background-color: hsl(120, 100.00%, 89.92%); border: none;\">\n",
       "    <td style=\"padding: 0 1em 0 0.5em; text-align: right; border: none;\">\n",
       "        +0.672\n",
       "    </td>\n",
       "    <td style=\"padding: 0 0.5em 0 0.5em; text-align: left; border: none;\">\n",
       "        instead\n",
       "    </td>\n",
       "    \n",
       "</tr>\n",
       "        \n",
       "            <tr style=\"background-color: hsl(120, 100.00%, 90.84%); border: none;\">\n",
       "    <td style=\"padding: 0 1em 0 0.5em; text-align: right; border: none;\">\n",
       "        +0.586\n",
       "    </td>\n",
       "    <td style=\"padding: 0 0.5em 0 0.5em; text-align: left; border: none;\">\n",
       "        http\n",
       "    </td>\n",
       "    \n",
       "</tr>\n",
       "        \n",
       "            <tr style=\"background-color: hsl(120, 100.00%, 98.26%); border: none;\">\n",
       "    <td style=\"padding: 0 1em 0 0.5em; text-align: right; border: none;\">\n",
       "        +0.054\n",
       "    </td>\n",
       "    <td style=\"padding: 0 0.5em 0 0.5em; text-align: left; border: none;\">\n",
       "        kid\n",
       "    </td>\n",
       "    \n",
       "</tr>\n",
       "        \n",
       "        \n",
       "\n",
       "        \n",
       "        \n",
       "            <tr style=\"background-color: hsl(0, 100.00%, 96.61%); border: none;\">\n",
       "    <td style=\"padding: 0 1em 0 0.5em; text-align: right; border: none;\">\n",
       "        -0.141\n",
       "    </td>\n",
       "    <td style=\"padding: 0 0.5em 0 0.5em; text-align: left; border: none;\">\n",
       "        boy\n",
       "    </td>\n",
       "    \n",
       "</tr>\n",
       "        \n",
       "            <tr style=\"background-color: hsl(0, 100.00%, 96.35%); border: none;\">\n",
       "    <td style=\"padding: 0 1em 0 0.5em; text-align: right; border: none;\">\n",
       "        -0.158\n",
       "    </td>\n",
       "    <td style=\"padding: 0 0.5em 0 0.5em; text-align: left; border: none;\">\n",
       "        stop\n",
       "    </td>\n",
       "    \n",
       "</tr>\n",
       "        \n",
       "            <tr style=\"background-color: hsl(0, 100.00%, 95.98%); border: none;\">\n",
       "    <td style=\"padding: 0 1em 0 0.5em; text-align: right; border: none;\">\n",
       "        -0.181\n",
       "    </td>\n",
       "    <td style=\"padding: 0 0.5em 0 0.5em; text-align: left; border: none;\">\n",
       "        anymor\n",
       "    </td>\n",
       "    \n",
       "</tr>\n",
       "        \n",
       "            <tr style=\"background-color: hsl(0, 100.00%, 91.81%); border: none;\">\n",
       "    <td style=\"padding: 0 1em 0 0.5em; text-align: right; border: none;\">\n",
       "        -0.499\n",
       "    </td>\n",
       "    <td style=\"padding: 0 0.5em 0 0.5em; text-align: left; border: none;\">\n",
       "        &lt;BIAS&gt;\n",
       "    </td>\n",
       "    \n",
       "</tr>\n",
       "        \n",
       "            <tr style=\"background-color: hsl(0, 100.00%, 90.04%); border: none;\">\n",
       "    <td style=\"padding: 0 1em 0 0.5em; text-align: right; border: none;\">\n",
       "        -0.660\n",
       "    </td>\n",
       "    <td style=\"padding: 0 0.5em 0 0.5em; text-align: left; border: none;\">\n",
       "        servic\n",
       "    </td>\n",
       "    \n",
       "</tr>\n",
       "        \n",
       "            <tr style=\"background-color: hsl(0, 100.00%, 89.59%); border: none;\">\n",
       "    <td style=\"padding: 0 1em 0 0.5em; text-align: right; border: none;\">\n",
       "        -0.703\n",
       "    </td>\n",
       "    <td style=\"padding: 0 0.5em 0 0.5em; text-align: left; border: none;\">\n",
       "        g2\n",
       "    </td>\n",
       "    \n",
       "</tr>\n",
       "        \n",
       "            <tr style=\"background-color: hsl(0, 100.00%, 89.44%); border: none;\">\n",
       "    <td style=\"padding: 0 1em 0 0.5em; text-align: right; border: none;\">\n",
       "        -0.717\n",
       "    </td>\n",
       "    <td style=\"padding: 0 0.5em 0 0.5em; text-align: left; border: none;\">\n",
       "        expect\n",
       "    </td>\n",
       "    \n",
       "</tr>\n",
       "        \n",
       "            <tr style=\"background-color: hsl(0, 100.00%, 88.54%); border: none;\">\n",
       "    <td style=\"padding: 0 1em 0 0.5em; text-align: right; border: none;\">\n",
       "        -0.806\n",
       "    </td>\n",
       "    <td style=\"padding: 0 0.5em 0 0.5em; text-align: left; border: none;\">\n",
       "        io2009\n",
       "    </td>\n",
       "    \n",
       "</tr>\n",
       "        \n",
       "            <tr style=\"background-color: hsl(0, 100.00%, 86.57%); border: none;\">\n",
       "    <td style=\"padding: 0 1em 0 0.5em; text-align: right; border: none;\">\n",
       "        -1.012\n",
       "    </td>\n",
       "    <td style=\"padding: 0 0.5em 0 0.5em; text-align: left; border: none;\">\n",
       "        season\n",
       "    </td>\n",
       "    \n",
       "</tr>\n",
       "        \n",
       "\n",
       "        </tbody>\n",
       "    </table>\n",
       "\n",
       "                                \n",
       "                            \n",
       "                        </td>\n",
       "                    \n",
       "                        <td style=\"padding: 0px; border: 1px solid black; vertical-align: top;\">\n",
       "                            \n",
       "                                \n",
       "                                    \n",
       "                                    \n",
       "    \n",
       "    <table class=\"eli5-weights\"\n",
       "           style=\"border-collapse: collapse; border: none; margin-top: 0em; table-layout: auto; width: 100%;\">\n",
       "        <thead>\n",
       "        <tr style=\"border: none;\">\n",
       "            \n",
       "                <th style=\"padding: 0 1em 0 0.5em; text-align: right; border: none;\" title=\"Feature contribution already accounts for the feature value (for linear models, contribution = weight * feature value), and the sum of feature contributions is equal to the score or, for some classifiers, to the probability. Feature values are shown if &quot;show_feature_values&quot; is True.\">\n",
       "                    Contribution<sup>?</sup>\n",
       "                </th>\n",
       "            \n",
       "            <th style=\"padding: 0 0.5em 0 0.5em; text-align: left; border: none;\">Feature</th>\n",
       "            \n",
       "        </tr>\n",
       "        </thead>\n",
       "        <tbody>\n",
       "        \n",
       "            <tr style=\"background-color: hsl(120, 100.00%, 95.65%); border: none;\">\n",
       "    <td style=\"padding: 0 1em 0 0.5em; text-align: right; border: none;\">\n",
       "        +0.202\n",
       "    </td>\n",
       "    <td style=\"padding: 0 0.5em 0 0.5em; text-align: left; border: none;\">\n",
       "        servic\n",
       "    </td>\n",
       "    \n",
       "</tr>\n",
       "        \n",
       "            <tr style=\"background-color: hsl(120, 100.00%, 96.28%); border: none;\">\n",
       "    <td style=\"padding: 0 1em 0 0.5em; text-align: right; border: none;\">\n",
       "        +0.162\n",
       "    </td>\n",
       "    <td style=\"padding: 0 0.5em 0 0.5em; text-align: left; border: none;\">\n",
       "        kid\n",
       "    </td>\n",
       "    \n",
       "</tr>\n",
       "        \n",
       "            <tr style=\"background-color: hsl(120, 100.00%, 96.84%); border: none;\">\n",
       "    <td style=\"padding: 0 1em 0 0.5em; text-align: right; border: none;\">\n",
       "        +0.128\n",
       "    </td>\n",
       "    <td style=\"padding: 0 0.5em 0 0.5em; text-align: left; border: none;\">\n",
       "        g2\n",
       "    </td>\n",
       "    \n",
       "</tr>\n",
       "        \n",
       "            <tr style=\"background-color: hsl(120, 100.00%, 98.20%); border: none;\">\n",
       "    <td style=\"padding: 0 1em 0 0.5em; text-align: right; border: none;\">\n",
       "        +0.057\n",
       "    </td>\n",
       "    <td style=\"padding: 0 0.5em 0 0.5em; text-align: left; border: none;\">\n",
       "        expect\n",
       "    </td>\n",
       "    \n",
       "</tr>\n",
       "        \n",
       "        \n",
       "\n",
       "        \n",
       "        \n",
       "            <tr style=\"background-color: hsl(0, 100.00%, 98.10%); border: none;\">\n",
       "    <td style=\"padding: 0 1em 0 0.5em; text-align: right; border: none;\">\n",
       "        -0.062\n",
       "    </td>\n",
       "    <td style=\"padding: 0 0.5em 0 0.5em; text-align: left; border: none;\">\n",
       "        boy\n",
       "    </td>\n",
       "    \n",
       "</tr>\n",
       "        \n",
       "            <tr style=\"background-color: hsl(0, 100.00%, 97.81%); border: none;\">\n",
       "    <td style=\"padding: 0 1em 0 0.5em; text-align: right; border: none;\">\n",
       "        -0.076\n",
       "    </td>\n",
       "    <td style=\"padding: 0 0.5em 0 0.5em; text-align: left; border: none;\">\n",
       "        anymor\n",
       "    </td>\n",
       "    \n",
       "</tr>\n",
       "        \n",
       "            <tr style=\"background-color: hsl(0, 100.00%, 97.03%); border: none;\">\n",
       "    <td style=\"padding: 0 1em 0 0.5em; text-align: right; border: none;\">\n",
       "        -0.117\n",
       "    </td>\n",
       "    <td style=\"padding: 0 0.5em 0 0.5em; text-align: left; border: none;\">\n",
       "        season\n",
       "    </td>\n",
       "    \n",
       "</tr>\n",
       "        \n",
       "            <tr style=\"background-color: hsl(0, 100.00%, 92.92%); border: none;\">\n",
       "    <td style=\"padding: 0 1em 0 0.5em; text-align: right; border: none;\">\n",
       "        -0.405\n",
       "    </td>\n",
       "    <td style=\"padding: 0 0.5em 0 0.5em; text-align: left; border: none;\">\n",
       "        stop\n",
       "    </td>\n",
       "    \n",
       "</tr>\n",
       "        \n",
       "            <tr style=\"background-color: hsl(0, 100.00%, 89.28%); border: none;\">\n",
       "    <td style=\"padding: 0 1em 0 0.5em; text-align: right; border: none;\">\n",
       "        -0.733\n",
       "    </td>\n",
       "    <td style=\"padding: 0 0.5em 0 0.5em; text-align: left; border: none;\">\n",
       "        instead\n",
       "    </td>\n",
       "    \n",
       "</tr>\n",
       "        \n",
       "            <tr style=\"background-color: hsl(0, 100.00%, 87.40%); border: none;\">\n",
       "    <td style=\"padding: 0 1em 0 0.5em; text-align: right; border: none;\">\n",
       "        -0.924\n",
       "    </td>\n",
       "    <td style=\"padding: 0 0.5em 0 0.5em; text-align: left; border: none;\">\n",
       "        http\n",
       "    </td>\n",
       "    \n",
       "</tr>\n",
       "        \n",
       "            <tr style=\"background-color: hsl(0, 100.00%, 85.17%); border: none;\">\n",
       "    <td style=\"padding: 0 1em 0 0.5em; text-align: right; border: none;\">\n",
       "        -1.165\n",
       "    </td>\n",
       "    <td style=\"padding: 0 0.5em 0 0.5em; text-align: left; border: none;\">\n",
       "        &lt;BIAS&gt;\n",
       "    </td>\n",
       "    \n",
       "</tr>\n",
       "        \n",
       "            <tr style=\"background-color: hsl(0, 100.00%, 81.48%); border: none;\">\n",
       "    <td style=\"padding: 0 1em 0 0.5em; text-align: right; border: none;\">\n",
       "        -1.601\n",
       "    </td>\n",
       "    <td style=\"padding: 0 0.5em 0 0.5em; text-align: left; border: none;\">\n",
       "        io2009\n",
       "    </td>\n",
       "    \n",
       "</tr>\n",
       "        \n",
       "\n",
       "        </tbody>\n",
       "    </table>\n",
       "\n",
       "                                \n",
       "                            \n",
       "                        </td>\n",
       "                    \n",
       "                        <td style=\"padding: 0px; border: 1px solid black; vertical-align: top;\">\n",
       "                            \n",
       "                                \n",
       "                                    \n",
       "                                    \n",
       "    \n",
       "    <table class=\"eli5-weights\"\n",
       "           style=\"border-collapse: collapse; border: none; margin-top: 0em; table-layout: auto; width: 100%;\">\n",
       "        <thead>\n",
       "        <tr style=\"border: none;\">\n",
       "            \n",
       "                <th style=\"padding: 0 1em 0 0.5em; text-align: right; border: none;\" title=\"Feature contribution already accounts for the feature value (for linear models, contribution = weight * feature value), and the sum of feature contributions is equal to the score or, for some classifiers, to the probability. Feature values are shown if &quot;show_feature_values&quot; is True.\">\n",
       "                    Contribution<sup>?</sup>\n",
       "                </th>\n",
       "            \n",
       "            <th style=\"padding: 0 0.5em 0 0.5em; text-align: left; border: none;\">Feature</th>\n",
       "            \n",
       "        </tr>\n",
       "        </thead>\n",
       "        <tbody>\n",
       "        \n",
       "            <tr style=\"background-color: hsl(120, 100.00%, 80.00%); border: none;\">\n",
       "    <td style=\"padding: 0 1em 0 0.5em; text-align: right; border: none;\">\n",
       "        +1.787\n",
       "    </td>\n",
       "    <td style=\"padding: 0 0.5em 0 0.5em; text-align: left; border: none;\">\n",
       "        io2009\n",
       "    </td>\n",
       "    \n",
       "</tr>\n",
       "        \n",
       "            <tr style=\"background-color: hsl(120, 100.00%, 87.31%); border: none;\">\n",
       "    <td style=\"padding: 0 1em 0 0.5em; text-align: right; border: none;\">\n",
       "        +0.933\n",
       "    </td>\n",
       "    <td style=\"padding: 0 0.5em 0 0.5em; text-align: left; border: none;\">\n",
       "        season\n",
       "    </td>\n",
       "    \n",
       "</tr>\n",
       "        \n",
       "            <tr style=\"background-color: hsl(120, 100.00%, 91.64%); border: none;\">\n",
       "    <td style=\"padding: 0 1em 0 0.5em; text-align: right; border: none;\">\n",
       "        +0.514\n",
       "    </td>\n",
       "    <td style=\"padding: 0 0.5em 0 0.5em; text-align: left; border: none;\">\n",
       "        stop\n",
       "    </td>\n",
       "    \n",
       "</tr>\n",
       "        \n",
       "            <tr style=\"background-color: hsl(120, 100.00%, 92.67%); border: none;\">\n",
       "    <td style=\"padding: 0 1em 0 0.5em; text-align: right; border: none;\">\n",
       "        +0.426\n",
       "    </td>\n",
       "    <td style=\"padding: 0 0.5em 0 0.5em; text-align: left; border: none;\">\n",
       "        expect\n",
       "    </td>\n",
       "    \n",
       "</tr>\n",
       "        \n",
       "            <tr style=\"background-color: hsl(120, 100.00%, 92.83%); border: none;\">\n",
       "    <td style=\"padding: 0 1em 0 0.5em; text-align: right; border: none;\">\n",
       "        +0.412\n",
       "    </td>\n",
       "    <td style=\"padding: 0 0.5em 0 0.5em; text-align: left; border: none;\">\n",
       "        g2\n",
       "    </td>\n",
       "    \n",
       "</tr>\n",
       "        \n",
       "            <tr style=\"background-color: hsl(120, 100.00%, 93.68%); border: none;\">\n",
       "    <td style=\"padding: 0 1em 0 0.5em; text-align: right; border: none;\">\n",
       "        +0.344\n",
       "    </td>\n",
       "    <td style=\"padding: 0 0.5em 0 0.5em; text-align: left; border: none;\">\n",
       "        servic\n",
       "    </td>\n",
       "    \n",
       "</tr>\n",
       "        \n",
       "            <tr style=\"background-color: hsl(120, 100.00%, 95.04%); border: none;\">\n",
       "    <td style=\"padding: 0 1em 0 0.5em; text-align: right; border: none;\">\n",
       "        +0.244\n",
       "    </td>\n",
       "    <td style=\"padding: 0 0.5em 0 0.5em; text-align: left; border: none;\">\n",
       "        http\n",
       "    </td>\n",
       "    \n",
       "</tr>\n",
       "        \n",
       "            <tr style=\"background-color: hsl(120, 100.00%, 95.81%); border: none;\">\n",
       "    <td style=\"padding: 0 1em 0 0.5em; text-align: right; border: none;\">\n",
       "        +0.192\n",
       "    </td>\n",
       "    <td style=\"padding: 0 0.5em 0 0.5em; text-align: left; border: none;\">\n",
       "        anymor\n",
       "    </td>\n",
       "    \n",
       "</tr>\n",
       "        \n",
       "            <tr style=\"background-color: hsl(120, 100.00%, 96.28%); border: none;\">\n",
       "    <td style=\"padding: 0 1em 0 0.5em; text-align: right; border: none;\">\n",
       "        +0.162\n",
       "    </td>\n",
       "    <td style=\"padding: 0 0.5em 0 0.5em; text-align: left; border: none;\">\n",
       "        boy\n",
       "    </td>\n",
       "    \n",
       "</tr>\n",
       "        \n",
       "        \n",
       "\n",
       "        \n",
       "        \n",
       "            <tr style=\"background-color: hsl(0, 100.00%, 98.33%); border: none;\">\n",
       "    <td style=\"padding: 0 1em 0 0.5em; text-align: right; border: none;\">\n",
       "        -0.051\n",
       "    </td>\n",
       "    <td style=\"padding: 0 0.5em 0 0.5em; text-align: left; border: none;\">\n",
       "        instead\n",
       "    </td>\n",
       "    \n",
       "</tr>\n",
       "        \n",
       "            <tr style=\"background-color: hsl(0, 100.00%, 94.81%); border: none;\">\n",
       "    <td style=\"padding: 0 1em 0 0.5em; text-align: right; border: none;\">\n",
       "        -0.260\n",
       "    </td>\n",
       "    <td style=\"padding: 0 0.5em 0 0.5em; text-align: left; border: none;\">\n",
       "        kid\n",
       "    </td>\n",
       "    \n",
       "</tr>\n",
       "        \n",
       "            <tr style=\"background-color: hsl(0, 100.00%, 88.30%); border: none;\">\n",
       "    <td style=\"padding: 0 1em 0 0.5em; text-align: right; border: none;\">\n",
       "        -0.831\n",
       "    </td>\n",
       "    <td style=\"padding: 0 0.5em 0 0.5em; text-align: left; border: none;\">\n",
       "        &lt;BIAS&gt;\n",
       "    </td>\n",
       "    \n",
       "</tr>\n",
       "        \n",
       "\n",
       "        </tbody>\n",
       "    </table>\n",
       "\n",
       "                                \n",
       "                            \n",
       "                        </td>\n",
       "                    \n",
       "                \n",
       "            </tr>\n",
       "        </table>\n",
       "    \n",
       "\n",
       "    \n",
       "        \n",
       "\n",
       "\n",
       "    \n",
       "        \n",
       "\n",
       "\n",
       "    \n",
       "        \n",
       "\n",
       "\n",
       "    \n",
       "\n",
       "\n",
       "    \n",
       "\n",
       "    \n",
       "\n",
       "    \n",
       "\n",
       "\n",
       "    \n",
       "\n",
       "    \n",
       "\n",
       "    \n",
       "\n",
       "    \n",
       "\n",
       "    \n",
       "\n",
       "    \n",
       "\n",
       "\n",
       "    \n",
       "\n",
       "    \n",
       "\n",
       "    \n",
       "\n",
       "    \n",
       "\n",
       "    \n",
       "\n",
       "    \n",
       "\n",
       "\n",
       "\n"
      ],
      "text/plain": [
       "Explanation(estimator=\"LogisticRegression(C=1.0, class_weight=None, dual=False, fit_intercept=True,\\n          intercept_scaling=1, max_iter=100, multi_class='ovr', n_jobs=1,\\n          penalty='l2', random_state=None, solver='liblinear', tol=0.0001,\\n          verbose=0, warm_start=False)\", description=None, error=None, method='linear model', is_regression=False, targets=[TargetExplanation(target=0, feature_weights=FeatureWeights(pos=[FeatureWeight(feature='instead', weight=0.67180714974033151, std=None, value=1.0), FeatureWeight(feature='http', weight=0.58595435538928708, std=None, value=1.0), FeatureWeight(feature='kid', weight=0.054430154907830132, std=None, value=1.0)], neg=[FeatureWeight(feature='season', weight=-1.0115208916559508, std=None, value=1.0), FeatureWeight(feature='io2009', weight=-0.80626273624224243, std=None, value=1.0), FeatureWeight(feature='expect', weight=-0.71738996011804057, std=None, value=1.0), FeatureWeight(feature='g2', weight=-0.70328217629626499, std=None, value=1.0), FeatureWeight(feature='servic', weight=-0.65998231008232644, std=None, value=1.0), FeatureWeight(feature='<BIAS>', weight=-0.4991715224110555, std=None, value=1.0), FeatureWeight(feature='anymor', weight=-0.18077969512168424, std=None, value=1.0), FeatureWeight(feature='stop', weight=-0.15752912825462981, std=None, value=1.0), FeatureWeight(feature='boy', weight=-0.14131424855031213, std=None, value=1.0)], pos_remaining=0, neg_remaining=0), proba=0.027037386761633864, score=-3.5650410086950579, weighted_spans=None), TargetExplanation(target=2, feature_weights=FeatureWeights(pos=[FeatureWeight(feature='servic', weight=0.20194167675292399, std=None, value=1.0), FeatureWeight(feature='kid', weight=0.16181946575514988, std=None, value=1.0), FeatureWeight(feature='g2', weight=0.12796567504117912, std=None, value=1.0), FeatureWeight(feature='expect', weight=0.057418138545891798, std=None, value=1.0)], neg=[FeatureWeight(feature='io2009', weight=-1.6006129488343921, std=None, value=1.0), FeatureWeight(feature='<BIAS>', weight=-1.1654641926582481, std=None, value=1.0), FeatureWeight(feature='http', weight=-0.92391517454890582, std=None, value=1.0), FeatureWeight(feature='instead', weight=-0.73287735326535586, std=None, value=1.0), FeatureWeight(feature='stop', weight=-0.40497839069309277, std=None, value=1.0), FeatureWeight(feature='season', weight=-0.11702003692002209, std=None, value=1.0), FeatureWeight(feature='anymor', weight=-0.075914533178062044, std=None, value=1.0), FeatureWeight(feature='boy', weight=-0.061912676614150716, std=None, value=1.0)], pos_remaining=0, neg_remaining=0), proba=0.010442969490973789, score=-4.5335503506170847, weighted_spans=None), TargetExplanation(target=4, feature_weights=FeatureWeights(pos=[FeatureWeight(feature='io2009', weight=1.7867572806738949, std=None, value=1.0), FeatureWeight(feature='season', weight=0.93317731625179134, std=None, value=1.0), FeatureWeight(feature='stop', weight=0.51363351813692104, std=None, value=1.0), FeatureWeight(feature='expect', weight=0.42631862270738369, std=None, value=1.0), FeatureWeight(feature='g2', weight=0.41236026383917357, std=None, value=1.0), FeatureWeight(feature='servic', weight=0.3444672913107148, std=None, value=1.0), FeatureWeight(feature='http', weight=0.24394182769757952, std=None, value=1.0), FeatureWeight(feature='anymor', weight=0.19154225794138829, std=None, value=1.0), FeatureWeight(feature='boy', weight=0.16169766430263929, std=None, value=1.0)], neg=[FeatureWeight(feature='<BIAS>', weight=-0.83101231374149731, std=None, value=1.0), FeatureWeight(feature='kid', weight=-0.25992593393808877, std=None, value=1.0), FeatureWeight(feature='instead', weight=-0.051303078360734305, std=None, value=1.0)], pos_remaining=0, neg_remaining=0), proba=0.9625196437473923, score=3.8716547168211672, weighted_spans=None)], feature_importances=None, decision_tree=None, highlight_spaces=None, transition_features=None)"
      ]
     },
     "execution_count": 105,
     "metadata": {},
     "output_type": "execute_result"
    }
   ],
   "source": [
    "eli5.explain_prediction_sklearn(clf, text, feature_names=list(cv.vocabulary_.keys()))"
   ]
  },
  {
   "cell_type": "code",
   "execution_count": 58,
   "metadata": {
    "ExecuteTime": {
     "end_time": "2017-07-27T11:36:52.816601",
     "start_time": "2017-07-27T11:36:52.813856"
    },
    "collapsed": false
   },
   "outputs": [],
   "source": [
    "# X_bow"
   ]
  },
  {
   "cell_type": "markdown",
   "metadata": {},
   "source": [
    "## TF-IDF"
   ]
  },
  {
   "cell_type": "markdown",
   "metadata": {},
   "source": [
    "Введем новую метрику: __TF-IDF__, что расшифровывается как _\"Term Frequency-Inverse Document Frequency\"_. Именно из таких двух частей, двух множителей она и состоит. Обозначим некоторый встретившийся в документе $d$ (в нашем случае в твите) нам токен за $t$, тогда TF-IDF будет вычисляться как:\n",
    "\n",
    "$$ TFIDF_{t,d} = TF_{t,d} \\cdot IDF_{t,d}$$\n",
    "\n",
    "* $TF_{t,d}$ - частота встречаемости терма $t$ в документе $d$. Для базовой имплементации достаточно просто посчитать количество, хотя иногда это количество логарифмируют.\n",
    "\n",
    "\n",
    "* $IDF_{t,d} = \\log{\\frac{D}{n_d}}$ - обратная частота в документах измеряет важность терма $t$ во всей коллекции. В приведенной здесь формуле $D$ - общее количество документов, $n_d$ - количество документов, содержащих $t$."
   ]
  },
  {
   "cell_type": "code",
   "execution_count": 59,
   "metadata": {
    "ExecuteTime": {
     "end_time": "2017-07-27T11:39:22.412467",
     "start_time": "2017-07-27T11:39:22.409500"
    },
    "collapsed": true
   },
   "outputs": [],
   "source": [
    "from sklearn.feature_extraction.text import TfidfVectorizer"
   ]
  },
  {
   "cell_type": "code",
   "execution_count": 61,
   "metadata": {
    "ExecuteTime": {
     "end_time": "2017-07-27T11:39:32.828663",
     "start_time": "2017-07-27T11:39:32.825800"
    },
    "collapsed": true
   },
   "outputs": [],
   "source": [
    "tfidf = TfidfVectorizer(min_df=1)"
   ]
  },
  {
   "cell_type": "code",
   "execution_count": 62,
   "metadata": {
    "ExecuteTime": {
     "end_time": "2017-07-27T11:39:55.400742",
     "start_time": "2017-07-27T11:39:55.383794"
    },
    "collapsed": true
   },
   "outputs": [],
   "source": [
    "X_tfidf = tfidf.fit_transform(df.frequent_cleansed).todense()"
   ]
  },
  {
   "cell_type": "code",
   "execution_count": 65,
   "metadata": {
    "ExecuteTime": {
     "end_time": "2017-07-27T11:40:54.914333",
     "start_time": "2017-07-27T11:40:54.906938"
    },
    "collapsed": false
   },
   "outputs": [
    {
     "data": {
      "text/plain": [
       "[('arab', 6.5194589151915734),\n",
       " ('blah', 6.5194589151915734),\n",
       " ('cox', 6.5194589151915734),\n",
       " ('d90', 6.5194589151915734),\n",
       " ('dum', 6.5194589151915734),\n",
       " ('eo', 6.5194589151915734),\n",
       " ('feed', 6.5194589151915734),\n",
       " ('fish', 6.5194589151915734),\n",
       " ('fit', 6.5194589151915734),\n",
       " ('hummer', 6.5194589151915734),\n",
       " ('india', 6.5194589151915734),\n",
       " ('indian', 6.5194589151915734),\n",
       " ('number', 6.5194589151915734),\n",
       " ('receip', 6.5194589151915734),\n",
       " ('sale', 6.5194589151915734),\n",
       " ('tenni', 6.5194589151915734),\n",
       " ('upsid', 6.5194589151915734),\n",
       " ('view', 6.5194589151915734),\n",
       " ('wrong', 6.5194589151915734),\n",
       " ('2010', 6.1139938070834088)]"
      ]
     },
     "execution_count": 65,
     "metadata": {},
     "output_type": "execute_result"
    }
   ],
   "source": [
    "idf = tfidf.idf_\n",
    "terms_score  = list(zip(tfidf.get_feature_names(), idf))\n",
    "sorted(terms_score, key=lambda x: -x[1])[:20]"
   ]
  },
  {
   "cell_type": "markdown",
   "metadata": {},
   "source": [
    "## Word2Vec"
   ]
  },
  {
   "cell_type": "markdown",
   "metadata": {},
   "source": [
    "https://habrahabr.ru/company/ods/blog/329410/\n",
    "\n",
    "https://www.kaggle.com/cpmpml/spell-checker-using-word2vec"
   ]
  },
  {
   "cell_type": "markdown",
   "metadata": {},
   "source": [
    "## Счетчики"
   ]
  },
  {
   "cell_type": "markdown",
   "metadata": {
    "collapsed": true
   },
   "source": [
    "Можно добавить признак, равный:\n",
    "\n",
    "$$ (n_{dw})_{w \\in W} $$\n",
    "\n",
    ", то есть количество вхождений слова $w$ в документ $d$."
   ]
  },
  {
   "cell_type": "markdown",
   "metadata": {},
   "source": [
    "## Хэширование"
   ]
  },
  {
   "cell_type": "markdown",
   "metadata": {},
   "source": [
    "То есть применение преобразования вида $ w \\rightarrow h(w) $, где $h(w)$ - хэш-функция с $2^b$ значениями. Получаем \"кластеризацию\" слов, если $2^b < |W|$."
   ]
  },
  {
   "cell_type": "markdown",
   "metadata": {},
   "source": [
    "## Тематическое моделирование"
   ]
  },
  {
   "cell_type": "markdown",
   "metadata": {},
   "source": [
    "[Работа Воронцова К.В.](http://www.machinelearning.ru/wiki/images/d/d5/Voron17survey-artm.pdf)\n",
    "\n",
    "[Github](https://habrahabr.ru/post/312596/)\n",
    "\n",
    "* [BigARTM](https://github.com/bigartm/bigartm)"
   ]
  },
  {
   "cell_type": "markdown",
   "metadata": {},
   "source": [
    "## N-граммы"
   ]
  },
  {
   "cell_type": "markdown",
   "metadata": {},
   "source": [
    "* Простейший случай - __биграммы__: мы просто работаем с парами слов, считая, что они неразделимы.\n",
    "* Это же обощается на N идущих слов подряд: __N-граммы (N-grams)__\n",
    "* Наконец, если мы разрешаем быть словам в N-граммах разнесенными не больше чем на $k$, то это будет называть __k-skip-N-grams__."
   ]
  },
  {
   "cell_type": "markdown",
   "metadata": {},
   "source": [
    "## kNN"
   ]
  },
  {
   "cell_type": "markdown",
   "metadata": {},
   "source": [
    "В ближайших соседей можно, как мы знаем, загрузить свою метрику. Для текстов ею вполне может послужить __LSH__ (Locality Sensitive Hashing), реализованный, например, в пакете [datasketch](https://github.com/ekzhu/datasketch)."
   ]
  },
  {
   "cell_type": "markdown",
   "metadata": {
    "ExecuteTime": {
     "end_time": "2017-07-26T15:53:05.801945",
     "start_time": "2017-07-26T15:53:05.798360"
    }
   },
   "source": [
    "# Модели"
   ]
  },
  {
   "cell_type": "markdown",
   "metadata": {},
   "source": [
    "Вкратце - мораль: как ты тексты не кодируй, выходят очень разреженные матрицы. Поэтому особенно хорошо заходят линейные модели типа той же логистической регрессии, которые умеют работать с разреженными признаками."
   ]
  },
  {
   "cell_type": "code",
   "execution_count": 66,
   "metadata": {
    "ExecuteTime": {
     "end_time": "2017-07-27T12:00:24.803181",
     "start_time": "2017-07-27T12:00:24.800252"
    },
    "collapsed": true
   },
   "outputs": [],
   "source": [
    "from sklearn.model_selection import cross_val_score"
   ]
  },
  {
   "cell_type": "code",
   "execution_count": 74,
   "metadata": {
    "ExecuteTime": {
     "end_time": "2017-07-27T12:02:45.837483",
     "start_time": "2017-07-27T12:02:45.834578"
    },
    "collapsed": true
   },
   "outputs": [],
   "source": [
    "from sklearn.linear_model import LogisticRegression"
   ]
  },
  {
   "cell_type": "code",
   "execution_count": 75,
   "metadata": {
    "ExecuteTime": {
     "end_time": "2017-07-27T12:02:46.030348",
     "start_time": "2017-07-27T12:02:46.027317"
    },
    "collapsed": true
   },
   "outputs": [],
   "source": [
    "clf = LogisticRegression()"
   ]
  },
  {
   "cell_type": "code",
   "execution_count": 76,
   "metadata": {
    "ExecuteTime": {
     "end_time": "2017-07-27T12:02:46.300598",
     "start_time": "2017-07-27T12:02:46.278028"
    },
    "collapsed": false
   },
   "outputs": [
    {
     "name": "stdout",
     "output_type": "stream",
     "text": [
      "0.674703240471 +/- 0.0256281836121\n"
     ]
    }
   ],
   "source": [
    "scores = cross_val_score(clf, X_bow, y)\n",
    "print(np.mean(scores), '+/-', 2 * np.std(scores))"
   ]
  },
  {
   "cell_type": "code",
   "execution_count": 77,
   "metadata": {
    "ExecuteTime": {
     "end_time": "2017-07-27T12:02:46.900534",
     "start_time": "2017-07-27T12:02:46.897459"
    },
    "collapsed": true
   },
   "outputs": [],
   "source": [
    "import eli5"
   ]
  },
  {
   "cell_type": "code",
   "execution_count": null,
   "metadata": {
    "collapsed": true
   },
   "outputs": [],
   "source": [
    "eli5.explain_prediction_sklearn(clf, )"
   ]
  },
  {
   "cell_type": "code",
   "execution_count": 70,
   "metadata": {
    "ExecuteTime": {
     "end_time": "2017-07-27T12:00:34.461122",
     "start_time": "2017-07-27T12:00:34.434386"
    },
    "collapsed": true
   },
   "outputs": [],
   "source": [
    "from sklearn.ensemble import RandomForestClassifier"
   ]
  },
  {
   "cell_type": "code",
   "execution_count": 71,
   "metadata": {
    "ExecuteTime": {
     "end_time": "2017-07-27T12:00:36.002730",
     "start_time": "2017-07-27T12:00:35.386086"
    },
    "collapsed": false
   },
   "outputs": [
    {
     "name": "stdout",
     "output_type": "stream",
     "text": [
      "0.630453368546 +/- 0.086873101698\n"
     ]
    }
   ],
   "source": [
    "scores = cross_val_score(RandomForestClassifier(n_estimators=100), X_bow, y)\n",
    "print(np.mean(scores), '+/-', 2 * np.std(scores))"
   ]
  }
 ],
 "metadata": {
  "kernelspec": {
   "display_name": "Python 3",
   "language": "python",
   "name": "python3"
  },
  "language_info": {
   "codemirror_mode": {
    "name": "ipython",
    "version": 3
   },
   "file_extension": ".py",
   "mimetype": "text/x-python",
   "name": "python",
   "nbconvert_exporter": "python",
   "pygments_lexer": "ipython3",
   "version": "3.6.0"
  },
  "toc": {
   "colors": {
    "hover_highlight": "#DAA520",
    "running_highlight": "#FF0000",
    "selected_highlight": "#FFD700"
   },
   "moveMenuLeft": true,
   "nav_menu": {
    "height": "246px",
    "width": "252px"
   },
   "navigate_menu": true,
   "number_sections": true,
   "sideBar": true,
   "threshold": 4,
   "toc_cell": false,
   "toc_position": {
    "height": "550px",
    "left": "0px",
    "right": "1068px",
    "top": "106px",
    "width": "212px"
   },
   "toc_section_display": "block",
   "toc_window_display": false
  }
 },
 "nbformat": 4,
 "nbformat_minor": 2
}
